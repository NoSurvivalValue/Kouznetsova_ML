{
 "cells": [
  {
   "cell_type": "code",
   "execution_count": 48,
   "metadata": {
    "collapsed": true
   },
   "outputs": [],
   "source": [
    "# coding: utf-8\n",
    "import numpy as np\n",
    "import pandas as pd\n",
    "import matplotlib.pyplot as plt\n",
    "# get_ipython().magic('matplotlib inline')\n",
    "from nltk import word_tokenize\n",
    "import re\n",
    "import itertools\n",
    "\n",
    "from sklearn.ensemble import RandomForestClassifier\n",
    "from sklearn.tree import DecisionTreeClassifier\n",
    "from sklearn.feature_extraction.text import CountVectorizer, TfidfTransformer, TfidfVectorizer\n",
    "from sklearn.naive_bayes import MultinomialNB\n",
    "from sklearn.metrics import classification_report, f1_score, accuracy_score, confusion_matrix, precision_score\n",
    "from sklearn.pipeline import Pipeline\n",
    "from sklearn.model_selection import StratifiedKFold, cross_val_score, train_test_split\n",
    "from sklearn.linear_model import LogisticRegression"
   ]
  },
  {
   "cell_type": "code",
   "execution_count": 27,
   "metadata": {
    "collapsed": true
   },
   "outputs": [],
   "source": [
    "def plot_confusion_matrix(cm, classes,\n",
    "                          normalize=False,\n",
    "                          title='Confusion matrix',\n",
    "                          cmap=plt.cm.Blues):\n",
    "    \"\"\"\n",
    "    This function prints and plots the confusion matrix.\n",
    "    Normalization can be applied by setting `normalize=True`.\n",
    "    \"\"\"\n",
    "    plt.imshow(cm, interpolation='nearest', cmap=cmap)\n",
    "    plt.title(title)\n",
    "    plt.colorbar()\n",
    "    tick_marks = np.arange(len(classes))\n",
    "    plt.xticks(tick_marks, classes, rotation=45)\n",
    "    plt.yticks(tick_marks, classes)\n",
    "\n",
    "    if normalize:\n",
    "        cm = cm.astype('float') / cm.sum(axis=1)[:, np.newaxis]\n",
    "        print(\"Normalized confusion matrix\")\n",
    "    else:\n",
    "        print('Confusion matrix, without normalization')\n",
    "\n",
    "    print(cm)\n",
    "\n",
    "    thresh = cm.max() / 2.\n",
    "    for i, j in itertools.product(range(cm.shape[0]), range(cm.shape[1])):\n",
    "        plt.text(j, i, cm[i, j],\n",
    "                 horizontalalignment=\"center\",\n",
    "                 color=\"white\" if cm[i, j] > thresh else \"black\")\n",
    "\n",
    "    plt.tight_layout()\n",
    "    plt.ylabel('True label')\n",
    "    plt.xlabel('Predicted label')"
   ]
  },
  {
   "cell_type": "code",
   "execution_count": 2,
   "metadata": {
    "collapsed": true
   },
   "outputs": [],
   "source": [
    "lines = pd.read_csv('All-seasons.csv', sep=',',\n",
    "                           names=[\"season\", \"episode\", \"character\", \"line\"])"
   ]
  },
  {
   "cell_type": "code",
   "execution_count": 3,
   "metadata": {
    "collapsed": true
   },
   "outputs": [],
   "source": [
    "cols_to_keep = ['character', 'line']\n",
    "data = lines[cols_to_keep]"
   ]
  },
  {
   "cell_type": "code",
   "execution_count": 4,
   "metadata": {
    "collapsed": true
   },
   "outputs": [],
   "source": [
    "characters = ['Cartman', 'Kyle', 'Kenny', 'Stan']\n",
    "main_data = data[data['character'].isin(characters)]"
   ]
  },
  {
   "cell_type": "code",
   "execution_count": 5,
   "metadata": {
    "collapsed": true
   },
   "outputs": [],
   "source": [
    "main_data = main_data.dropna()"
   ]
  },
  {
   "cell_type": "code",
   "execution_count": 6,
   "metadata": {
    "collapsed": true
   },
   "outputs": [],
   "source": [
    "length = []\n",
    "character = []\n",
    "lines = []\n",
    "for m in main_data['line']:\n",
    "    m = m.strip()\n",
    "    m = m.lower()\n",
    "    words = word_tokenize(m)\n",
    "    length.append(len(words))\n",
    "    lines.append(m)\n",
    "for c in main_data['character']:\n",
    "    character.append(c)"
   ]
  },
  {
   "cell_type": "code",
   "execution_count": 7,
   "metadata": {
    "collapsed": true
   },
   "outputs": [],
   "source": [
    "new_data = pd.DataFrame(\n",
    "    {'character': character,\n",
    "     'length': length,\n",
    "     'line': lines\n",
    "    })"
   ]
  },
  {
   "cell_type": "code",
   "execution_count": 8,
   "metadata": {
    "collapsed": false
   },
   "outputs": [
    {
     "name": "stdout",
     "output_type": "stream",
     "text": [
      "                      length\n",
      "character                   \n",
      "Cartman   count  9774.000000\n",
      "          mean     17.663802\n",
      "          std      19.026016\n",
      "          min       1.000000\n",
      "          25%       7.000000\n",
      "          50%      12.000000\n",
      "          75%      22.000000\n",
      "          max     351.000000\n",
      "Kenny     count   881.000000\n",
      "          mean      8.861521\n",
      "          std       7.736653\n",
      "          min       2.000000\n",
      "          25%       4.000000\n",
      "          50%       7.000000\n",
      "          75%      11.000000\n",
      "          max     144.000000\n",
      "Kyle      count  7099.000000\n",
      "          mean     11.989294\n",
      "          std      11.124612\n",
      "          min       1.000000\n",
      "          25%       5.000000\n",
      "          50%       9.000000\n",
      "          75%      15.000000\n",
      "          max     159.000000\n",
      "Stan      count  7680.000000\n",
      "          mean     12.042578\n",
      "          std      11.029203\n",
      "          min       1.000000\n",
      "          25%       5.000000\n",
      "          50%       9.000000\n",
      "          75%      15.000000\n",
      "          max     177.000000\n"
     ]
    }
   ],
   "source": [
    "print(new_data.groupby('character').describe())"
   ]
  },
  {
   "cell_type": "code",
   "execution_count": null,
   "metadata": {
    "collapsed": true
   },
   "outputs": [],
   "source": [
    "# CountVectorizer, Lemmatize"
   ]
  },
  {
   "cell_type": "code",
   "execution_count": 12,
   "metadata": {
    "collapsed": true
   },
   "outputs": [],
   "source": [
    "from nltk.stem.wordnet import WordNetLemmatizer\n",
    "lmtzr = WordNetLemmatizer()\n",
    "from nltk.tokenize import RegexpTokenizer"
   ]
  },
  {
   "cell_type": "code",
   "execution_count": 13,
   "metadata": {
    "collapsed": false
   },
   "outputs": [],
   "source": [
    "tokenizer = RegexpTokenizer(r'\\w+')\n",
    "def lemmatize(text):\n",
    "    text = text.lower()\n",
    "    words = tokenizer.tokenize(text)\n",
    "    return [lmtzr.lemmatize(w) for w in words]"
   ]
  },
  {
   "cell_type": "code",
   "execution_count": 14,
   "metadata": {
    "collapsed": true
   },
   "outputs": [],
   "source": [
    "bow_transformer1 = CountVectorizer(tokenizer=lemmatize).fit_transform(new_data['line'])"
   ]
  },
  {
   "cell_type": "code",
   "execution_count": 20,
   "metadata": {
    "collapsed": true
   },
   "outputs": [],
   "source": [
    "X_train1, X_test1, y_train1, y_test1 = train_test_split(bow_transformer1, new_data['character'],\n",
    "                                                               test_size=0.2)"
   ]
  },
  {
   "cell_type": "code",
   "execution_count": 29,
   "metadata": {
    "collapsed": true
   },
   "outputs": [],
   "source": [
    "# Наивный Байес"
   ]
  },
  {
   "cell_type": "code",
   "execution_count": 51,
   "metadata": {
    "collapsed": false
   },
   "outputs": [
    {
     "name": "stdout",
     "output_type": "stream",
     "text": [
      "             precision    recall  f1-score   support\n",
      "\n",
      "    Cartman       0.59      0.62      0.60      1949\n",
      "      Kenny       0.16      0.31      0.21       168\n",
      "       Kyle       0.43      0.36      0.39      1405\n",
      "       Stan       0.46      0.45      0.45      1565\n",
      "\n",
      "avg / total       0.49      0.48      0.49      5087\n",
      "\n",
      "Confusion matrix, without normalization\n",
      "[[1204  120  277  348]\n",
      " [  52   52   27   37]\n",
      " [ 371   74  501  459]\n",
      " [ 421   71  364  709]]\n"
     ]
    },
    {
     "data": {
      "image/png": "[encoded data removed]",
      "text/plain": [
       "<matplotlib.figure.Figure at 0x1cbb3f28>"
      ]
     },
     "metadata": {},
     "output_type": "display_data"
    }
   ],
   "source": [
    "nb = MultinomialNB(fit_prior=False)\n",
    "character_detector1 = nb.fit(X_train1, y_train1)\n",
    "char_pred1 = character_detector1.predict(X_test1)\n",
    "print(classification_report(y_test1, char_pred1))\n",
    "plt.figure()\n",
    "plot_confusion_matrix(confusion_matrix(y_test1, char_pred1), classes=character_detector1.classes_,\n",
    "                      title='Confusion matrix, without normalization', cmap=plt.cm.PuRd)\n",
    "plt.show()"
   ]
  },
  {
   "cell_type": "code",
   "execution_count": 52,
   "metadata": {
    "collapsed": true
   },
   "outputs": [],
   "source": [
    "# Все метрики низкие. Лучше всего классифицируется Картмен, но даже у него много реплик приписаны другим \n",
    "# и ему приписаны много неправильных чужик реплик. Хуже всего классифицируется Кенни."
   ]
  },
  {
   "cell_type": "code",
   "execution_count": 53,
   "metadata": {
    "collapsed": true
   },
   "outputs": [],
   "source": [
    "# Дерево решений"
   ]
  },
  {
   "cell_type": "code",
   "execution_count": 56,
   "metadata": {
    "collapsed": false
   },
   "outputs": [
    {
     "name": "stdout",
     "output_type": "stream",
     "text": [
      "             precision    recall  f1-score   support\n",
      "\n",
      "    Cartman       0.52      0.54      0.53      1949\n",
      "      Kenny       0.22      0.15      0.18       168\n",
      "       Kyle       0.39      0.38      0.39      1405\n",
      "       Stan       0.41      0.41      0.41      1565\n",
      "\n",
      "avg / total       0.44      0.44      0.44      5087\n",
      "\n",
      "Confusion matrix, without normalization\n",
      "[[1057   46  389  457]\n",
      " [  62   25   38   43]\n",
      " [ 440   22  535  408]\n",
      " [ 493   22  408  642]]\n"
     ]
    },
    {
     "data": {
      "image/png": "[encoded data removed]",
      "text/plain": [
       "<matplotlib.figure.Figure at 0x13b622e8>"
      ]
     },
     "metadata": {},
     "output_type": "display_data"
    }
   ],
   "source": [
    "clf1 = DecisionTreeClassifier()\n",
    "clf1.fit(X_train1, y_train1)\n",
    "char_pred_clf1 = clf1.predict(X_test1)\n",
    "print(classification_report(y_test1, char_pred_clf1))\n",
    "plt.figure()\n",
    "plot_confusion_matrix(confusion_matrix(y_test1, char_pred_clf1), classes=clf1.classes_,\n",
    "                      title='Confusion matrix, without normalization', cmap=plt.cm.BuGn)\n",
    "plt.show()"
   ]
  },
  {
   "cell_type": "code",
   "execution_count": 35,
   "metadata": {
    "collapsed": true
   },
   "outputs": [],
   "source": [
    "# Метрики стали хуже. По прежнему лучше всего классифицируется Картмен. Хуже всего Кенни."
   ]
  },
  {
   "cell_type": "code",
   "execution_count": 57,
   "metadata": {
    "collapsed": false
   },
   "outputs": [
    {
     "name": "stdout",
     "output_type": "stream",
     "text": [
      "             precision    recall  f1-score   support\n",
      "\n",
      "    Cartman       0.54      0.67      0.60      1949\n",
      "      Kenny       0.34      0.12      0.18       168\n",
      "       Kyle       0.43      0.34      0.38      1405\n",
      "       Stan       0.44      0.41      0.43      1565\n",
      "\n",
      "avg / total       0.47      0.48      0.47      5087\n",
      "\n",
      "Confusion matrix, without normalization\n",
      "[[1313   21  266  349]\n",
      " [  64   21   31   52]\n",
      " [ 495    9  479  422]\n",
      " [ 569   10  337  649]]\n"
     ]
    },
    {
     "data": {
      "image/png": "[encoded data removed]",
      "text/plain": [
       "<matplotlib.figure.Figure at 0x1378eb00>"
      ]
     },
     "metadata": {},
     "output_type": "display_data"
    }
   ],
   "source": [
    "rf1 = RandomForestClassifier(n_estimators=50)\n",
    "rf1.fit(X_train1, y_train1)\n",
    "char_pred_rf1 = rf1.predict(X_test1)\n",
    "print(classification_report(y_test1, char_pred_rf1))\n",
    "plt.figure()\n",
    "plot_confusion_matrix(confusion_matrix(y_test1, char_pred_rf1), classes=rf1.classes_,\n",
    "                      title='Confusion matrix, without normalization', cmap=plt.cm.PuBu)\n",
    "plt.show()"
   ]
  },
  {
   "cell_type": "code",
   "execution_count": 37,
   "metadata": {
    "collapsed": true
   },
   "outputs": [],
   "source": [
    "# Метрики ниже чем у Байеса, но выше чем дерево решений. По прежнему лучше всего классифицируется Картмен. Хуже всего Кенни."
   ]
  },
  {
   "cell_type": "code",
   "execution_count": 38,
   "metadata": {
    "collapsed": true
   },
   "outputs": [],
   "source": [
    "# Логистическая регрессия"
   ]
  },
  {
   "cell_type": "code",
   "execution_count": 59,
   "metadata": {
    "collapsed": false
   },
   "outputs": [
    {
     "name": "stdout",
     "output_type": "stream",
     "text": [
      "             precision    recall  f1-score   support\n",
      "\n",
      "    Cartman       0.64      0.60      0.62      1949\n",
      "      Kenny       0.15      0.50      0.23       168\n",
      "       Kyle       0.43      0.38      0.40      1405\n",
      "       Stan       0.46      0.43      0.44      1565\n",
      "\n",
      "avg / total       0.51      0.48      0.49      5087\n",
      "\n",
      "Confusion matrix, without normalization\n",
      "[[1163  174  290  322]\n",
      " [  22   84   30   32]\n",
      " [ 290  141  533  441]\n",
      " [ 355  154  389  667]]\n"
     ]
    },
    {
     "data": {
      "image/png": "[encoded data removed]",
      "text/plain": [
       "<matplotlib.figure.Figure at 0x11bbc4a8>"
      ]
     },
     "metadata": {},
     "output_type": "display_data"
    }
   ],
   "source": [
    "lr1 = LogisticRegression(class_weight='balanced')\n",
    "lr1.fit(X_train1, y_train1)\n",
    "char_pred_lr1 = lr1.predict(X_test1)\n",
    "print(classification_report(y_test1, char_pred_lr1))\n",
    "plt.figure()\n",
    "plot_confusion_matrix(confusion_matrix(y_test1, char_pred_lr1), classes=lr1.classes_,\n",
    "                      title='Confusion matrix, without normalization', cmap=plt.cm.Reds)\n",
    "plt.show()"
   ]
  },
  {
   "cell_type": "code",
   "execution_count": 41,
   "metadata": {
    "collapsed": true
   },
   "outputs": [],
   "source": [
    "# У логистической регрессии метрики как у Наивного Байеса. Немного лучше классифицируется Кенни и Кайл, но Картмен и Стэн хуже."
   ]
  },
  {
   "cell_type": "code",
   "execution_count": 43,
   "metadata": {
    "collapsed": false
   },
   "outputs": [
    {
     "name": "stdout",
     "output_type": "stream",
     "text": [
      "[[ 0.41961394 -0.32880009  0.47350041 ...,  0.27972858 -0.2309847\n",
      "  -0.18540166]\n",
      " [-0.23244181 -0.10648104 -0.25839023 ..., -0.00277471 -0.03998795\n",
      "  -0.22191949]\n",
      " [-0.21725893 -0.07412641 -0.96677731 ..., -0.22311785  0.51421999\n",
      "  -0.22636921]\n",
      " [-0.22115222  0.58321396  0.36869971 ..., -0.07709571 -0.20565128\n",
      "   0.48442605]]\n"
     ]
    }
   ],
   "source": [
    "print(lr1.coef_)"
   ]
  },
  {
   "cell_type": "code",
   "execution_count": 44,
   "metadata": {
    "collapsed": true
   },
   "outputs": [],
   "source": [
    "# Тут сейчас так много фичей, что невозможно разобрать, у чего какой коэфиициент."
   ]
  },
  {
   "cell_type": "code",
   "execution_count": 45,
   "metadata": {
    "collapsed": true
   },
   "outputs": [],
   "source": [
    "# TfidfVectorizer, Lemmatize"
   ]
  },
  {
   "cell_type": "code",
   "execution_count": 46,
   "metadata": {
    "collapsed": true
   },
   "outputs": [],
   "source": [
    "X_train2, X_test2, y_train2, y_test2 = train_test_split(new_data['line'], new_data['character'],\n",
    "                                                               test_size=0.2)"
   ]
  },
  {
   "cell_type": "code",
   "execution_count": 49,
   "metadata": {
    "collapsed": false
   },
   "outputs": [],
   "source": [
    "vectorizer = TfidfVectorizer(tokenizer=lemmatize)\n",
    "X_train2 = vectorizer.fit_transform(X_train2)\n",
    "X_test2 = vectorizer.transform(X_test2)"
   ]
  },
  {
   "cell_type": "code",
   "execution_count": 50,
   "metadata": {
    "collapsed": true
   },
   "outputs": [],
   "source": [
    "# Наивный Байес"
   ]
  },
  {
   "cell_type": "code",
   "execution_count": 58,
   "metadata": {
    "collapsed": false
   },
   "outputs": [
    {
     "name": "stdout",
     "output_type": "stream",
     "text": [
      "             precision    recall  f1-score   support\n",
      "\n",
      "    Cartman       0.57      0.67      0.62      1928\n",
      "      Kenny       0.24      0.15      0.19       181\n",
      "       Kyle       0.46      0.32      0.38      1431\n",
      "       Stan       0.45      0.51      0.48      1547\n",
      "\n",
      "avg / total       0.49      0.50      0.49      5087\n",
      "\n",
      "Confusion matrix, without normalization\n",
      "[[1287   41  219  381]\n",
      " [  77   28   23   53]\n",
      " [ 438   22  454  517]\n",
      " [ 450   24  291  782]]\n"
     ]
    },
    {
     "data": {
      "image/png": "[encoded data removed]",
      "text/plain": [
       "<matplotlib.figure.Figure at 0x13b624a8>"
      ]
     },
     "metadata": {},
     "output_type": "display_data"
    }
   ],
   "source": [
    "nb = MultinomialNB(fit_prior=False)\n",
    "character_detector2 = nb.fit(X_train2, y_train2)\n",
    "char_pred2 = character_detector2.predict(X_test2)\n",
    "print(classification_report(y_test2, char_pred2))\n",
    "plt.figure()\n",
    "plot_confusion_matrix(confusion_matrix(y_test2, char_pred2), classes=character_detector2.classes_,\n",
    "                      title='Confusion matrix, without normalization', cmap=plt.cm.PuRd)\n",
    "plt.show()"
   ]
  },
  {
   "cell_type": "code",
   "execution_count": null,
   "metadata": {
    "collapsed": true
   },
   "outputs": [],
   "source": [
    "# У этого наивного Байеса по сравнению с предыдущим особо ничего не поменялось. Хуже начал классифицироваться Кенни."
   ]
  },
  {
   "cell_type": "code",
   "execution_count": 60,
   "metadata": {
    "collapsed": true
   },
   "outputs": [],
   "source": [
    "# Дерево решений"
   ]
  },
  {
   "cell_type": "code",
   "execution_count": 62,
   "metadata": {
    "collapsed": false
   },
   "outputs": [
    {
     "name": "stdout",
     "output_type": "stream",
     "text": [
      "             precision    recall  f1-score   support\n",
      "\n",
      "    Cartman       0.52      0.56      0.54      1928\n",
      "      Kenny       0.26      0.17      0.21       181\n",
      "       Kyle       0.39      0.37      0.38      1431\n",
      "       Stan       0.41      0.41      0.41      1547\n",
      "\n",
      "avg / total       0.44      0.45      0.44      5087\n",
      "\n",
      "Confusion matrix, without normalization\n",
      "[[1073   29  392  434]\n",
      " [  65   31   37   48]\n",
      " [ 430   28  531  442]\n",
      " [ 488   29  395  635]]\n"
     ]
    },
    {
     "data": {
      "image/png": "[encoded data removed]",
      "text/plain": [
       "<matplotlib.figure.Figure at 0xc315d30>"
      ]
     },
     "metadata": {},
     "output_type": "display_data"
    }
   ],
   "source": [
    "clf2 = DecisionTreeClassifier()\n",
    "clf2.fit(X_train2, y_train2)\n",
    "char_pred_clf2 = clf2.predict(X_test2)\n",
    "print(classification_report(y_test2, char_pred_clf2))\n",
    "plt.figure()\n",
    "plot_confusion_matrix(confusion_matrix(y_test2, char_pred_clf2), classes=clf2.classes_,\n",
    "                      title='Confusion matrix, without normalization', cmap=plt.cm.BuGn)\n",
    "plt.show()"
   ]
  },
  {
   "cell_type": "code",
   "execution_count": null,
   "metadata": {
    "collapsed": true
   },
   "outputs": [],
   "source": [
    "# По сравнению с тем деревом решений почти ничего не изменилось. На 1% стал лучше средний recall. Классифицируются все также."
   ]
  },
  {
   "cell_type": "code",
   "execution_count": 63,
   "metadata": {
    "collapsed": true
   },
   "outputs": [],
   "source": [
    "# Лес решений"
   ]
  },
  {
   "cell_type": "code",
   "execution_count": 64,
   "metadata": {
    "collapsed": false
   },
   "outputs": [
    {
     "name": "stdout",
     "output_type": "stream",
     "text": [
      "             precision    recall  f1-score   support\n",
      "\n",
      "    Cartman       0.53      0.73      0.61      1928\n",
      "      Kenny       0.43      0.16      0.23       181\n",
      "       Kyle       0.46      0.31      0.37      1431\n",
      "       Stan       0.46      0.40      0.43      1547\n",
      "\n",
      "avg / total       0.48      0.49      0.48      5087\n",
      "\n",
      "Confusion matrix, without normalization\n",
      "[[1415   10  202  301]\n",
      " [  76   29   29   47]\n",
      " [ 584   15  444  388]\n",
      " [ 620   13  290  624]]\n"
     ]
    },
    {
     "data": {
      "image/png": "[encoded data removed]",
      "text/plain": [
       "<matplotlib.figure.Figure at 0x1ccc5630>"
      ]
     },
     "metadata": {},
     "output_type": "display_data"
    }
   ],
   "source": [
    "rf2 = RandomForestClassifier(n_estimators=50)\n",
    "rf2.fit(X_train2, y_train2)\n",
    "char_pred_rf2 = rf2.predict(X_test2)\n",
    "print(classification_report(y_test2, char_pred_rf2))\n",
    "plt.figure()\n",
    "plot_confusion_matrix(confusion_matrix(y_test2, char_pred_rf2), classes=rf1.classes_,\n",
    "                      title='Confusion matrix, without normalization', cmap=plt.cm.PuBu)\n",
    "plt.show()"
   ]
  },
  {
   "cell_type": "code",
   "execution_count": 65,
   "metadata": {
    "collapsed": true
   },
   "outputs": [],
   "source": [
    "# Этот лес по сравнению с прошлым работает чуть-чуть лучше - все иетрики чуть-чуть выше. Но не намного."
   ]
  },
  {
   "cell_type": "code",
   "execution_count": 66,
   "metadata": {
    "collapsed": true
   },
   "outputs": [],
   "source": [
    "# Логистическая регрессия"
   ]
  },
  {
   "cell_type": "code",
   "execution_count": 67,
   "metadata": {
    "collapsed": false
   },
   "outputs": [
    {
     "name": "stdout",
     "output_type": "stream",
     "text": [
      "             precision    recall  f1-score   support\n",
      "\n",
      "    Cartman       0.59      0.64      0.62      1928\n",
      "      Kenny       0.18      0.50      0.26       181\n",
      "       Kyle       0.46      0.37      0.41      1431\n",
      "       Stan       0.48      0.42      0.45      1547\n",
      "\n",
      "avg / total       0.51      0.49      0.50      5087\n",
      "\n",
      "Confusion matrix, without normalization\n",
      "[[1241  124  256  307]\n",
      " [  46   90   26   19]\n",
      " [ 387  146  530  368]\n",
      " [ 420  148  332  647]]\n"
     ]
    },
    {
     "data": {
      "image/png": "[encoded data removed]",
      "text/plain": [
       "<matplotlib.figure.Figure at 0x1cdba198>"
      ]
     },
     "metadata": {},
     "output_type": "display_data"
    }
   ],
   "source": [
    "lr2 = LogisticRegression(class_weight='balanced')\n",
    "lr2.fit(X_train2, y_train2)\n",
    "char_pred_lr2 = lr2.predict(X_test2)\n",
    "print(classification_report(y_test2, char_pred_lr2))\n",
    "plt.figure()\n",
    "plot_confusion_matrix(confusion_matrix(y_test2, char_pred_lr2), classes=lr2.classes_,\n",
    "                      title='Confusion matrix, without normalization', cmap=plt.cm.Reds)\n",
    "plt.show()"
   ]
  },
  {
   "cell_type": "code",
   "execution_count": 68,
   "metadata": {
    "collapsed": true
   },
   "outputs": [],
   "source": [
    "# Эта логистическая регрессия работает немного лучше той логистической регрессии - но не намного."
   ]
  },
  {
   "cell_type": "code",
   "execution_count": 69,
   "metadata": {
    "collapsed": false
   },
   "outputs": [
    {
     "name": "stdout",
     "output_type": "stream",
     "text": [
      "[[ 0.03620325 -0.26448333  0.54215617 ...,  0.16542623 -0.16850791\n",
      "  -0.20415491]\n",
      " [-0.00624413 -0.14089695 -0.4551389  ..., -0.02108554 -0.04900025\n",
      "  -0.14211138]\n",
      " [-0.02998372 -0.16860839 -0.93624292 ..., -0.09487284  0.37667011\n",
      "  -0.20029723]\n",
      " [-0.01687968  0.56676684  0.36038757 ..., -0.07749473 -0.13799435\n",
      "   0.48113528]]\n"
     ]
    }
   ],
   "source": [
    "print(lr2.coef_)"
   ]
  },
  {
   "cell_type": "code",
   "execution_count": 70,
   "metadata": {
    "collapsed": true
   },
   "outputs": [],
   "source": [
    "# Тут сейчас так много фичей, что невозможно разобрать, у чего какой коэфиициент."
   ]
  },
  {
   "cell_type": "code",
   "execution_count": 71,
   "metadata": {
    "collapsed": true
   },
   "outputs": [],
   "source": [
    "# Фичи"
   ]
  },
  {
   "cell_type": "code",
   "execution_count": 75,
   "metadata": {
    "collapsed": true
   },
   "outputs": [],
   "source": [
    "# Все реплики Кенни в скобках."
   ]
  },
  {
   "cell_type": "code",
   "execution_count": 77,
   "metadata": {
    "collapsed": false
   },
   "outputs": [],
   "source": [
    "new_data['line'] = new_data['line'].str.lower()"
   ]
  },
  {
   "cell_type": "code",
   "execution_count": 121,
   "metadata": {
    "collapsed": false
   },
   "outputs": [
    {
     "data": {
      "text/html": [
       "<div>\n",
       "<table border=\"1\" class=\"dataframe\">\n",
       "  <thead>\n",
       "    <tr style=\"text-align: right;\">\n",
       "      <th></th>\n",
       "      <th>para</th>\n",
       "    </tr>\n",
       "    <tr>\n",
       "      <th>character</th>\n",
       "      <th></th>\n",
       "    </tr>\n",
       "  </thead>\n",
       "  <tbody>\n",
       "    <tr>\n",
       "      <th>Cartman</th>\n",
       "      <td>0.000307</td>\n",
       "    </tr>\n",
       "    <tr>\n",
       "      <th>Kenny</th>\n",
       "      <td>0.956867</td>\n",
       "    </tr>\n",
       "    <tr>\n",
       "      <th>Kyle</th>\n",
       "      <td>0.001831</td>\n",
       "    </tr>\n",
       "    <tr>\n",
       "      <th>Stan</th>\n",
       "      <td>0.000651</td>\n",
       "    </tr>\n",
       "  </tbody>\n",
       "</table>\n",
       "</div>"
      ],
      "text/plain": [
       "               para\n",
       "character          \n",
       "Cartman    0.000307\n",
       "Kenny      0.956867\n",
       "Kyle       0.001831\n",
       "Stan       0.000651"
      ]
     },
     "execution_count": 121,
     "metadata": {},
     "output_type": "execute_result"
    }
   ],
   "source": [
    "new_data['para'] = new_data['line'].map(lambda line: 1 if line.startswith('(') else 0)\n",
    "new_data.groupby(['character']).agg({'para': 'mean'})"
   ]
  },
  {
   "cell_type": "code",
   "execution_count": 79,
   "metadata": {
    "collapsed": false
   },
   "outputs": [
    {
     "data": {
      "text/html": [
       "<div>\n",
       "<table border=\"1\" class=\"dataframe\">\n",
       "  <thead>\n",
       "    <tr style=\"text-align: right;\">\n",
       "      <th></th>\n",
       "      <th>fuck</th>\n",
       "    </tr>\n",
       "    <tr>\n",
       "      <th>character</th>\n",
       "      <th></th>\n",
       "    </tr>\n",
       "  </thead>\n",
       "  <tbody>\n",
       "    <tr>\n",
       "      <th>Cartman</th>\n",
       "      <td>0.030182</td>\n",
       "    </tr>\n",
       "    <tr>\n",
       "      <th>Kenny</th>\n",
       "      <td>0.094211</td>\n",
       "    </tr>\n",
       "    <tr>\n",
       "      <th>Kyle</th>\n",
       "      <td>0.010001</td>\n",
       "    </tr>\n",
       "    <tr>\n",
       "      <th>Stan</th>\n",
       "      <td>0.007292</td>\n",
       "    </tr>\n",
       "  </tbody>\n",
       "</table>\n",
       "</div>"
      ],
      "text/plain": [
       "               fuck\n",
       "character          \n",
       "Cartman    0.030182\n",
       "Kenny      0.094211\n",
       "Kyle       0.010001\n",
       "Stan       0.007292"
      ]
     },
     "execution_count": 79,
     "metadata": {},
     "output_type": "execute_result"
    }
   ],
   "source": [
    "new_data['fuck'] = new_data['line'].str.count('fuck')\n",
    "new_data.groupby(['character']).agg({'fuck': 'mean'})"
   ]
  },
  {
   "cell_type": "code",
   "execution_count": 80,
   "metadata": {
    "collapsed": false
   },
   "outputs": [
    {
     "data": {
      "text/html": [
       "<div>\n",
       "<table border=\"1\" class=\"dataframe\">\n",
       "  <thead>\n",
       "    <tr style=\"text-align: right;\">\n",
       "      <th></th>\n",
       "      <th>guys</th>\n",
       "    </tr>\n",
       "    <tr>\n",
       "      <th>character</th>\n",
       "      <th></th>\n",
       "    </tr>\n",
       "  </thead>\n",
       "  <tbody>\n",
       "    <tr>\n",
       "      <th>Cartman</th>\n",
       "      <td>0.088500</td>\n",
       "    </tr>\n",
       "    <tr>\n",
       "      <th>Kenny</th>\n",
       "      <td>0.046538</td>\n",
       "    </tr>\n",
       "    <tr>\n",
       "      <th>Kyle</th>\n",
       "      <td>0.024510</td>\n",
       "    </tr>\n",
       "    <tr>\n",
       "      <th>Stan</th>\n",
       "      <td>0.039844</td>\n",
       "    </tr>\n",
       "  </tbody>\n",
       "</table>\n",
       "</div>"
      ],
      "text/plain": [
       "               guys\n",
       "character          \n",
       "Cartman    0.088500\n",
       "Kenny      0.046538\n",
       "Kyle       0.024510\n",
       "Stan       0.039844"
      ]
     },
     "execution_count": 80,
     "metadata": {},
     "output_type": "execute_result"
    }
   ],
   "source": [
    "new_data['guys'] = new_data['line'].str.count('guys')\n",
    "new_data.groupby(['character']).agg({'guys': 'mean'})"
   ]
  },
  {
   "cell_type": "code",
   "execution_count": 81,
   "metadata": {
    "collapsed": false
   },
   "outputs": [
    {
     "data": {
      "text/html": [
       "<div>\n",
       "<table border=\"1\" class=\"dataframe\">\n",
       "  <thead>\n",
       "    <tr style=\"text-align: right;\">\n",
       "      <th></th>\n",
       "      <th>respect</th>\n",
       "    </tr>\n",
       "    <tr>\n",
       "      <th>character</th>\n",
       "      <th></th>\n",
       "    </tr>\n",
       "  </thead>\n",
       "  <tbody>\n",
       "    <tr>\n",
       "      <th>Cartman</th>\n",
       "      <td>0.001739</td>\n",
       "    </tr>\n",
       "    <tr>\n",
       "      <th>Kenny</th>\n",
       "      <td>0.000000</td>\n",
       "    </tr>\n",
       "    <tr>\n",
       "      <th>Kyle</th>\n",
       "      <td>0.000563</td>\n",
       "    </tr>\n",
       "    <tr>\n",
       "      <th>Stan</th>\n",
       "      <td>0.000260</td>\n",
       "    </tr>\n",
       "  </tbody>\n",
       "</table>\n",
       "</div>"
      ],
      "text/plain": [
       "            respect\n",
       "character          \n",
       "Cartman    0.001739\n",
       "Kenny      0.000000\n",
       "Kyle       0.000563\n",
       "Stan       0.000260"
      ]
     },
     "execution_count": 81,
     "metadata": {},
     "output_type": "execute_result"
    }
   ],
   "source": [
    "new_data['respect'] = new_data['line'].str.count('respect')\n",
    "new_data.groupby(['character']).agg({'respect': 'mean'})"
   ]
  },
  {
   "cell_type": "code",
   "execution_count": 82,
   "metadata": {
    "collapsed": false
   },
   "outputs": [
    {
     "data": {
      "text/html": [
       "<div>\n",
       "<table border=\"1\" class=\"dataframe\">\n",
       "  <thead>\n",
       "    <tr style=\"text-align: right;\">\n",
       "      <th></th>\n",
       "      <th>kenny</th>\n",
       "    </tr>\n",
       "    <tr>\n",
       "      <th>character</th>\n",
       "      <th></th>\n",
       "    </tr>\n",
       "  </thead>\n",
       "  <tbody>\n",
       "    <tr>\n",
       "      <th>Cartman</th>\n",
       "      <td>0.039288</td>\n",
       "    </tr>\n",
       "    <tr>\n",
       "      <th>Kenny</th>\n",
       "      <td>0.004540</td>\n",
       "    </tr>\n",
       "    <tr>\n",
       "      <th>Kyle</th>\n",
       "      <td>0.026060</td>\n",
       "    </tr>\n",
       "    <tr>\n",
       "      <th>Stan</th>\n",
       "      <td>0.027474</td>\n",
       "    </tr>\n",
       "  </tbody>\n",
       "</table>\n",
       "</div>"
      ],
      "text/plain": [
       "              kenny\n",
       "character          \n",
       "Cartman    0.039288\n",
       "Kenny      0.004540\n",
       "Kyle       0.026060\n",
       "Stan       0.027474"
      ]
     },
     "execution_count": 82,
     "metadata": {},
     "output_type": "execute_result"
    }
   ],
   "source": [
    "new_data['kenny'] = new_data['line'].str.count('kenny')\n",
    "new_data.groupby(['character']).agg({'kenny': 'mean'})"
   ]
  },
  {
   "cell_type": "code",
   "execution_count": 84,
   "metadata": {
    "collapsed": false
   },
   "outputs": [
    {
     "data": {
      "text/html": [
       "<div>\n",
       "<table border=\"1\" class=\"dataframe\">\n",
       "  <thead>\n",
       "    <tr style=\"text-align: right;\">\n",
       "      <th></th>\n",
       "      <th>screw</th>\n",
       "    </tr>\n",
       "    <tr>\n",
       "      <th>character</th>\n",
       "      <th></th>\n",
       "    </tr>\n",
       "  </thead>\n",
       "  <tbody>\n",
       "    <tr>\n",
       "      <th>Cartman</th>\n",
       "      <td>0.009208</td>\n",
       "    </tr>\n",
       "    <tr>\n",
       "      <th>Kenny</th>\n",
       "      <td>0.004540</td>\n",
       "    </tr>\n",
       "    <tr>\n",
       "      <th>Kyle</th>\n",
       "      <td>0.004508</td>\n",
       "    </tr>\n",
       "    <tr>\n",
       "      <th>Stan</th>\n",
       "      <td>0.002865</td>\n",
       "    </tr>\n",
       "  </tbody>\n",
       "</table>\n",
       "</div>"
      ],
      "text/plain": [
       "              screw\n",
       "character          \n",
       "Cartman    0.009208\n",
       "Kenny      0.004540\n",
       "Kyle       0.004508\n",
       "Stan       0.002865"
      ]
     },
     "execution_count": 84,
     "metadata": {},
     "output_type": "execute_result"
    }
   ],
   "source": [
    "new_data['screw'] = new_data['line'].str.count('screw')\n",
    "new_data.groupby(['character']).agg({'screw': 'mean'})"
   ]
  },
  {
   "cell_type": "code",
   "execution_count": 85,
   "metadata": {
    "collapsed": false
   },
   "outputs": [
    {
     "data": {
      "text/html": [
       "<div>\n",
       "<table border=\"1\" class=\"dataframe\">\n",
       "  <thead>\n",
       "    <tr style=\"text-align: right;\">\n",
       "      <th></th>\n",
       "      <th>bitch</th>\n",
       "    </tr>\n",
       "    <tr>\n",
       "      <th>character</th>\n",
       "      <th></th>\n",
       "    </tr>\n",
       "  </thead>\n",
       "  <tbody>\n",
       "    <tr>\n",
       "      <th>Cartman</th>\n",
       "      <td>0.017188</td>\n",
       "    </tr>\n",
       "    <tr>\n",
       "      <th>Kenny</th>\n",
       "      <td>0.003405</td>\n",
       "    </tr>\n",
       "    <tr>\n",
       "      <th>Kyle</th>\n",
       "      <td>0.003803</td>\n",
       "    </tr>\n",
       "    <tr>\n",
       "      <th>Stan</th>\n",
       "      <td>0.003646</td>\n",
       "    </tr>\n",
       "  </tbody>\n",
       "</table>\n",
       "</div>"
      ],
      "text/plain": [
       "              bitch\n",
       "character          \n",
       "Cartman    0.017188\n",
       "Kenny      0.003405\n",
       "Kyle       0.003803\n",
       "Stan       0.003646"
      ]
     },
     "execution_count": 85,
     "metadata": {},
     "output_type": "execute_result"
    }
   ],
   "source": [
    "new_data['bitch'] = new_data['line'].str.count('bitch')\n",
    "new_data.groupby(['character']).agg({'bitch': 'mean'})"
   ]
  },
  {
   "cell_type": "code",
   "execution_count": 86,
   "metadata": {
    "collapsed": true
   },
   "outputs": [],
   "source": [
    "new_data['length'] = new_data['line'].map(lambda text: len(text))"
   ]
  },
  {
   "cell_type": "code",
   "execution_count": 92,
   "metadata": {
    "collapsed": false
   },
   "outputs": [
    {
     "data": {
      "text/html": [
       "<div>\n",
       "<table border=\"1\" class=\"dataframe\">\n",
       "  <thead>\n",
       "    <tr style=\"text-align: right;\">\n",
       "      <th></th>\n",
       "      <th>kill</th>\n",
       "    </tr>\n",
       "    <tr>\n",
       "      <th>character</th>\n",
       "      <th></th>\n",
       "    </tr>\n",
       "  </thead>\n",
       "  <tbody>\n",
       "    <tr>\n",
       "      <th>Cartman</th>\n",
       "      <td>0.001739</td>\n",
       "    </tr>\n",
       "    <tr>\n",
       "      <th>Kenny</th>\n",
       "      <td>0.003405</td>\n",
       "    </tr>\n",
       "    <tr>\n",
       "      <th>Kyle</th>\n",
       "      <td>0.003803</td>\n",
       "    </tr>\n",
       "    <tr>\n",
       "      <th>Stan</th>\n",
       "      <td>0.008333</td>\n",
       "    </tr>\n",
       "  </tbody>\n",
       "</table>\n",
       "</div>"
      ],
      "text/plain": [
       "               kill\n",
       "character          \n",
       "Cartman    0.001739\n",
       "Kenny      0.003405\n",
       "Kyle       0.003803\n",
       "Stan       0.008333"
      ]
     },
     "execution_count": 92,
     "metadata": {},
     "output_type": "execute_result"
    }
   ],
   "source": [
    "new_data['kill'] = new_data['line'].str.count('killed')\n",
    "new_data.groupby(['character']).agg({'kill': 'mean'})"
   ]
  },
  {
   "cell_type": "code",
   "execution_count": 96,
   "metadata": {
    "collapsed": false
   },
   "outputs": [
    {
     "data": {
      "text/html": [
       "<div>\n",
       "<table border=\"1\" class=\"dataframe\">\n",
       "  <thead>\n",
       "    <tr style=\"text-align: right;\">\n",
       "      <th></th>\n",
       "      <th>stan</th>\n",
       "    </tr>\n",
       "    <tr>\n",
       "      <th>character</th>\n",
       "      <th></th>\n",
       "    </tr>\n",
       "  </thead>\n",
       "  <tbody>\n",
       "    <tr>\n",
       "      <th>Cartman</th>\n",
       "      <td>0.034275</td>\n",
       "    </tr>\n",
       "    <tr>\n",
       "      <th>Kenny</th>\n",
       "      <td>0.011351</td>\n",
       "    </tr>\n",
       "    <tr>\n",
       "      <th>Kyle</th>\n",
       "      <td>0.043809</td>\n",
       "    </tr>\n",
       "    <tr>\n",
       "      <th>Stan</th>\n",
       "      <td>0.014714</td>\n",
       "    </tr>\n",
       "  </tbody>\n",
       "</table>\n",
       "</div>"
      ],
      "text/plain": [
       "               stan\n",
       "character          \n",
       "Cartman    0.034275\n",
       "Kenny      0.011351\n",
       "Kyle       0.043809\n",
       "Stan       0.014714"
      ]
     },
     "execution_count": 96,
     "metadata": {},
     "output_type": "execute_result"
    }
   ],
   "source": [
    "new_data['stan'] = new_data['line'].str.count('stan')\n",
    "new_data.groupby(['character']).agg({'stan': 'mean'})"
   ]
  },
  {
   "cell_type": "code",
   "execution_count": 97,
   "metadata": {
    "collapsed": false
   },
   "outputs": [
    {
     "data": {
      "text/html": [
       "<div>\n",
       "<table border=\"1\" class=\"dataframe\">\n",
       "  <thead>\n",
       "    <tr style=\"text-align: right;\">\n",
       "      <th></th>\n",
       "      <th>kyle</th>\n",
       "    </tr>\n",
       "    <tr>\n",
       "      <th>character</th>\n",
       "      <th></th>\n",
       "    </tr>\n",
       "  </thead>\n",
       "  <tbody>\n",
       "    <tr>\n",
       "      <th>Cartman</th>\n",
       "      <td>0.091058</td>\n",
       "    </tr>\n",
       "    <tr>\n",
       "      <th>Kenny</th>\n",
       "      <td>0.014756</td>\n",
       "    </tr>\n",
       "    <tr>\n",
       "      <th>Kyle</th>\n",
       "      <td>0.004085</td>\n",
       "    </tr>\n",
       "    <tr>\n",
       "      <th>Stan</th>\n",
       "      <td>0.039974</td>\n",
       "    </tr>\n",
       "  </tbody>\n",
       "</table>\n",
       "</div>"
      ],
      "text/plain": [
       "               kyle\n",
       "character          \n",
       "Cartman    0.091058\n",
       "Kenny      0.014756\n",
       "Kyle       0.004085\n",
       "Stan       0.039974"
      ]
     },
     "execution_count": 97,
     "metadata": {},
     "output_type": "execute_result"
    }
   ],
   "source": [
    "new_data['kyle'] = new_data['line'].str.count('kyle')\n",
    "new_data.groupby(['character']).agg({'kyle': 'mean'})"
   ]
  },
  {
   "cell_type": "code",
   "execution_count": 99,
   "metadata": {
    "collapsed": false
   },
   "outputs": [
    {
     "data": {
      "text/html": [
       "<div>\n",
       "<table border=\"1\" class=\"dataframe\">\n",
       "  <thead>\n",
       "    <tr style=\"text-align: right;\">\n",
       "      <th></th>\n",
       "      <th>eric</th>\n",
       "    </tr>\n",
       "    <tr>\n",
       "      <th>character</th>\n",
       "      <th></th>\n",
       "    </tr>\n",
       "  </thead>\n",
       "  <tbody>\n",
       "    <tr>\n",
       "      <th>Cartman</th>\n",
       "      <td>40.514733</td>\n",
       "    </tr>\n",
       "    <tr>\n",
       "      <th>Kenny</th>\n",
       "      <td>13.175936</td>\n",
       "    </tr>\n",
       "    <tr>\n",
       "      <th>Kyle</th>\n",
       "      <td>27.127905</td>\n",
       "    </tr>\n",
       "    <tr>\n",
       "      <th>Stan</th>\n",
       "      <td>26.876953</td>\n",
       "    </tr>\n",
       "  </tbody>\n",
       "</table>\n",
       "</div>"
      ],
      "text/plain": [
       "                eric\n",
       "character           \n",
       "Cartman    40.514733\n",
       "Kenny      13.175936\n",
       "Kyle       27.127905\n",
       "Stan       26.876953"
      ]
     },
     "execution_count": 99,
     "metadata": {},
     "output_type": "execute_result"
    }
   ],
   "source": [
    "new_data['eric'] = new_data['line'].str.count('[eric, cartman]')\n",
    "new_data.groupby(['character']).agg({'eric': 'mean'})"
   ]
  },
  {
   "cell_type": "code",
   "execution_count": 110,
   "metadata": {
    "collapsed": false
   },
   "outputs": [
    {
     "data": {
      "text/html": [
       "<div>\n",
       "<table border=\"1\" class=\"dataframe\">\n",
       "  <thead>\n",
       "    <tr style=\"text-align: right;\">\n",
       "      <th></th>\n",
       "      <th>ass</th>\n",
       "    </tr>\n",
       "    <tr>\n",
       "      <th>character</th>\n",
       "      <th></th>\n",
       "    </tr>\n",
       "  </thead>\n",
       "  <tbody>\n",
       "    <tr>\n",
       "      <th>Cartman</th>\n",
       "      <td>0.050952</td>\n",
       "    </tr>\n",
       "    <tr>\n",
       "      <th>Kenny</th>\n",
       "      <td>0.019296</td>\n",
       "    </tr>\n",
       "    <tr>\n",
       "      <th>Kyle</th>\n",
       "      <td>0.039301</td>\n",
       "    </tr>\n",
       "    <tr>\n",
       "      <th>Stan</th>\n",
       "      <td>0.028516</td>\n",
       "    </tr>\n",
       "  </tbody>\n",
       "</table>\n",
       "</div>"
      ],
      "text/plain": [
       "                ass\n",
       "character          \n",
       "Cartman    0.050952\n",
       "Kenny      0.019296\n",
       "Kyle       0.039301\n",
       "Stan       0.028516"
      ]
     },
     "execution_count": 110,
     "metadata": {},
     "output_type": "execute_result"
    }
   ],
   "source": [
    "new_data['ass'] = new_data['line'].str.count('ass')\n",
    "new_data.groupby(['character']).agg({'ass': 'mean'})"
   ]
  },
  {
   "cell_type": "code",
   "execution_count": 125,
   "metadata": {
    "collapsed": false
   },
   "outputs": [
    {
     "data": {
      "text/html": [
       "<div>\n",
       "<table border=\"1\" class=\"dataframe\">\n",
       "  <thead>\n",
       "    <tr style=\"text-align: right;\">\n",
       "      <th></th>\n",
       "      <th>exl</th>\n",
       "    </tr>\n",
       "    <tr>\n",
       "      <th>character</th>\n",
       "      <th></th>\n",
       "    </tr>\n",
       "  </thead>\n",
       "  <tbody>\n",
       "    <tr>\n",
       "      <th>Cartman</th>\n",
       "      <td>0.871291</td>\n",
       "    </tr>\n",
       "    <tr>\n",
       "      <th>Kenny</th>\n",
       "      <td>0.615210</td>\n",
       "    </tr>\n",
       "    <tr>\n",
       "      <th>Kyle</th>\n",
       "      <td>0.558389</td>\n",
       "    </tr>\n",
       "    <tr>\n",
       "      <th>Stan</th>\n",
       "      <td>0.438672</td>\n",
       "    </tr>\n",
       "  </tbody>\n",
       "</table>\n",
       "</div>"
      ],
      "text/plain": [
       "                exl\n",
       "character          \n",
       "Cartman    0.871291\n",
       "Kenny      0.615210\n",
       "Kyle       0.558389\n",
       "Stan       0.438672"
      ]
     },
     "execution_count": 125,
     "metadata": {},
     "output_type": "execute_result"
    }
   ],
   "source": [
    "new_data['exl'] = new_data['line'].str.count('!')\n",
    "new_data.groupby(['character']).agg({'exl': 'mean'})"
   ]
  },
  {
   "cell_type": "code",
   "execution_count": 129,
   "metadata": {
    "collapsed": false
   },
   "outputs": [
    {
     "data": {
      "text/html": [
       "<div>\n",
       "<table border=\"1\" class=\"dataframe\">\n",
       "  <thead>\n",
       "    <tr style=\"text-align: right;\">\n",
       "      <th></th>\n",
       "      <th>mom</th>\n",
       "    </tr>\n",
       "    <tr>\n",
       "      <th>character</th>\n",
       "      <th></th>\n",
       "    </tr>\n",
       "  </thead>\n",
       "  <tbody>\n",
       "    <tr>\n",
       "      <th>Cartman</th>\n",
       "      <td>0.040413</td>\n",
       "    </tr>\n",
       "    <tr>\n",
       "      <th>Kenny</th>\n",
       "      <td>0.009081</td>\n",
       "    </tr>\n",
       "    <tr>\n",
       "      <th>Kyle</th>\n",
       "      <td>0.014650</td>\n",
       "    </tr>\n",
       "    <tr>\n",
       "      <th>Stan</th>\n",
       "      <td>0.016536</td>\n",
       "    </tr>\n",
       "  </tbody>\n",
       "</table>\n",
       "</div>"
      ],
      "text/plain": [
       "                mom\n",
       "character          \n",
       "Cartman    0.040413\n",
       "Kenny      0.009081\n",
       "Kyle       0.014650\n",
       "Stan       0.016536"
      ]
     },
     "execution_count": 129,
     "metadata": {},
     "output_type": "execute_result"
    }
   ],
   "source": [
    "new_data['mom'] = new_data['line'].str.count('mom')\n",
    "new_data.groupby(['character']).agg({'mom': 'mean'})"
   ]
  },
  {
   "cell_type": "code",
   "execution_count": 133,
   "metadata": {
    "collapsed": false
   },
   "outputs": [
    {
     "data": {
      "text/html": [
       "<div>\n",
       "<table border=\"1\" class=\"dataframe\">\n",
       "  <thead>\n",
       "    <tr style=\"text-align: right;\">\n",
       "      <th></th>\n",
       "      <th>dot</th>\n",
       "    </tr>\n",
       "    <tr>\n",
       "      <th>character</th>\n",
       "      <th></th>\n",
       "    </tr>\n",
       "  </thead>\n",
       "  <tbody>\n",
       "    <tr>\n",
       "      <th>Cartman</th>\n",
       "      <td>70.487927</td>\n",
       "    </tr>\n",
       "    <tr>\n",
       "      <th>Kenny</th>\n",
       "      <td>26.557321</td>\n",
       "    </tr>\n",
       "    <tr>\n",
       "      <th>Kyle</th>\n",
       "      <td>47.110015</td>\n",
       "    </tr>\n",
       "    <tr>\n",
       "      <th>Stan</th>\n",
       "      <td>46.891016</td>\n",
       "    </tr>\n",
       "  </tbody>\n",
       "</table>\n",
       "</div>"
      ],
      "text/plain": [
       "                 dot\n",
       "character           \n",
       "Cartman    70.487927\n",
       "Kenny      26.557321\n",
       "Kyle       47.110015\n",
       "Stan       46.891016"
      ]
     },
     "execution_count": 133,
     "metadata": {},
     "output_type": "execute_result"
    }
   ],
   "source": [
    "new_data['dot'] = new_data['line'].str.count('.')\n",
    "new_data.groupby(['character']).agg({'dot': 'mean'})"
   ]
  },
  {
   "cell_type": "code",
   "execution_count": 140,
   "metadata": {
    "collapsed": false
   },
   "outputs": [
    {
     "data": {
      "text/html": [
       "<div>\n",
       "<table border=\"1\" class=\"dataframe\">\n",
       "  <thead>\n",
       "    <tr style=\"text-align: right;\">\n",
       "      <th></th>\n",
       "      <th>bastard</th>\n",
       "    </tr>\n",
       "    <tr>\n",
       "      <th>character</th>\n",
       "      <th></th>\n",
       "    </tr>\n",
       "  </thead>\n",
       "  <tbody>\n",
       "    <tr>\n",
       "      <th>Cartman</th>\n",
       "      <td>0.000512</td>\n",
       "    </tr>\n",
       "    <tr>\n",
       "      <th>Kenny</th>\n",
       "      <td>0.001135</td>\n",
       "    </tr>\n",
       "    <tr>\n",
       "      <th>Kyle</th>\n",
       "      <td>0.008029</td>\n",
       "    </tr>\n",
       "    <tr>\n",
       "      <th>Stan</th>\n",
       "      <td>0.000651</td>\n",
       "    </tr>\n",
       "  </tbody>\n",
       "</table>\n",
       "</div>"
      ],
      "text/plain": [
       "            bastard\n",
       "character          \n",
       "Cartman    0.000512\n",
       "Kenny      0.001135\n",
       "Kyle       0.008029\n",
       "Stan       0.000651"
      ]
     },
     "execution_count": 140,
     "metadata": {},
     "output_type": "execute_result"
    }
   ],
   "source": [
    "new_data['bastard'] = new_data['line'].str.count('bastard')\n",
    "new_data.groupby(['character']).agg({'bastard': 'mean'})"
   ]
  },
  {
   "cell_type": "code",
   "execution_count": 144,
   "metadata": {
    "collapsed": false
   },
   "outputs": [
    {
     "data": {
      "text/html": [
       "<div>\n",
       "<table border=\"1\" class=\"dataframe\">\n",
       "  <thead>\n",
       "    <tr style=\"text-align: right;\">\n",
       "      <th></th>\n",
       "      <th>home</th>\n",
       "    </tr>\n",
       "    <tr>\n",
       "      <th>character</th>\n",
       "      <th></th>\n",
       "    </tr>\n",
       "  </thead>\n",
       "  <tbody>\n",
       "    <tr>\n",
       "      <th>Cartman</th>\n",
       "      <td>0.014324</td>\n",
       "    </tr>\n",
       "    <tr>\n",
       "      <th>Kenny</th>\n",
       "      <td>0.003405</td>\n",
       "    </tr>\n",
       "    <tr>\n",
       "      <th>Kyle</th>\n",
       "      <td>0.008311</td>\n",
       "    </tr>\n",
       "    <tr>\n",
       "      <th>Stan</th>\n",
       "      <td>0.009766</td>\n",
       "    </tr>\n",
       "  </tbody>\n",
       "</table>\n",
       "</div>"
      ],
      "text/plain": [
       "               home\n",
       "character          \n",
       "Cartman    0.014324\n",
       "Kenny      0.003405\n",
       "Kyle       0.008311\n",
       "Stan       0.009766"
      ]
     },
     "execution_count": 144,
     "metadata": {},
     "output_type": "execute_result"
    }
   ],
   "source": [
    "new_data['home'] = new_data['line'].str.count('home')\n",
    "new_data.groupby(['character']).agg({'home': 'mean'})"
   ]
  },
  {
   "cell_type": "code",
   "execution_count": 145,
   "metadata": {
    "collapsed": true
   },
   "outputs": [],
   "source": [
    "features = ['length', 'bitch', 'fuck', 'screw', 'kenny', 'guys', 'para', 'kill', 'kyle', 'eric', 'ass', 'exl', 'mom', 'dot',\n",
    "           'bastard', 'home']"
   ]
  },
  {
   "cell_type": "code",
   "execution_count": 148,
   "metadata": {
    "collapsed": false
   },
   "outputs": [],
   "source": [
    "X_train3, X_test3, y_train3, y_test3 = train_test_split(new_data[features], new_data['character'],\n",
    "                                                               test_size=0.2)"
   ]
  },
  {
   "cell_type": "code",
   "execution_count": 149,
   "metadata": {
    "collapsed": false
   },
   "outputs": [
    {
     "name": "stdout",
     "output_type": "stream",
     "text": [
      "             precision    recall  f1-score   support\n",
      "\n",
      "    Cartman       0.58      0.18      0.27      1948\n",
      "      Kenny       0.25      0.96      0.39       180\n",
      "       Kyle       0.34      0.27      0.30      1454\n",
      "       Stan       0.34      0.60      0.44      1505\n",
      "\n",
      "avg / total       0.43      0.36      0.33      5087\n",
      "\n",
      "Confusion matrix, without normalization\n",
      "[[345 219 479 905]\n",
      " [  3 172   3   2]\n",
      " [ 93 153 397 811]\n",
      " [158 154 293 900]]\n"
     ]
    },
    {
     "data": {
      "image/png": "[encoded data removed]",
      "text/plain": [
       "<matplotlib.figure.Figure at 0x27448320>"
      ]
     },
     "metadata": {},
     "output_type": "display_data"
    }
   ],
   "source": [
    "nb = MultinomialNB(fit_prior=False)\n",
    "character_detector3 = nb.fit(X_train3, y_train3)\n",
    "char_pred3 = character_detector3.predict(X_test3)\n",
    "print(classification_report(y_test3, char_pred3))\n",
    "plt.figure()\n",
    "plot_confusion_matrix(confusion_matrix(y_test3, char_pred3), classes=character_detector3.classes_,\n",
    "                      title='Confusion matrix, without normalization', cmap=plt.cm.PuRd)\n",
    "plt.show()"
   ]
  },
  {
   "cell_type": "code",
   "execution_count": 150,
   "metadata": {
    "collapsed": true
   },
   "outputs": [],
   "source": [
    "# Эта байесовская модель хуже обеих предыдущих. Она очень много реплик приписывет Кайлу и Стэну, и очень мало Картмену.\n",
    "# Но она правильно приписала почти все реплики Кенни ему. Но еще она свалила кучу чужих реплик ему."
   ]
  },
  {
   "cell_type": "code",
   "execution_count": 151,
   "metadata": {
    "collapsed": true
   },
   "outputs": [],
   "source": [
    "# Дерево решений"
   ]
  },
  {
   "cell_type": "code",
   "execution_count": 152,
   "metadata": {
    "collapsed": false
   },
   "outputs": [
    {
     "name": "stdout",
     "output_type": "stream",
     "text": [
      "             precision    recall  f1-score   support\n",
      "\n",
      "    Cartman       0.46      0.49      0.47      1948\n",
      "      Kenny       0.95      0.94      0.95       180\n",
      "       Kyle       0.32      0.30      0.31      1454\n",
      "       Stan       0.34      0.34      0.34      1505\n",
      "\n",
      "avg / total       0.40      0.41      0.41      5087\n",
      "\n",
      "Confusion matrix, without normalization\n",
      "[[951   3 483 511]\n",
      " [  5 169   2   4]\n",
      " [538   3 434 479]\n",
      " [564   2 421 518]]\n"
     ]
    },
    {
     "data": {
      "image/png": "[encoded data removed]",
      "text/plain": [
       "<matplotlib.figure.Figure at 0x1cbb0e48>"
      ]
     },
     "metadata": {},
     "output_type": "display_data"
    }
   ],
   "source": [
    "clf3 = DecisionTreeClassifier()\n",
    "clf3.fit(X_train3, y_train3)\n",
    "char_pred_clf3 = clf3.predict(X_test3)\n",
    "print(classification_report(y_test3, char_pred_clf3))\n",
    "plt.figure()\n",
    "plot_confusion_matrix(confusion_matrix(y_test3, char_pred_clf3), classes=clf2.classes_,\n",
    "                      title='Confusion matrix, without normalization', cmap=plt.cm.BuGn)\n",
    "plt.show()"
   ]
  },
  {
   "cell_type": "code",
   "execution_count": 153,
   "metadata": {
    "collapsed": true
   },
   "outputs": [],
   "source": [
    "# Дерево работает хуже чем оба предыдущих, но! очень хорошо определяются реплики Кенни. Классификатор пропустил всего лишь\n",
    "# 9 реплик Кенни и приписал ему всего лишь 8 чужих реплик. Но все остальные определяются хуже."
   ]
  },
  {
   "cell_type": "code",
   "execution_count": 154,
   "metadata": {
    "collapsed": true
   },
   "outputs": [],
   "source": [
    "# Лес решений"
   ]
  },
  {
   "cell_type": "code",
   "execution_count": 156,
   "metadata": {
    "collapsed": false
   },
   "outputs": [
    {
     "name": "stdout",
     "output_type": "stream",
     "text": [
      "             precision    recall  f1-score   support\n",
      "\n",
      "    Cartman       0.48      0.50      0.49      1948\n",
      "      Kenny       0.96      0.95      0.95       180\n",
      "       Kyle       0.33      0.28      0.31      1454\n",
      "       Stan       0.35      0.39      0.37      1505\n",
      "\n",
      "avg / total       0.42      0.42      0.42      5087\n",
      "\n",
      "Confusion matrix, without normalization\n",
      "[[974   3 437 534]\n",
      " [  4 171   2   3]\n",
      " [503   3 414 534]\n",
      " [529   2 392 582]]\n"
     ]
    },
    {
     "data": {
      "image/png": "[encoded data removed]",
      "text/plain": [
       "<matplotlib.figure.Figure at 0x1cbd4be0>"
      ]
     },
     "metadata": {},
     "output_type": "display_data"
    }
   ],
   "source": [
    "rf3 = RandomForestClassifier(n_estimators=50)\n",
    "rf3.fit(X_train3, y_train3)\n",
    "char_pred_rf3 = rf3.predict(X_test3)\n",
    "print(classification_report(y_test3, char_pred_rf3))\n",
    "plt.figure()\n",
    "plot_confusion_matrix(confusion_matrix(y_test3, char_pred_rf3), classes=rf1.classes_,\n",
    "                      title='Confusion matrix, without normalization', cmap=plt.cm.PuBu)\n",
    "plt.show()"
   ]
  },
  {
   "cell_type": "code",
   "execution_count": 157,
   "metadata": {
    "collapsed": true
   },
   "outputs": [],
   "source": [
    "# Лес работает хуже чем оба предыдущих, но! опять же очень хорошо определяются реплики Кенни. Классификатор пропустил всего лишь\n",
    "# 9 реплик Кенни и приписал ему всего лишь 8 чужих реплик. Но все остальные определяются хуже."
   ]
  },
  {
   "cell_type": "code",
   "execution_count": 158,
   "metadata": {
    "collapsed": true
   },
   "outputs": [],
   "source": [
    "# Логистическая регрессия"
   ]
  },
  {
   "cell_type": "code",
   "execution_count": 159,
   "metadata": {
    "collapsed": false
   },
   "outputs": [
    {
     "name": "stdout",
     "output_type": "stream",
     "text": [
      "             precision    recall  f1-score   support\n",
      "\n",
      "    Cartman       0.53      0.52      0.52      1948\n",
      "      Kenny       0.97      0.96      0.96       180\n",
      "       Kyle       0.37      0.19      0.25      1454\n",
      "       Stan       0.37      0.55      0.44      1505\n",
      "\n",
      "avg / total       0.45      0.45      0.44      5087\n",
      "\n",
      "Confusion matrix, without normalization\n",
      "[[1005    0  251  692]\n",
      " [   4  172    3    1]\n",
      " [ 433    4  281  736]\n",
      " [ 444    1  227  833]]\n"
     ]
    },
    {
     "data": {
      "image/png": "[encoded data removed]",
      "text/plain": [
       "<matplotlib.figure.Figure at 0x1cbee978>"
      ]
     },
     "metadata": {},
     "output_type": "display_data"
    }
   ],
   "source": [
    "lr3 = LogisticRegression(class_weight='balanced')\n",
    "lr3.fit(X_train3, y_train3)\n",
    "char_pred_lr3 = lr3.predict(X_test3)\n",
    "print(classification_report(y_test3, char_pred_lr3))\n",
    "plt.figure()\n",
    "plot_confusion_matrix(confusion_matrix(y_test3, char_pred_lr3), classes=lr2.classes_,\n",
    "                      title='Confusion matrix, without normalization', cmap=plt.cm.Reds)\n",
    "plt.show()"
   ]
  },
  {
   "cell_type": "code",
   "execution_count": 160,
   "metadata": {
    "collapsed": true
   },
   "outputs": [],
   "source": [
    "# Классификатор работает хуже чем оба предыдущих, но! опять же очень хорошо определяются реплики Кенни. \n",
    "# Классификатор пропустил всего лишь\n",
    "# 8 реплик Кенни и приписал ему всего лишь 5 чужих реплик. Но все остальные определяются хуже."
   ]
  },
  {
   "cell_type": "code",
   "execution_count": 175,
   "metadata": {
    "collapsed": false
   },
   "outputs": [
    {
     "name": "stdout",
     "output_type": "stream",
     "text": [
      "Cartman\n",
      "length - 0.036\n",
      "bitch - -0.264\n",
      "fuck - 0.542\n",
      "screw - 0.457\n",
      "kenny - -0.228\n",
      "guys - 0.032\n",
      "para - 0.245\n",
      "kill - -0.07\n",
      "kyle - 0.37\n",
      "eric - 0.063\n",
      "ass - -0.239\n",
      "exl - -0.165\n",
      "mom - 0.178\n",
      "dot - -0.133\n",
      "bastard - -0.378\n",
      "home - 0.134\n",
      "\n",
      "Kenny\n",
      "length - -0.006\n",
      "bitch - -0.141\n",
      "fuck - -0.455\n",
      "screw - -0.69\n",
      "kenny - -0.125\n",
      "guys - -0.04\n",
      "para - -0.086\n",
      "kill - -0.299\n",
      "kyle - -0.067\n",
      "eric - -0.047\n",
      "ass - -0.122\n",
      "exl - -0.019\n",
      "mom - -0.138\n",
      "dot - -0.046\n",
      "bastard - -0.151\n",
      "home - -0.048\n",
      "\n",
      "Kyle\n",
      "length - -0.03\n",
      "bitch - -0.169\n",
      "fuck - -0.936\n",
      "screw - -0.114\n",
      "kenny - -0.041\n",
      "guys - 0.081\n",
      "para - -0.118\n",
      "kill - 0.329\n",
      "kyle - -0.223\n",
      "eric - -0.035\n",
      "ass - 0.062\n",
      "exl - 0.237\n",
      "mom - 0.424\n",
      "dot - 0.296\n",
      "bastard - 0.504\n",
      "home - -0.075\n",
      "\n",
      "Stan\n",
      "length - -0.017\n",
      "bitch - 0.567\n",
      "fuck - 0.36\n",
      "screw - -0.191\n",
      "kenny - 0.345\n",
      "guys - -0.08\n",
      "para - -0.133\n",
      "kill - -0.198\n",
      "kyle - -0.174\n",
      "eric - -0.041\n",
      "ass - 0.277\n",
      "exl - -0.05\n",
      "mom - -0.535\n",
      "dot - -0.106\n",
      "bastard - 0.013\n",
      "home - -0.061\n",
      "\n"
     ]
    }
   ],
   "source": [
    "char = ['Cartman', 'Kenny', 'Kyle', 'Stan']\n",
    "for l in range(len(lr2.coef_)):\n",
    "    print(char[l])\n",
    "    for i in range(len(lr2.coef_[l])):\n",
    "        try:\n",
    "            print(features[i] + ' - ' + str(round(lr2.coef_[l][i], 3)))\n",
    "        except:\n",
    "            IndexError\n",
    "    print('')"
   ]
  },
  {
   "cell_type": "code",
   "execution_count": 176,
   "metadata": {
    "collapsed": true
   },
   "outputs": [],
   "source": [
    "# Для Картмена фича с самым большим коэффициентом - fuck(+).\n",
    "# Для Кенни фича с самым большим коэффициентом - тоже fuck(-). Как ни странно у фичи наличия скобки в начале - \n",
    "# отрицательный коэффициент. Как и все другие коэффициенты.\n",
    "# Для Кайла фича с самым большим коэффициентом - fuck(-). При чем коэффициент - 0.936. Но у Кайла самые низкие recall и precision.\n",
    "# Для Стэна фича с самым большим коэффициентом - bitch(+)."
   ]
  },
  {
   "cell_type": "code",
   "execution_count": 177,
   "metadata": {
    "collapsed": true
   },
   "outputs": [],
   "source": [
    "# Значит, лучше всего работает вторая логистическая регрессия с TfidfVectorizer. И я только что заметила, что я удаляла пунктуацию \n",
    "# при токенизации. А ведь у Кенни везде скобки. Сейчас попробвем то же самое только без удаления."
   ]
  },
  {
   "cell_type": "code",
   "execution_count": 178,
   "metadata": {
    "collapsed": true
   },
   "outputs": [],
   "source": [
    "tokenizer = RegexpTokenizer(r'\\w+')\n",
    "def lemmatize_w_punct(text):\n",
    "    text = text.lower()\n",
    "    words = word_tokenize(text)\n",
    "    return [lmtzr.lemmatize(w) for w in words]"
   ]
  },
  {
   "cell_type": "code",
   "execution_count": 180,
   "metadata": {
    "collapsed": true
   },
   "outputs": [],
   "source": [
    "# Я нге сохранила тогда разделение на тест и трэйн, поэтому, к сожалению, этот результат будет на новом делении."
   ]
  },
  {
   "cell_type": "code",
   "execution_count": 181,
   "metadata": {
    "collapsed": true
   },
   "outputs": [],
   "source": [
    "X_train2, X_test2, y_train2, y_test2 = train_test_split(new_data['line'], new_data['character'],\n",
    "                                                               test_size=0.2)"
   ]
  },
  {
   "cell_type": "code",
   "execution_count": 182,
   "metadata": {
    "collapsed": false
   },
   "outputs": [],
   "source": [
    "vectorizer = TfidfVectorizer(tokenizer=lemmatize_w_punct)\n",
    "X_train2 = vectorizer.fit_transform(X_train2)\n",
    "X_test2 = vectorizer.transform(X_test2)"
   ]
  },
  {
   "cell_type": "code",
   "execution_count": 183,
   "metadata": {
    "collapsed": false
   },
   "outputs": [
    {
     "name": "stdout",
     "output_type": "stream",
     "text": [
      "             precision    recall  f1-score   support\n",
      "\n",
      "    Cartman       0.60      0.70      0.65      1967\n",
      "      Kenny       0.94      0.95      0.94       170\n",
      "       Kyle       0.45      0.40      0.42      1363\n",
      "       Stan       0.49      0.44      0.46      1587\n",
      "\n",
      "avg / total       0.54      0.55      0.54      5087\n",
      "\n",
      "Confusion matrix, without normalization\n",
      "[[1377    4  268  318]\n",
      " [   5  161    3    1]\n",
      " [ 409    6  545  403]\n",
      " [ 501    0  391  695]]\n"
     ]
    },
    {
     "data": {
      "image/png": "[encoded data removed]",
      "text/plain": [
       "<matplotlib.figure.Figure at 0x117c1978>"
      ]
     },
     "metadata": {},
     "output_type": "display_data"
    }
   ],
   "source": [
    "lr4 = LogisticRegression(class_weight='balanced')\n",
    "lr4.fit(X_train2, y_train2)\n",
    "char_pred_lr4 = lr4.predict(X_test2)\n",
    "print(classification_report(y_test2, char_pred_lr4))\n",
    "plt.figure()\n",
    "plot_confusion_matrix(confusion_matrix(y_test2, char_pred_lr4), classes=lr2.classes_,\n",
    "                      title='Confusion matrix, without normalization', cmap=plt.cm.Reds)\n",
    "plt.show()"
   ]
  },
  {
   "cell_type": "code",
   "execution_count": 184,
   "metadata": {
    "collapsed": true
   },
   "outputs": [],
   "source": [
    "# Вот теперь это лучший результат. Очень хорошо классифицируется Кенни, неплохие показатели у Картмена. \n",
    "# И достаточно низкие у Кайла и Стэна."
   ]
  },
  {
   "cell_type": "code",
   "execution_count": null,
   "metadata": {
    "collapsed": true
   },
   "outputs": [],
   "source": []
  }
 ],
 "metadata": {
  "kernelspec": {
   "display_name": "Python 3",
   "language": "python",
   "name": "python3"
  },
  "language_info": {
   "codemirror_mode": {
    "name": "ipython",
    "version": 3
   },
   "file_extension": ".py",
   "mimetype": "text/x-python",
   "name": "python",
   "nbconvert_exporter": "python",
   "pygments_lexer": "ipython3",
   "version": "3.6.0"
  }
 },
 "nbformat": 4,
 "nbformat_minor": 2
}
