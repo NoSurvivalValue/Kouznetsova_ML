{
 "cells": [
  {
   "cell_type": "code",
   "execution_count": 138,
   "metadata": {
    "collapsed": false
   },
   "outputs": [],
   "source": [
    "import numpy as np\n",
    "import pandas\n",
    "import matplotlib.pyplot as plt\n",
    "import codecs\n",
    "from matplotlib.gridspec import GridSpec\n",
    "from sklearn.tree import DecisionTreeClassifier\n",
    "from sklearn.ensemble import RandomForestClassifier\n",
    "from sklearn.model_selection import train_test_split, KFold, cross_val_score\n",
    "from sklearn.metrics import classification_report, f1_score, confusion_matrix, precision_score, recall_score\n",
    "\n",
    "%matplotlib inline"
   ]
  },
  {
   "cell_type": "code",
   "execution_count": 17,
   "metadata": {
    "collapsed": true
   },
   "outputs": [],
   "source": [
    "titanic = pandas.read_csv('train.csv', sep=',', index_col='PassengerId')"
   ]
  },
  {
   "cell_type": "code",
   "execution_count": 19,
   "metadata": {
    "collapsed": true
   },
   "outputs": [],
   "source": [
    "# 1А ЖЕНЩИНЫ VS. МУЖЧИНЫ"
   ]
  },
  {
   "cell_type": "code",
   "execution_count": 46,
   "metadata": {
    "collapsed": false
   },
   "outputs": [],
   "source": [
    "sexsur = titanic.groupby(['Sex', 'Survived']).size().unstack()"
   ]
  },
  {
   "cell_type": "code",
   "execution_count": 47,
   "metadata": {
    "collapsed": false
   },
   "outputs": [
    {
     "name": "stdout",
     "output_type": "stream",
     "text": [
      "Survived   0   1\n",
      "Sex             \n",
      "female     6  82\n",
      "male      54  41\n"
     ]
    }
   ],
   "source": [
    "print(sexsur)"
   ]
  },
  {
   "cell_type": "code",
   "execution_count": 44,
   "metadata": {
    "collapsed": false
   },
   "outputs": [
    {
     "data": {
      "text/plain": [
       "<matplotlib.legend.Legend at 0xc526940>"
      ]
     },
     "execution_count": 44,
     "metadata": {},
     "output_type": "execute_result"
    },
    {
     "data": {
      "image/png": "[encoded data removed]",
      "text/plain": [
       "<matplotlib.figure.Figure at 0xa3da400>"
      ]
     },
     "metadata": {},
     "output_type": "display_data"
    }
   ],
   "source": [
    "red, blue = '#B2182B', '#2166AC'\n",
    "sexsur = (1. * sexsur.T / sexsur.T.sum()).T\n",
    "plt.subplot(121)\n",
    "plt.bar([0, 1], sexsur[0], color=red, label='Died')\n",
    "plt.bar([0, 1], sexsur[1], bottom=sexsur[0], color=blue, label='Survived')\n",
    "plt.xticks([0.05, 1], ['Female', 'Male'], rotation='horizontal')\n",
    "plt.ylabel(\"Percent\")\n",
    "plt.xlabel(\"\")\n",
    "plt.legend(loc='upper left')"
   ]
  },
  {
   "cell_type": "code",
   "execution_count": 25,
   "metadata": {
    "collapsed": true
   },
   "outputs": [],
   "source": [
    "# Из диаграммы видно, что погибло меньше 10% всех женщин на корабле, но больше половины мужчин."
   ]
  },
  {
   "cell_type": "code",
   "execution_count": 26,
   "metadata": {
    "collapsed": true
   },
   "outputs": [],
   "source": [
    "# 1Б 1-Й класс VS. 2-Й КЛАСС VS. 3-Й КЛАСС"
   ]
  },
  {
   "cell_type": "code",
   "execution_count": 48,
   "metadata": {
    "collapsed": true
   },
   "outputs": [],
   "source": [
    "classsur = titanic.groupby(['Pclass', 'Survived']).size().unstack()"
   ]
  },
  {
   "cell_type": "code",
   "execution_count": 49,
   "metadata": {
    "collapsed": false
   },
   "outputs": [
    {
     "name": "stdout",
     "output_type": "stream",
     "text": [
      "Survived   0    1\n",
      "Pclass           \n",
      "1         52  106\n",
      "2          3   12\n",
      "3          5    5\n"
     ]
    }
   ],
   "source": [
    "print(classsur)"
   ]
  },
  {
   "cell_type": "code",
   "execution_count": 43,
   "metadata": {
    "collapsed": false
   },
   "outputs": [
    {
     "data": {
      "text/plain": [
       "<matplotlib.legend.Legend at 0xc4aa0f0>"
      ]
     },
     "execution_count": 43,
     "metadata": {},
     "output_type": "execute_result"
    },
    {
     "data": {
      "image/png": "[encoded data removed]",
      "text/plain": [
       "<matplotlib.figure.Figure at 0xc0aa4a8>"
      ]
     },
     "metadata": {},
     "output_type": "display_data"
    }
   ],
   "source": [
    "red, blue = '#B2182B', '#2166AC'\n",
    "classsur = (1. * classsur.T / classsur.T.sum()).T\n",
    "plt.subplot(121)\n",
    "plt.bar([0, 1, 2], classsur[0], color=red, label='Died')\n",
    "plt.bar([0, 1, 2], classsur[1], bottom=classsur[0], color=blue, label='Survived')\n",
    "plt.xticks([0.05, 1, 2], ['1st Class', '2nd Class', '3rd Class'], rotation='horizontal')\n",
    "plt.ylabel(\"Percent\")\n",
    "plt.xlabel(\"\")\n",
    "plt.legend(loc='upper left')"
   ]
  },
  {
   "cell_type": "code",
   "execution_count": 50,
   "metadata": {
    "collapsed": true
   },
   "outputs": [],
   "source": [
    "# Из диаграммы видно, что погибло чуть больше 30% пассажиров первого класс.\n",
    "# Что интересно, так как их второго класса погибло меньше в процентном соотношении - примерно 20%.\n",
    "# Из третьего класса погибла половина пассажиров."
   ]
  },
  {
   "cell_type": "code",
   "execution_count": 51,
   "metadata": {
    "collapsed": true
   },
   "outputs": [],
   "source": [
    "# 1В СТОИМОСТЬ БИЛЕТА В ЗАВИСИМОСТИ ОТ СОЦИАЛЬНО-ЭКОНОМИЧЕСКОГО КЛАССА"
   ]
  },
  {
   "cell_type": "code",
   "execution_count": 53,
   "metadata": {
    "collapsed": false
   },
   "outputs": [
    {
     "data": {
      "image/png": "[encoded data removed]",
      "text/plain": [
       "<matplotlib.figure.Figure at 0xc464908>"
      ]
     },
     "metadata": {},
     "output_type": "display_data"
    }
   ],
   "source": [
    "class1 = titanic.query('Pclass == 1')['Fare']\n",
    "class2 = titanic.query('Pclass == 2')['Fare']\n",
    "class3 = titanic.query('Pclass == 3')['Fare']\n",
    "classprice = [class1, class2, class3]\n",
    "\n",
    "c = plt.figure()\n",
    "a = c.add_subplot(111)\n",
    "b = a.boxplot(classprice, showfliers=True)\n",
    "a.set_xticklabels(['Class 1', 'Class 2', 'Class 3'])\n",
    "a.set_ylabel('Fare')\n",
    " \n",
    "plt.show()"
   ]
  },
  {
   "cell_type": "code",
   "execution_count": 54,
   "metadata": {
    "collapsed": true
   },
   "outputs": [],
   "source": [
    "# In general, tickets for the first class are the most expensive, \n",
    "# tickets for second class cabins are somewhere in the middle\n",
    "# and tickets for third class cabins are the cheapest.\n",
    "# Though the difference between second class tickets and third class tickets isn't that drastic. \n",
    "# But the fist class tickets are noticeably more expensive.\n",
    "# Also three passengers bought their ticket for a first class cabin for $5123292. They all survived."
   ]
  },
  {
   "cell_type": "code",
   "execution_count": 55,
   "metadata": {
    "collapsed": true
   },
   "outputs": [],
   "source": [
    "# 2 СРАВНЕНИЕ ПО ПОЛУ И КЛАССУ"
   ]
  },
  {
   "cell_type": "code",
   "execution_count": 59,
   "metadata": {
    "collapsed": false
   },
   "outputs": [],
   "source": [
    "import seaborn as sns"
   ]
  },
  {
   "cell_type": "code",
   "execution_count": 61,
   "metadata": {
    "collapsed": false
   },
   "outputs": [
    {
     "data": {
      "text/plain": [
       "<seaborn.axisgrid.FacetGrid at 0xc712128>"
      ]
     },
     "execution_count": 61,
     "metadata": {},
     "output_type": "execute_result"
    },
    {
     "data": {
      "image/png": "[encoded data removed]",
      "text/plain": [
       "<matplotlib.figure.Figure at 0xc74ec50>"
      ]
     },
     "metadata": {},
     "output_type": "display_data"
    }
   ],
   "source": [
    "sns.factorplot(x=\"Pclass\", y=\"Survived\", hue=\"Sex\", data=titanic, kind=\"bar\")"
   ]
  },
  {
   "cell_type": "code",
   "execution_count": 62,
   "metadata": {
    "collapsed": true
   },
   "outputs": [],
   "source": [
    "# Во все трех классах больше вижило жещин чем мужчин в процентном соотношении.\n",
    "# Однако больший процент мужчин выжил во втором классе чем в первом. \n",
    "# В первом классе процент выживания для мужчин почти такой-же как в третьем классе."
   ]
  },
  {
   "cell_type": "code",
   "execution_count": 63,
   "metadata": {
    "collapsed": true
   },
   "outputs": [],
   "source": [
    "# 3 ЧИСТКА"
   ]
  },
  {
   "cell_type": "code",
   "execution_count": 66,
   "metadata": {
    "collapsed": true
   },
   "outputs": [],
   "source": [
    "titanic[\"Age\"] = titanic[\"Age\"].fillna(titanic[\"Age\"].median())\n",
    "features = ['Pclass', 'Fare', 'Age', 'Sex']\n",
    "titanic['Sex'] = titanic['Sex'].map(lambda sex: 1 if sex == 'male' else 0)\n",
    "X, y = titanic[features], titanic['Survived']"
   ]
  },
  {
   "cell_type": "code",
   "execution_count": 67,
   "metadata": {
    "collapsed": false
   },
   "outputs": [
    {
     "data": {
      "text/html": [
       "<div>\n",
       "<table border=\"1\" class=\"dataframe\">\n",
       "  <thead>\n",
       "    <tr style=\"text-align: right;\">\n",
       "      <th></th>\n",
       "      <th>Pclass</th>\n",
       "      <th>Fare</th>\n",
       "      <th>Age</th>\n",
       "      <th>Sex</th>\n",
       "    </tr>\n",
       "    <tr>\n",
       "      <th>PassengerId</th>\n",
       "      <th></th>\n",
       "      <th></th>\n",
       "      <th></th>\n",
       "      <th></th>\n",
       "    </tr>\n",
       "  </thead>\n",
       "  <tbody>\n",
       "    <tr>\n",
       "      <th>2</th>\n",
       "      <td>1</td>\n",
       "      <td>71.2833</td>\n",
       "      <td>38.0</td>\n",
       "      <td>0</td>\n",
       "    </tr>\n",
       "    <tr>\n",
       "      <th>4</th>\n",
       "      <td>1</td>\n",
       "      <td>53.1000</td>\n",
       "      <td>35.0</td>\n",
       "      <td>0</td>\n",
       "    </tr>\n",
       "    <tr>\n",
       "      <th>7</th>\n",
       "      <td>1</td>\n",
       "      <td>51.8625</td>\n",
       "      <td>54.0</td>\n",
       "      <td>1</td>\n",
       "    </tr>\n",
       "    <tr>\n",
       "      <th>11</th>\n",
       "      <td>3</td>\n",
       "      <td>16.7000</td>\n",
       "      <td>4.0</td>\n",
       "      <td>0</td>\n",
       "    </tr>\n",
       "    <tr>\n",
       "      <th>12</th>\n",
       "      <td>1</td>\n",
       "      <td>26.5500</td>\n",
       "      <td>58.0</td>\n",
       "      <td>0</td>\n",
       "    </tr>\n",
       "  </tbody>\n",
       "</table>\n",
       "</div>"
      ],
      "text/plain": [
       "             Pclass     Fare   Age  Sex\n",
       "PassengerId                            \n",
       "2                 1  71.2833  38.0    0\n",
       "4                 1  53.1000  35.0    0\n",
       "7                 1  51.8625  54.0    1\n",
       "11                3  16.7000   4.0    0\n",
       "12                1  26.5500  58.0    0"
      ]
     },
     "execution_count": 67,
     "metadata": {},
     "output_type": "execute_result"
    }
   ],
   "source": [
    "X.head()"
   ]
  },
  {
   "cell_type": "code",
   "execution_count": 68,
   "metadata": {
    "collapsed": true
   },
   "outputs": [],
   "source": [
    "# 4 ДЕРЕВО РЕШЕНИЙ"
   ]
  },
  {
   "cell_type": "code",
   "execution_count": 87,
   "metadata": {
    "collapsed": false
   },
   "outputs": [
    {
     "name": "stdout",
     "output_type": "stream",
     "text": [
      "             precision    recall  f1-score   support\n",
      "\n",
      "          0       0.68      0.72      0.70        18\n",
      "          1       0.86      0.84      0.85        37\n",
      "\n",
      "avg / total       0.80      0.80      0.80        55\n",
      "\n"
     ]
    }
   ],
   "source": [
    "X_train, X_test, y_train, y_test = train_test_split(X, y, test_size=0.3)\n",
    "clf = DecisionTreeClassifier(min_samples_split=2, min_samples_leaf=1)\n",
    "clf.fit(X_train, y_train)\n",
    "y_pred_clf = clf.predict(X_test)\n",
    "print(classification_report(y_test, y_pred_clf))"
   ]
  },
  {
   "cell_type": "code",
   "execution_count": 106,
   "metadata": {
    "collapsed": false
   },
   "outputs": [
    {
     "name": "stdout",
     "output_type": "stream",
     "text": [
      "3 and 1\n",
      "             precision    recall  f1-score   support\n",
      "\n",
      "          0       0.58      0.78      0.67        18\n",
      "          1       0.87      0.73      0.79        37\n",
      "\n",
      "avg / total       0.78      0.75      0.75        55\n",
      "\n",
      "3 and 2\n",
      "             precision    recall  f1-score   support\n",
      "\n",
      "          0       0.62      0.72      0.67        18\n",
      "          1       0.85      0.78      0.82        37\n",
      "\n",
      "avg / total       0.78      0.76      0.77        55\n",
      "\n",
      "3 and 3\n",
      "             precision    recall  f1-score   support\n",
      "\n",
      "          0       0.60      0.67      0.63        18\n",
      "          1       0.83      0.78      0.81        37\n",
      "\n",
      "avg / total       0.75      0.75      0.75        55\n",
      "\n",
      "3 and 4\n",
      "             precision    recall  f1-score   support\n",
      "\n",
      "          0       0.56      0.78      0.65        18\n",
      "          1       0.87      0.70      0.78        37\n",
      "\n",
      "avg / total       0.77      0.73      0.74        55\n",
      "\n",
      "3 and 5\n",
      "             precision    recall  f1-score   support\n",
      "\n",
      "          0       0.65      0.61      0.63        18\n",
      "          1       0.82      0.84      0.83        37\n",
      "\n",
      "avg / total       0.76      0.76      0.76        55\n",
      "\n",
      "3 and 6\n",
      "             precision    recall  f1-score   support\n",
      "\n",
      "          0       0.65      0.61      0.63        18\n",
      "          1       0.82      0.84      0.83        37\n",
      "\n",
      "avg / total       0.76      0.76      0.76        55\n",
      "\n",
      "3 and 7\n",
      "             precision    recall  f1-score   support\n",
      "\n",
      "          0       0.68      0.83      0.75        18\n",
      "          1       0.91      0.81      0.86        37\n",
      "\n",
      "avg / total       0.83      0.82      0.82        55\n",
      "\n",
      "3 and 8\n",
      "             precision    recall  f1-score   support\n",
      "\n",
      "          0       0.69      0.50      0.58        18\n",
      "          1       0.79      0.89      0.84        37\n",
      "\n",
      "avg / total       0.76      0.76      0.75        55\n",
      "\n",
      "3 and 9\n",
      "             precision    recall  f1-score   support\n",
      "\n",
      "          0       0.60      0.50      0.55        18\n",
      "          1       0.78      0.84      0.81        37\n",
      "\n",
      "avg / total       0.72      0.73      0.72        55\n",
      "\n",
      "3 and 10\n",
      "             precision    recall  f1-score   support\n",
      "\n",
      "          0       0.60      0.50      0.55        18\n",
      "          1       0.78      0.84      0.81        37\n",
      "\n",
      "avg / total       0.72      0.73      0.72        55\n",
      "\n",
      "4 and 1\n",
      "             precision    recall  f1-score   support\n",
      "\n",
      "          0       0.54      0.72      0.62        18\n",
      "          1       0.84      0.70      0.76        37\n",
      "\n",
      "avg / total       0.74      0.71      0.72        55\n",
      "\n",
      "4 and 2\n",
      "             precision    recall  f1-score   support\n",
      "\n",
      "          0       0.65      0.72      0.68        18\n",
      "          1       0.86      0.81      0.83        37\n",
      "\n",
      "avg / total       0.79      0.78      0.78        55\n",
      "\n",
      "4 and 3\n",
      "             precision    recall  f1-score   support\n",
      "\n",
      "          0       0.60      0.67      0.63        18\n",
      "          1       0.83      0.78      0.81        37\n",
      "\n",
      "avg / total       0.75      0.75      0.75        55\n",
      "\n",
      "4 and 4\n",
      "             precision    recall  f1-score   support\n",
      "\n",
      "          0       0.56      0.78      0.65        18\n",
      "          1       0.87      0.70      0.78        37\n",
      "\n",
      "avg / total       0.77      0.73      0.74        55\n",
      "\n",
      "4 and 5\n",
      "             precision    recall  f1-score   support\n",
      "\n",
      "          0       0.65      0.61      0.63        18\n",
      "          1       0.82      0.84      0.83        37\n",
      "\n",
      "avg / total       0.76      0.76      0.76        55\n",
      "\n",
      "4 and 6\n",
      "             precision    recall  f1-score   support\n",
      "\n",
      "          0       0.65      0.61      0.63        18\n",
      "          1       0.82      0.84      0.83        37\n",
      "\n",
      "avg / total       0.76      0.76      0.76        55\n",
      "\n",
      "4 and 7\n",
      "             precision    recall  f1-score   support\n",
      "\n",
      "          0       0.68      0.83      0.75        18\n",
      "          1       0.91      0.81      0.86        37\n",
      "\n",
      "avg / total       0.83      0.82      0.82        55\n",
      "\n",
      "4 and 8\n",
      "             precision    recall  f1-score   support\n",
      "\n",
      "          0       0.63      0.67      0.65        18\n",
      "          1       0.83      0.81      0.82        37\n",
      "\n",
      "avg / total       0.77      0.76      0.77        55\n",
      "\n",
      "4 and 9\n",
      "             precision    recall  f1-score   support\n",
      "\n",
      "          0       0.60      0.50      0.55        18\n",
      "          1       0.78      0.84      0.81        37\n",
      "\n",
      "avg / total       0.72      0.73      0.72        55\n",
      "\n",
      "4 and 10\n",
      "             precision    recall  f1-score   support\n",
      "\n",
      "          0       0.60      0.50      0.55        18\n",
      "          1       0.78      0.84      0.81        37\n",
      "\n",
      "avg / total       0.72      0.73      0.72        55\n",
      "\n",
      "5 and 1\n",
      "             precision    recall  f1-score   support\n",
      "\n",
      "          0       0.58      0.78      0.67        18\n",
      "          1       0.87      0.73      0.79        37\n",
      "\n",
      "avg / total       0.78      0.75      0.75        55\n",
      "\n",
      "5 and 2\n",
      "             precision    recall  f1-score   support\n",
      "\n",
      "          0       0.59      0.89      0.71        18\n",
      "          1       0.93      0.70      0.80        37\n",
      "\n",
      "avg / total       0.82      0.76      0.77        55\n",
      "\n",
      "5 and 3\n",
      "             precision    recall  f1-score   support\n",
      "\n",
      "          0       0.60      0.67      0.63        18\n",
      "          1       0.83      0.78      0.81        37\n",
      "\n",
      "avg / total       0.75      0.75      0.75        55\n",
      "\n",
      "5 and 4\n",
      "             precision    recall  f1-score   support\n",
      "\n",
      "          0       0.56      0.78      0.65        18\n",
      "          1       0.87      0.70      0.78        37\n",
      "\n",
      "avg / total       0.77      0.73      0.74        55\n",
      "\n",
      "5 and 5\n",
      "             precision    recall  f1-score   support\n",
      "\n",
      "          0       0.65      0.61      0.63        18\n",
      "          1       0.82      0.84      0.83        37\n",
      "\n",
      "avg / total       0.76      0.76      0.76        55\n",
      "\n",
      "5 and 6\n",
      "             precision    recall  f1-score   support\n",
      "\n",
      "          0       0.65      0.61      0.63        18\n",
      "          1       0.82      0.84      0.83        37\n",
      "\n",
      "avg / total       0.76      0.76      0.76        55\n",
      "\n",
      "5 and 7\n",
      "             precision    recall  f1-score   support\n",
      "\n",
      "          0       0.68      0.83      0.75        18\n",
      "          1       0.91      0.81      0.86        37\n",
      "\n",
      "avg / total       0.83      0.82      0.82        55\n",
      "\n",
      "5 and 8\n",
      "             precision    recall  f1-score   support\n",
      "\n",
      "          0       0.69      0.50      0.58        18\n",
      "          1       0.79      0.89      0.84        37\n",
      "\n",
      "avg / total       0.76      0.76      0.75        55\n",
      "\n",
      "5 and 9\n",
      "             precision    recall  f1-score   support\n",
      "\n",
      "          0       0.60      0.50      0.55        18\n",
      "          1       0.78      0.84      0.81        37\n",
      "\n",
      "avg / total       0.72      0.73      0.72        55\n",
      "\n",
      "5 and 10\n",
      "             precision    recall  f1-score   support\n",
      "\n",
      "          0       0.60      0.50      0.55        18\n",
      "          1       0.78      0.84      0.81        37\n",
      "\n",
      "avg / total       0.72      0.73      0.72        55\n",
      "\n",
      "6 and 1\n",
      "             precision    recall  f1-score   support\n",
      "\n",
      "          0       0.55      0.67      0.60        18\n",
      "          1       0.82      0.73      0.77        37\n",
      "\n",
      "avg / total       0.73      0.71      0.72        55\n",
      "\n",
      "6 and 2\n",
      "             precision    recall  f1-score   support\n",
      "\n",
      "          0       0.62      0.83      0.71        18\n",
      "          1       0.90      0.76      0.82        37\n",
      "\n",
      "avg / total       0.81      0.78      0.79        55\n",
      "\n",
      "6 and 3\n",
      "             precision    recall  f1-score   support\n",
      "\n",
      "          0       0.60      0.67      0.63        18\n",
      "          1       0.83      0.78      0.81        37\n",
      "\n",
      "avg / total       0.75      0.75      0.75        55\n",
      "\n",
      "6 and 4\n",
      "             precision    recall  f1-score   support\n",
      "\n",
      "          0       0.56      0.78      0.65        18\n",
      "          1       0.87      0.70      0.78        37\n",
      "\n",
      "avg / total       0.77      0.73      0.74        55\n",
      "\n",
      "6 and 5\n",
      "             precision    recall  f1-score   support\n",
      "\n",
      "          0       0.65      0.61      0.63        18\n",
      "          1       0.82      0.84      0.83        37\n",
      "\n",
      "avg / total       0.76      0.76      0.76        55\n",
      "\n",
      "6 and 6\n",
      "             precision    recall  f1-score   support\n",
      "\n",
      "          0       0.65      0.61      0.63        18\n",
      "          1       0.82      0.84      0.83        37\n",
      "\n",
      "avg / total       0.76      0.76      0.76        55\n",
      "\n",
      "6 and 7\n",
      "             precision    recall  f1-score   support\n",
      "\n",
      "          0       0.68      0.83      0.75        18\n",
      "          1       0.91      0.81      0.86        37\n",
      "\n",
      "avg / total       0.83      0.82      0.82        55\n",
      "\n",
      "6 and 8\n",
      "             precision    recall  f1-score   support\n",
      "\n",
      "          0       0.63      0.67      0.65        18\n",
      "          1       0.83      0.81      0.82        37\n",
      "\n",
      "avg / total       0.77      0.76      0.77        55\n",
      "\n",
      "6 and 9\n",
      "             precision    recall  f1-score   support\n",
      "\n",
      "          0       0.60      0.50      0.55        18\n",
      "          1       0.78      0.84      0.81        37\n",
      "\n",
      "avg / total       0.72      0.73      0.72        55\n",
      "\n",
      "6 and 10\n",
      "             precision    recall  f1-score   support\n",
      "\n",
      "          0       0.60      0.50      0.55        18\n",
      "          1       0.78      0.84      0.81        37\n",
      "\n",
      "avg / total       0.72      0.73      0.72        55\n",
      "\n",
      "7 and 1\n",
      "             precision    recall  f1-score   support\n",
      "\n",
      "          0       0.55      0.67      0.60        18\n",
      "          1       0.82      0.73      0.77        37\n",
      "\n",
      "avg / total       0.73      0.71      0.72        55\n",
      "\n",
      "7 and 2\n",
      "             precision    recall  f1-score   support\n",
      "\n",
      "          0       0.60      0.83      0.70        18\n",
      "          1       0.90      0.73      0.81        37\n",
      "\n",
      "avg / total       0.80      0.76      0.77        55\n",
      "\n",
      "7 and 3\n",
      "             precision    recall  f1-score   support\n",
      "\n",
      "          0       0.60      0.67      0.63        18\n",
      "          1       0.83      0.78      0.81        37\n",
      "\n",
      "avg / total       0.75      0.75      0.75        55\n",
      "\n",
      "7 and 4\n",
      "             precision    recall  f1-score   support\n",
      "\n",
      "          0       0.56      0.78      0.65        18\n",
      "          1       0.87      0.70      0.78        37\n",
      "\n",
      "avg / total       0.77      0.73      0.74        55\n",
      "\n",
      "7 and 5\n",
      "             precision    recall  f1-score   support\n",
      "\n",
      "          0       0.65      0.61      0.63        18\n",
      "          1       0.82      0.84      0.83        37\n",
      "\n",
      "avg / total       0.76      0.76      0.76        55\n",
      "\n",
      "7 and 6\n",
      "             precision    recall  f1-score   support\n",
      "\n",
      "          0       0.65      0.61      0.63        18\n",
      "          1       0.82      0.84      0.83        37\n",
      "\n",
      "avg / total       0.76      0.76      0.76        55\n",
      "\n",
      "7 and 7\n",
      "             precision    recall  f1-score   support\n",
      "\n",
      "          0       0.68      0.83      0.75        18\n",
      "          1       0.91      0.81      0.86        37\n",
      "\n",
      "avg / total       0.83      0.82      0.82        55\n",
      "\n",
      "7 and 8\n",
      "             precision    recall  f1-score   support\n",
      "\n",
      "          0       0.63      0.67      0.65        18\n",
      "          1       0.83      0.81      0.82        37\n",
      "\n",
      "avg / total       0.77      0.76      0.77        55\n",
      "\n",
      "7 and 9\n",
      "             precision    recall  f1-score   support\n",
      "\n",
      "          0       0.60      0.50      0.55        18\n",
      "          1       0.78      0.84      0.81        37\n",
      "\n",
      "avg / total       0.72      0.73      0.72        55\n",
      "\n",
      "7 and 10\n",
      "             precision    recall  f1-score   support\n",
      "\n",
      "          0       0.60      0.50      0.55        18\n",
      "          1       0.78      0.84      0.81        37\n",
      "\n",
      "avg / total       0.72      0.73      0.72        55\n",
      "\n",
      "8 and 1\n",
      "             precision    recall  f1-score   support\n",
      "\n",
      "          0       0.57      0.72      0.63        18\n",
      "          1       0.84      0.73      0.78        37\n",
      "\n",
      "avg / total       0.75      0.73      0.73        55\n",
      "\n",
      "8 and 2\n",
      "             precision    recall  f1-score   support\n",
      "\n",
      "          0       0.60      0.83      0.70        18\n",
      "          1       0.90      0.73      0.81        37\n",
      "\n",
      "avg / total       0.80      0.76      0.77        55\n",
      "\n",
      "8 and 3\n",
      "             precision    recall  f1-score   support\n",
      "\n",
      "          0       0.60      0.67      0.63        18\n",
      "          1       0.83      0.78      0.81        37\n",
      "\n",
      "avg / total       0.75      0.75      0.75        55\n",
      "\n",
      "8 and 4\n",
      "             precision    recall  f1-score   support\n",
      "\n",
      "          0       0.56      0.78      0.65        18\n",
      "          1       0.87      0.70      0.78        37\n",
      "\n",
      "avg / total       0.77      0.73      0.74        55\n",
      "\n",
      "8 and 5\n",
      "             precision    recall  f1-score   support\n",
      "\n",
      "          0       0.65      0.61      0.63        18\n",
      "          1       0.82      0.84      0.83        37\n",
      "\n",
      "avg / total       0.76      0.76      0.76        55\n",
      "\n",
      "8 and 6\n",
      "             precision    recall  f1-score   support\n",
      "\n",
      "          0       0.65      0.61      0.63        18\n",
      "          1       0.82      0.84      0.83        37\n",
      "\n",
      "avg / total       0.76      0.76      0.76        55\n",
      "\n",
      "8 and 7\n",
      "             precision    recall  f1-score   support\n",
      "\n",
      "          0       0.68      0.83      0.75        18\n",
      "          1       0.91      0.81      0.86        37\n",
      "\n",
      "avg / total       0.83      0.82      0.82        55\n",
      "\n",
      "8 and 8\n",
      "             precision    recall  f1-score   support\n",
      "\n",
      "          0       0.63      0.67      0.65        18\n",
      "          1       0.83      0.81      0.82        37\n",
      "\n",
      "avg / total       0.77      0.76      0.77        55\n",
      "\n",
      "8 and 9\n",
      "             precision    recall  f1-score   support\n",
      "\n",
      "          0       0.60      0.50      0.55        18\n",
      "          1       0.78      0.84      0.81        37\n",
      "\n",
      "avg / total       0.72      0.73      0.72        55\n",
      "\n",
      "8 and 10\n",
      "             precision    recall  f1-score   support\n",
      "\n",
      "          0       0.60      0.50      0.55        18\n",
      "          1       0.78      0.84      0.81        37\n",
      "\n",
      "avg / total       0.72      0.73      0.72        55\n",
      "\n",
      "9 and 1\n",
      "             precision    recall  f1-score   support\n",
      "\n",
      "          0       0.59      0.72      0.65        18\n",
      "          1       0.85      0.76      0.80        37\n",
      "\n",
      "avg / total       0.76      0.75      0.75        55\n",
      "\n",
      "9 and 2\n",
      "             precision    recall  f1-score   support\n",
      "\n",
      "          0       0.67      0.78      0.72        18\n",
      "          1       0.88      0.81      0.85        37\n",
      "\n",
      "avg / total       0.81      0.80      0.80        55\n",
      "\n",
      "9 and 3\n",
      "             precision    recall  f1-score   support\n",
      "\n",
      "          0       0.63      0.67      0.65        18\n",
      "          1       0.83      0.81      0.82        37\n",
      "\n",
      "avg / total       0.77      0.76      0.77        55\n",
      "\n",
      "9 and 4\n",
      "             precision    recall  f1-score   support\n",
      "\n",
      "          0       0.57      0.67      0.62        18\n",
      "          1       0.82      0.76      0.79        37\n",
      "\n",
      "avg / total       0.74      0.73      0.73        55\n",
      "\n",
      "9 and 5\n",
      "             precision    recall  f1-score   support\n",
      "\n",
      "          0       0.65      0.61      0.63        18\n",
      "          1       0.82      0.84      0.83        37\n",
      "\n",
      "avg / total       0.76      0.76      0.76        55\n",
      "\n",
      "9 and 6\n",
      "             precision    recall  f1-score   support\n",
      "\n",
      "          0       0.65      0.61      0.63        18\n",
      "          1       0.82      0.84      0.83        37\n",
      "\n",
      "avg / total       0.76      0.76      0.76        55\n",
      "\n",
      "9 and 7\n",
      "             precision    recall  f1-score   support\n",
      "\n",
      "          0       0.68      0.83      0.75        18\n",
      "          1       0.91      0.81      0.86        37\n",
      "\n",
      "avg / total       0.83      0.82      0.82        55\n",
      "\n",
      "9 and 8\n",
      "             precision    recall  f1-score   support\n",
      "\n",
      "          0       0.63      0.67      0.65        18\n",
      "          1       0.83      0.81      0.82        37\n",
      "\n",
      "avg / total       0.77      0.76      0.77        55\n",
      "\n",
      "9 and 9\n",
      "             precision    recall  f1-score   support\n",
      "\n",
      "          0       0.60      0.50      0.55        18\n",
      "          1       0.78      0.84      0.81        37\n",
      "\n",
      "avg / total       0.72      0.73      0.72        55\n",
      "\n",
      "9 and 10\n",
      "             precision    recall  f1-score   support\n",
      "\n",
      "          0       0.60      0.50      0.55        18\n",
      "          1       0.78      0.84      0.81        37\n",
      "\n",
      "avg / total       0.72      0.73      0.72        55\n",
      "\n",
      "10 and 1\n",
      "             precision    recall  f1-score   support\n",
      "\n",
      "          0       0.62      0.72      0.67        18\n",
      "          1       0.85      0.78      0.82        37\n",
      "\n",
      "avg / total       0.78      0.76      0.77        55\n",
      "\n",
      "10 and 2\n",
      "             precision    recall  f1-score   support\n",
      "\n",
      "          0       0.64      0.78      0.70        18\n",
      "          1       0.88      0.78      0.83        37\n",
      "\n",
      "avg / total       0.80      0.78      0.79        55\n",
      "\n",
      "10 and 3\n",
      "             precision    recall  f1-score   support\n",
      "\n",
      "          0       0.63      0.67      0.65        18\n",
      "          1       0.83      0.81      0.82        37\n",
      "\n",
      "avg / total       0.77      0.76      0.77        55\n",
      "\n",
      "10 and 4\n",
      "             precision    recall  f1-score   support\n",
      "\n",
      "          0       0.57      0.67      0.62        18\n",
      "          1       0.82      0.76      0.79        37\n",
      "\n",
      "avg / total       0.74      0.73      0.73        55\n",
      "\n",
      "10 and 5\n",
      "             precision    recall  f1-score   support\n",
      "\n",
      "          0       0.65      0.61      0.63        18\n",
      "          1       0.82      0.84      0.83        37\n",
      "\n",
      "avg / total       0.76      0.76      0.76        55\n",
      "\n",
      "10 and 6\n",
      "             precision    recall  f1-score   support\n",
      "\n",
      "          0       0.65      0.61      0.63        18\n",
      "          1       0.82      0.84      0.83        37\n",
      "\n",
      "avg / total       0.76      0.76      0.76        55\n",
      "\n",
      "10 and 7\n",
      "             precision    recall  f1-score   support\n",
      "\n",
      "          0       0.68      0.83      0.75        18\n",
      "          1       0.91      0.81      0.86        37\n",
      "\n",
      "avg / total       0.83      0.82      0.82        55\n",
      "\n",
      "10 and 8\n",
      "             precision    recall  f1-score   support\n",
      "\n",
      "          0       0.63      0.67      0.65        18\n",
      "          1       0.83      0.81      0.82        37\n",
      "\n",
      "avg / total       0.77      0.76      0.77        55\n",
      "\n",
      "10 and 9\n",
      "             precision    recall  f1-score   support\n",
      "\n",
      "          0       0.60      0.50      0.55        18\n",
      "          1       0.78      0.84      0.81        37\n",
      "\n",
      "avg / total       0.72      0.73      0.72        55\n",
      "\n",
      "10 and 10\n",
      "             precision    recall  f1-score   support\n",
      "\n",
      "          0       0.60      0.50      0.55        18\n",
      "          1       0.78      0.84      0.81        37\n",
      "\n",
      "avg / total       0.72      0.73      0.72        55\n",
      "\n"
     ]
    }
   ],
   "source": [
    "splits = [3, 4, 5, 6, 7, 8, 9, 10]\n",
    "leaves = [1, 2, 3, 4, 5, 6, 7, 8, 9, 10]\n",
    "results = {}\n",
    "for s in splits:\n",
    "    for l in leaves:\n",
    "        result = []\n",
    "        clf1 = DecisionTreeClassifier(min_samples_split=s, min_samples_leaf=l)\n",
    "        clf1.fit(X_train, y_train)\n",
    "        y_pred_clf1 = clf1.predict(X_test)\n",
    "        result.append(precision_score(y_test, y_pred_clf1))\n",
    "        result.append(recall_score(y_test, y_pred_clf1))\n",
    "        result.append(f1_score(y_test, y_pred_clf1))\n",
    "        results[str(s) + ' and ' + str(l)] = result\n",
    "        print(str(s) + ' and ' + str(l))\n",
    "        print(classification_report(y_test, y_pred_clf1))"
   ]
  },
  {
   "cell_type": "code",
   "execution_count": 108,
   "metadata": {
    "collapsed": false
   },
   "outputs": [],
   "source": [
    "report = pandas.DataFrame(results, index=['precision', 'recall', 'f1_score'], columns=results.keys())"
   ]
  },
  {
   "cell_type": "code",
   "execution_count": null,
   "metadata": {
    "collapsed": true
   },
   "outputs": [],
   "source": [
    "# Лучше всего дерево работает, когда min_samples_leaf = 7, и не важно чему равен min_samples_split.\n",
    "# Поэтому попробуем с min_samples_leaf = 7, но с изменением min_samples_split"
   ]
  },
  {
   "cell_type": "code",
   "execution_count": 125,
   "metadata": {
    "collapsed": false
   },
   "outputs": [],
   "source": [
    "results2 = {}\n",
    "for s in splits:\n",
    "    result2 = []\n",
    "    clf2 = DecisionTreeClassifier(min_samples_split=s, min_samples_leaf=7)\n",
    "    clf2.fit(X_train, y_train)\n",
    "    y_pred_clf2 = clf2.predict(X_test)\n",
    "    result2.append(precision_score(y_test, y_pred_clf2))\n",
    "    result2.append(recall_score(y_test, y_pred_clf2))\n",
    "    result2.append(f1_score(y_test, y_pred_clf2))\n",
    "    results2[s] = result2"
   ]
  },
  {
   "cell_type": "code",
   "execution_count": 126,
   "metadata": {
    "collapsed": false
   },
   "outputs": [
    {
     "name": "stdout",
     "output_type": "stream",
     "text": [
      "                 3         4         5         6         7         8   \\\n",
      "precision  0.909091  0.909091  0.909091  0.909091  0.909091  0.909091   \n",
      "recall     0.810811  0.810811  0.810811  0.810811  0.810811  0.810811   \n",
      "f1_score   0.857143  0.857143  0.857143  0.857143  0.857143  0.857143   \n",
      "\n",
      "                 9         10  \n",
      "precision  0.909091  0.909091  \n",
      "recall     0.810811  0.810811  \n",
      "f1_score   0.857143  0.857143  \n"
     ]
    }
   ],
   "source": [
    "report2 = pandas.DataFrame(results2, index=['precision', 'recall', 'f1_score'], columns=results2.keys())\n",
    "print(report2)"
   ]
  },
  {
   "cell_type": "code",
   "execution_count": 141,
   "metadata": {
    "collapsed": false
   },
   "outputs": [
    {
     "data": {
      "text/plain": [
       "<matplotlib.axes._subplots.AxesSubplot at 0xed5f630>"
      ]
     },
     "execution_count": 141,
     "metadata": {},
     "output_type": "execute_result"
    },
    {
     "data": {
      "image/png": "[encoded data removed]",
      "text/plain": [
       "<matplotlib.figure.Figure at 0xdb337f0>"
      ]
     },
     "metadata": {},
     "output_type": "display_data"
    },
    {
     "data": {
      "image/png": "[encoded data removed]",
      "text/plain": [
       "<matplotlib.figure.Figure at 0xdb33748>"
      ]
     },
     "metadata": {},
     "output_type": "display_data"
    },
    {
     "data": {
      "image/png": "[encoded data removed]",
      "text/plain": [
       "<matplotlib.figure.Figure at 0xd87e860>"
      ]
     },
     "metadata": {},
     "output_type": "display_data"
    }
   ],
   "source": [
    "report2[0:1].plot.bar()\n",
    "report2[1:2].plot.bar()\n",
    "report2[2:3].plot.bar()"
   ]
  },
  {
   "cell_type": "code",
   "execution_count": 130,
   "metadata": {
    "collapsed": true
   },
   "outputs": [],
   "source": [
    "# Вот на диаграммах видно что результаты одинаковые, век зависимости min_samples_split.\n",
    "# Для построения дерева мы возьмем тогда min_samples_split = 3"
   ]
  },
  {
   "cell_type": "code",
   "execution_count": 182,
   "metadata": {
    "collapsed": false
   },
   "outputs": [],
   "source": [
    "from sklearn.tree  import export_graphviz\n",
    "import graphviz"
   ]
  },
  {
   "cell_type": "code",
   "execution_count": 190,
   "metadata": {
    "collapsed": false
   },
   "outputs": [
    {
     "data": {
      "image/jpeg": "[encoded data removed]",
      "text/plain": [
       "<IPython.core.display.Image object>"
      ]
     },
     "execution_count": 190,
     "metadata": {},
     "output_type": "execute_result"
    }
   ],
   "source": [
    "clf3 = DecisionTreeClassifier(min_samples_split=3, min_samples_leaf=7)\n",
    "clf3.fit(X_train, y_train)\n",
    "y_pred_clf3 = clf3.predict(X_test)\n",
    "dotfile = open('tree.dot', 'w')\n",
    "export_graphviz(clf3, out_file=dotfile) \n",
    "dotfile.close()\n",
    "#f = open(\"tree.dot\")\n",
    "#graph = f.read()\n",
    "#tree = graphviz.Source(graph)\n",
    "#f.close()\n",
    "#tree.view()\n",
    "\n",
    "from IPython.display import Image\n",
    "Image(\"tree.jpg\")\n",
    "\n",
    "# Я добавила в переменные среды путь к graphviz в анаконде, но он все равно не видит. Поэтому я просто открылв\n",
    "# в программе этот файл, сохранила как картинку и на экран вывела."
   ]
  },
  {
   "cell_type": "code",
   "execution_count": 90,
   "metadata": {
    "collapsed": true
   },
   "outputs": [],
   "source": [
    "# 5 ЛЕС РЕШЕНИЙ"
   ]
  },
  {
   "cell_type": "code",
   "execution_count": 167,
   "metadata": {
    "collapsed": false
   },
   "outputs": [
    {
     "name": "stdout",
     "output_type": "stream",
     "text": [
      "             precision    recall  f1-score   support\n",
      "\n",
      "          0       0.59      0.72      0.65        18\n",
      "          1       0.85      0.76      0.80        37\n",
      "\n",
      "avg / total       0.76      0.75      0.75        55\n",
      "\n"
     ]
    }
   ],
   "source": [
    "rf = RandomForestClassifier(n_estimators=10)\n",
    "rf.fit(X_train, y_train)\n",
    "y_pred_rf = rf.predict(X_test)\n",
    "print(classification_report(y_test, y_pred_rf))"
   ]
  },
  {
   "cell_type": "code",
   "execution_count": 173,
   "metadata": {
    "collapsed": false
   },
   "outputs": [
    {
     "name": "stdout",
     "output_type": "stream",
     "text": [
      "Estimators = 10\n",
      "             precision    recall  f1-score   support\n",
      "\n",
      "          0       0.71      0.67      0.69        18\n",
      "          1       0.84      0.86      0.85        37\n",
      "\n",
      "avg / total       0.80      0.80      0.80        55\n",
      "\n",
      "\n",
      "Estimators = 15\n",
      "             precision    recall  f1-score   support\n",
      "\n",
      "          0       0.67      0.67      0.67        18\n",
      "          1       0.84      0.84      0.84        37\n",
      "\n",
      "avg / total       0.78      0.78      0.78        55\n",
      "\n",
      "\n",
      "Estimators = 20\n",
      "             precision    recall  f1-score   support\n",
      "\n",
      "          0       0.68      0.72      0.70        18\n",
      "          1       0.86      0.84      0.85        37\n",
      "\n",
      "avg / total       0.80      0.80      0.80        55\n",
      "\n",
      "\n",
      "Estimators = 25\n",
      "             precision    recall  f1-score   support\n",
      "\n",
      "          0       0.65      0.61      0.63        18\n",
      "          1       0.82      0.84      0.83        37\n",
      "\n",
      "avg / total       0.76      0.76      0.76        55\n",
      "\n",
      "\n",
      "Estimators = 30\n",
      "             precision    recall  f1-score   support\n",
      "\n",
      "          0       0.65      0.72      0.68        18\n",
      "          1       0.86      0.81      0.83        37\n",
      "\n",
      "avg / total       0.79      0.78      0.78        55\n",
      "\n",
      "\n",
      "Estimators = 35\n",
      "             precision    recall  f1-score   support\n",
      "\n",
      "          0       0.68      0.72      0.70        18\n",
      "          1       0.86      0.84      0.85        37\n",
      "\n",
      "avg / total       0.80      0.80      0.80        55\n",
      "\n",
      "\n",
      "Estimators = 40\n",
      "             precision    recall  f1-score   support\n",
      "\n",
      "          0       0.68      0.72      0.70        18\n",
      "          1       0.86      0.84      0.85        37\n",
      "\n",
      "avg / total       0.80      0.80      0.80        55\n",
      "\n",
      "\n",
      "Estimators = 45\n",
      "             precision    recall  f1-score   support\n",
      "\n",
      "          0       0.68      0.72      0.70        18\n",
      "          1       0.86      0.84      0.85        37\n",
      "\n",
      "avg / total       0.80      0.80      0.80        55\n",
      "\n",
      "\n",
      "Estimators = 50\n",
      "             precision    recall  f1-score   support\n",
      "\n",
      "          0       0.70      0.78      0.74        18\n",
      "          1       0.89      0.84      0.86        37\n",
      "\n",
      "avg / total       0.82      0.82      0.82        55\n",
      "\n",
      "\n",
      "Estimators = 55\n",
      "             precision    recall  f1-score   support\n",
      "\n",
      "          0       0.70      0.78      0.74        18\n",
      "          1       0.89      0.84      0.86        37\n",
      "\n",
      "avg / total       0.82      0.82      0.82        55\n",
      "\n",
      "\n",
      "Estimators = 60\n",
      "             precision    recall  f1-score   support\n",
      "\n",
      "          0       0.68      0.72      0.70        18\n",
      "          1       0.86      0.84      0.85        37\n",
      "\n",
      "avg / total       0.80      0.80      0.80        55\n",
      "\n",
      "\n",
      "Estimators = 65\n",
      "             precision    recall  f1-score   support\n",
      "\n",
      "          0       0.68      0.72      0.70        18\n",
      "          1       0.86      0.84      0.85        37\n",
      "\n",
      "avg / total       0.80      0.80      0.80        55\n",
      "\n",
      "\n",
      "Estimators = 70\n",
      "             precision    recall  f1-score   support\n",
      "\n",
      "          0       0.68      0.72      0.70        18\n",
      "          1       0.86      0.84      0.85        37\n",
      "\n",
      "avg / total       0.80      0.80      0.80        55\n",
      "\n",
      "\n",
      "Estimators = 75\n",
      "             precision    recall  f1-score   support\n",
      "\n",
      "          0       0.68      0.72      0.70        18\n",
      "          1       0.86      0.84      0.85        37\n",
      "\n",
      "avg / total       0.80      0.80      0.80        55\n",
      "\n",
      "\n",
      "Estimators = 80\n",
      "             precision    recall  f1-score   support\n",
      "\n",
      "          0       0.70      0.78      0.74        18\n",
      "          1       0.89      0.84      0.86        37\n",
      "\n",
      "avg / total       0.82      0.82      0.82        55\n",
      "\n",
      "\n",
      "Estimators = 85\n",
      "             precision    recall  f1-score   support\n",
      "\n",
      "          0       0.70      0.78      0.74        18\n",
      "          1       0.89      0.84      0.86        37\n",
      "\n",
      "avg / total       0.82      0.82      0.82        55\n",
      "\n",
      "\n",
      "Estimators = 90\n",
      "             precision    recall  f1-score   support\n",
      "\n",
      "          0       0.70      0.78      0.74        18\n",
      "          1       0.89      0.84      0.86        37\n",
      "\n",
      "avg / total       0.82      0.82      0.82        55\n",
      "\n",
      "\n",
      "Estimators = 95\n",
      "             precision    recall  f1-score   support\n",
      "\n",
      "          0       0.67      0.67      0.67        18\n",
      "          1       0.84      0.84      0.84        37\n",
      "\n",
      "avg / total       0.78      0.78      0.78        55\n",
      "\n",
      "\n",
      "Estimators = 100\n",
      "             precision    recall  f1-score   support\n",
      "\n",
      "          0       0.68      0.72      0.70        18\n",
      "          1       0.86      0.84      0.85        37\n",
      "\n",
      "avg / total       0.80      0.80      0.80        55\n",
      "\n",
      "\n"
     ]
    }
   ],
   "source": [
    "estimators = [10, 15, 20, 25, 30, 35, 40, 45, 50, 55, 60, 65, 70, 75, 80, 85, 90, 95, 100]\n",
    "results3 = {}\n",
    "for e in estimators:\n",
    "    result3 = []\n",
    "    rf1 = RandomForestClassifier(n_estimators=e)\n",
    "    rf1.fit(X_train, y_train)\n",
    "    y_pred_rf1 = rf1.predict(X_test)\n",
    "    result3.append(precision_score(y_test, y_pred_rf1))\n",
    "    result3.append(recall_score(y_test, y_pred_rf1))\n",
    "    result3.append(f1_score(y_test, y_pred_rf1))\n",
    "    results3[e] = result3\n",
    "    print('Estimators = ' + str(e))\n",
    "    print(classification_report(y_test, y_pred_rf1))\n",
    "    print('')"
   ]
  },
  {
   "cell_type": "code",
   "execution_count": 178,
   "metadata": {
    "collapsed": false
   },
   "outputs": [
    {
     "name": "stdout",
     "output_type": "stream",
     "text": [
      "                10        15        20        25        30        35   \\\n",
      "precision  0.842105  0.837838  0.861111  0.815789  0.857143  0.861111   \n",
      "recall     0.864865  0.837838  0.837838  0.837838  0.810811  0.837838   \n",
      "f1_score   0.853333  0.837838  0.849315  0.826667  0.833333  0.849315   \n",
      "\n",
      "                40        45        50        55        60        65   \\\n",
      "precision  0.861111  0.861111  0.885714  0.885714  0.861111  0.861111   \n",
      "recall     0.837838  0.837838  0.837838  0.837838  0.837838  0.837838   \n",
      "f1_score   0.849315  0.849315  0.861111  0.861111  0.849315  0.849315   \n",
      "\n",
      "                70        75        80        85        90        95   \\\n",
      "precision  0.861111  0.861111  0.885714  0.885714  0.885714  0.837838   \n",
      "recall     0.837838  0.837838  0.837838  0.837838  0.837838  0.837838   \n",
      "f1_score   0.849315  0.849315  0.861111  0.861111  0.861111  0.837838   \n",
      "\n",
      "                100  \n",
      "precision  0.861111  \n",
      "recall     0.837838  \n",
      "f1_score   0.849315  \n"
     ]
    }
   ],
   "source": [
    "report3 = pandas.DataFrame(results3, index=['precision', 'recall', 'f1_score'], columns=results3.keys())\n",
    "print(report3)"
   ]
  },
  {
   "cell_type": "code",
   "execution_count": 177,
   "metadata": {
    "collapsed": false
   },
   "outputs": [
    {
     "data": {
      "text/plain": [
       "<matplotlib.axes._subplots.AxesSubplot at 0xee21128>"
      ]
     },
     "execution_count": 177,
     "metadata": {},
     "output_type": "execute_result"
    },
    {
     "data": {
      "image/png": "[encoded data removed]",
      "text/plain": [
       "<matplotlib.figure.Figure at 0xf0f5da0>"
      ]
     },
     "metadata": {},
     "output_type": "display_data"
    },
    {
     "data": {
      "image/png": "[encoded data removed]",
      "text/plain": [
       "<matplotlib.figure.Figure at 0xf537668>"
      ]
     },
     "metadata": {},
     "output_type": "display_data"
    },
    {
     "data": {
      "image/png": "[encoded data removed]",
      "text/plain": [
       "<matplotlib.figure.Figure at 0xefa5d68>"
      ]
     },
     "metadata": {},
     "output_type": "display_data"
    }
   ],
   "source": [
    "report3[0:1].plot.bar()\n",
    "report3[1:2].plot.bar()\n",
    "report3[2:3].plot.bar()"
   ]
  },
  {
   "cell_type": "code",
   "execution_count": 140,
   "metadata": {
    "collapsed": true
   },
   "outputs": [],
   "source": [
    "# Лучше всего лес работает, когда n_estimators = 50, 55, 85, 90, 95. Этот лес мы и построим."
   ]
  },
  {
   "cell_type": "code",
   "execution_count": 165,
   "metadata": {
    "collapsed": true
   },
   "outputs": [],
   "source": [
    "# Лучший лес работает немножко хуже чем лучшее дерево."
   ]
  },
  {
   "cell_type": "code",
   "execution_count": 179,
   "metadata": {
    "collapsed": false
   },
   "outputs": [
    {
     "name": "stdout",
     "output_type": "stream",
     "text": [
      "Best Decision Tree\n",
      "             precision    recall  f1-score   support\n",
      "\n",
      "          0       0.68      0.83      0.75        18\n",
      "          1       0.91      0.81      0.86        37\n",
      "\n",
      "avg / total       0.83      0.82      0.82        55\n",
      "\n",
      "Best Random Forest\n",
      "             precision    recall  f1-score   support\n",
      "\n",
      "          0       0.70      0.78      0.74        18\n",
      "          1       0.89      0.84      0.86        37\n",
      "\n",
      "avg / total       0.82      0.82      0.82        55\n",
      "\n"
     ]
    }
   ],
   "source": [
    "rf2 = RandomForestClassifier(n_estimators=95)\n",
    "rf2.fit(X_train, y_train)\n",
    "y_pred_rf2 = rf2.predict(X_test)\n",
    "print('Best Decision Tree')\n",
    "print(classification_report(y_test, y_pred_clf3))\n",
    "print('Best Random Forest')\n",
    "print(classification_report(y_test, y_pred_rf2))"
   ]
  },
  {
   "cell_type": "code",
   "execution_count": null,
   "metadata": {
    "collapsed": true
   },
   "outputs": [],
   "source": []
  }
 ],
 "metadata": {
  "kernelspec": {
   "display_name": "Python 3",
   "language": "python",
   "name": "python3"
  },
  "language_info": {
   "codemirror_mode": {
    "name": "ipython",
    "version": 3
   },
   "file_extension": ".py",
   "mimetype": "text/x-python",
   "name": "python",
   "nbconvert_exporter": "python",
   "pygments_lexer": "ipython3",
   "version": "3.6.0"
  }
 },
 "nbformat": 4,
 "nbformat_minor": 2
}
