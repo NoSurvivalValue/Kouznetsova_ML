{
 "cells": [
  {
   "cell_type": "code",
   "execution_count": 92,
   "metadata": {
    "collapsed": true
   },
   "outputs": [],
   "source": [
    "import pandas as pd\n",
    "import numpy as np\n",
    "import matplotlib.pyplot as plt\n",
    "from nltk import word_tokenize\n",
    "from nltk.corpus import stopwords\n",
    "import itertools\n",
    "\n",
    "from sklearn.feature_extraction.text import CountVectorizer, TfidfVectorizer\n",
    "from sklearn.naive_bayes import MultinomialNB\n",
    "from sklearn.metrics import classification_report, f1_score, accuracy_score, confusion_matrix, precision_score\n",
    "from sklearn.pipeline import Pipeline\n",
    "from sklearn.model_selection import StratifiedKFold, cross_val_score, train_test_split\n",
    "from sklearn import svm, datasets"
   ]
  },
  {
   "cell_type": "code",
   "execution_count": 27,
   "metadata": {
    "collapsed": true
   },
   "outputs": [],
   "source": [
    "def plot_confusion_matrix(cm, classes,\n",
    "                          normalize=False,\n",
    "                          title='Confusion matrix',\n",
    "                          cmap=plt.cm.Blues):\n",
    "    \"\"\"\n",
    "    This function prints and plots the confusion matrix.\n",
    "    Normalization can be applied by setting `normalize=True`.\n",
    "    \"\"\"\n",
    "    plt.imshow(cm, interpolation='nearest', cmap=cmap)\n",
    "    plt.title(title)\n",
    "    plt.colorbar()\n",
    "    tick_marks = np.arange(len(classes))\n",
    "    plt.xticks(tick_marks, classes, rotation=45)\n",
    "    plt.yticks(tick_marks, classes)\n",
    "\n",
    "    if normalize:\n",
    "        cm = cm.astype('float') / cm.sum(axis=1)[:, np.newaxis]\n",
    "        print(\"Normalized confusion matrix\")\n",
    "    else:\n",
    "        print('Confusion matrix, without normalization')\n",
    "\n",
    "    print(cm)\n",
    "\n",
    "    thresh = cm.max() / 2.\n",
    "    for i, j in itertools.product(range(cm.shape[0]), range(cm.shape[1])):\n",
    "        plt.text(j, i, cm[i, j],\n",
    "                 horizontalalignment=\"center\",\n",
    "                 color=\"white\" if cm[i, j] > thresh else \"black\")\n",
    "\n",
    "    plt.tight_layout()\n",
    "    plt.ylabel('True label')\n",
    "    plt.xlabel('Predicted label')"
   ]
  },
  {
   "cell_type": "code",
   "execution_count": 3,
   "metadata": {
    "collapsed": true
   },
   "outputs": [],
   "source": [
    "path = 'C:/Anya/Proga/2/SMSSpamCollection'\n",
    "\n",
    "messages = pandas.read_csv(path, sep='\\t',\n",
    "                           names=[\"label\", \"message\"])"
   ]
  },
  {
   "cell_type": "code",
   "execution_count": 4,
   "metadata": {
    "collapsed": false
   },
   "outputs": [
    {
     "name": "stdout",
     "output_type": "stream",
     "text": [
      "                                                        message\n",
      "label                                                          \n",
      "ham   count                                                4825\n",
      "      unique                                               4516\n",
      "      top                                Sorry, I'll call later\n",
      "      freq                                                   30\n",
      "spam  count                                                 747\n",
      "      unique                                                653\n",
      "      top     Please call our customer service representativ...\n",
      "      freq                                                    4\n"
     ]
    }
   ],
   "source": [
    "print(messages.groupby('label').describe())"
   ]
  },
  {
   "cell_type": "code",
   "execution_count": 5,
   "metadata": {
    "collapsed": true
   },
   "outputs": [],
   "source": [
    "# Датасет не сбалансирован, наблюдений ham - намного больше, чем spam."
   ]
  },
  {
   "cell_type": "code",
   "execution_count": 7,
   "metadata": {
    "collapsed": true
   },
   "outputs": [],
   "source": [
    "# Какие результаты покажет dummy classifier, \n",
    "# который будет всем новым наблюдениям присваивать класс ham?  \n",
    "# - Просто всем новым наблюдениям присваивать класс ham. Оно будет пропускать spam.\n",
    "# Насколько плохо такое решение для задачи определения спама?\n",
    "# - Плохо"
   ]
  },
  {
   "cell_type": "code",
   "execution_count": 6,
   "metadata": {
    "collapsed": true
   },
   "outputs": [],
   "source": [
    "messages['length'] = messages['message'].map(lambda text: len(text))"
   ]
  },
  {
   "cell_type": "code",
   "execution_count": 8,
   "metadata": {
    "collapsed": false
   },
   "outputs": [
    {
     "name": "stdout",
     "output_type": "stream",
     "text": [
      "                                                        message\n",
      "label                                                          \n",
      "ham   count                                                 747\n",
      "      unique                                                730\n",
      "      top                                Sorry, I'll call later\n",
      "      freq                                                    6\n",
      "spam  count                                                 747\n",
      "      unique                                                653\n",
      "      top     Please call our customer service representativ...\n",
      "      freq                                                    4\n"
     ]
    }
   ],
   "source": [
    "h = 0\n",
    "messages1 = pandas.DataFrame(columns = ['label', 'message'])\n",
    "for m in messages.iterrows():\n",
    "    if m[1]['label'] == 'ham':\n",
    "        h += 1\n",
    "        if h < 748:\n",
    "            messages1.loc[len(messages1)] = [m[1]['label'], m[1]['message']]\n",
    "    if m[1]['label'] == 'spam':\n",
    "        messages1.loc[len(messages1)] = [m[1]['label'], m[1]['message']]\n",
    "print(messages1.groupby('label').describe())"
   ]
  },
  {
   "cell_type": "code",
   "execution_count": 25,
   "metadata": {
    "collapsed": true
   },
   "outputs": [],
   "source": [
    "# С пунктуацией"
   ]
  },
  {
   "cell_type": "code",
   "execution_count": 47,
   "metadata": {
    "collapsed": false
   },
   "outputs": [],
   "source": [
    "def tokenize(text):\n",
    "    text = text.lower()\n",
    "    return word_tokenize(text)\n",
    "bow_transformer = CountVectorizer(tokenizer=tokenize).fit_transform(messages1['message'])"
   ]
  },
  {
   "cell_type": "code",
   "execution_count": 161,
   "metadata": {
    "collapsed": false
   },
   "outputs": [],
   "source": [
    "msg_train1, msg_test1, label_train1, label_test1 = train_test_split(bow_transformer, messages1['label'],\n",
    "                                                               test_size=0.2)"
   ]
  },
  {
   "cell_type": "code",
   "execution_count": 162,
   "metadata": {
    "collapsed": false
   },
   "outputs": [
    {
     "name": "stdout",
     "output_type": "stream",
     "text": [
      "             precision    recall  f1-score   support\n",
      "\n",
      "        ham       0.94      0.99      0.96       149\n",
      "       spam       0.99      0.94      0.96       150\n",
      "\n",
      "avg / total       0.96      0.96      0.96       299\n",
      "\n",
      "Confusion matrix, without normalization\n",
      "[[147   2]\n",
      " [  9 141]]\n"
     ]
    },
    {
     "data": {
      "image/png": "[encoded data removed]",
      "text/plain": [
       "<matplotlib.figure.Figure at 0x115fd710>"
      ]
     },
     "metadata": {},
     "output_type": "display_data"
    }
   ],
   "source": [
    "spam_detector1 = MultinomialNB().fit(msg_train1, label_train1)\n",
    "label_pred_1 = spam_detector1.predict(msg_test1)\n",
    "print(classification_report(label_test1, label_pred_1))\n",
    "plt.figure()\n",
    "plot_confusion_matrix(confusion_matrix(label_test1, label_pred_1), classes=spam_detector1.classes_,\n",
    "                      title='Confusion matrix, without normalization', cmap=plt.cm.Greens)\n",
    "plt.show()"
   ]
  },
  {
   "cell_type": "code",
   "execution_count": 50,
   "metadata": {
    "collapsed": true
   },
   "outputs": [],
   "source": [
    "# Классфикатор работает неплохо, ошибок совершает очень мало. Всего 9 спамных письма попали к обычным \n",
    "# письмам. Но 2 нормальных писем попали в спам, что не есть хорошо."
   ]
  },
  {
   "cell_type": "code",
   "execution_count": 51,
   "metadata": {
    "collapsed": true
   },
   "outputs": [],
   "source": [
    "# Без пунктуации"
   ]
  },
  {
   "cell_type": "code",
   "execution_count": 52,
   "metadata": {
    "collapsed": true
   },
   "outputs": [],
   "source": [
    "from nltk.tokenize import RegexpTokenizer"
   ]
  },
  {
   "cell_type": "code",
   "execution_count": 53,
   "metadata": {
    "collapsed": false
   },
   "outputs": [],
   "source": [
    "tokenizer = RegexpTokenizer(r'\\w+')\n",
    "def tokenize_without_punctuation(text):\n",
    "    text = text.lower()\n",
    "    return tokenizer.tokenize(text)\n",
    "bow_transformer = CountVectorizer(tokenizer=tokenize).fit_transform(messages1['message'])"
   ]
  },
  {
   "cell_type": "code",
   "execution_count": 163,
   "metadata": {
    "collapsed": true
   },
   "outputs": [],
   "source": [
    "msg_train2, msg_test2, label_train2, label_test2 = train_test_split(bow_transformer, messages1['label'],\n",
    "                                                               test_size=0.2)"
   ]
  },
  {
   "cell_type": "code",
   "execution_count": 164,
   "metadata": {
    "collapsed": false
   },
   "outputs": [
    {
     "name": "stdout",
     "output_type": "stream",
     "text": [
      "             precision    recall  f1-score   support\n",
      "\n",
      "        ham       0.98      0.99      0.98       152\n",
      "       spam       0.99      0.98      0.98       147\n",
      "\n",
      "avg / total       0.98      0.98      0.98       299\n",
      "\n",
      "Confusion matrix, without normalization\n",
      "[[150   2]\n",
      " [  3 144]]\n"
     ]
    },
    {
     "data": {
      "image/png": "[encoded data removed]",
      "text/plain": [
       "<matplotlib.figure.Figure at 0x110bf358>"
      ]
     },
     "metadata": {},
     "output_type": "display_data"
    }
   ],
   "source": [
    "spam_detector2 = MultinomialNB().fit(msg_train2, label_train2)\n",
    "label_pred_2 = spam_detector1.predict(msg_test2)\n",
    "print(classification_report(label_test2, label_pred_2))\n",
    "plt.figure()\n",
    "plot_confusion_matrix(confusion_matrix(label_test2, label_pred_2), classes=spam_detector2.classes_,\n",
    "                      title='Confusion matrix, without normalization', cmap=plt.cm.PuRd)\n",
    "plt.show()"
   ]
  },
  {
   "cell_type": "code",
   "execution_count": 56,
   "metadata": {
    "collapsed": true
   },
   "outputs": [],
   "source": [
    "# Все характеристики стали лучше, и по confusion matrix видно, что тепрь всего 3 спамных письма попали \n",
    "# к нормальным письмам, и всего 2 нормальных письма попали в спам."
   ]
  },
  {
   "cell_type": "code",
   "execution_count": 57,
   "metadata": {
    "collapsed": true
   },
   "outputs": [],
   "source": [
    "# Значит далее всегда удаляем пунктуацию."
   ]
  },
  {
   "cell_type": "code",
   "execution_count": 58,
   "metadata": {
    "collapsed": true
   },
   "outputs": [],
   "source": [
    "# Без пунктуации, с лемматизацией"
   ]
  },
  {
   "cell_type": "code",
   "execution_count": 59,
   "metadata": {
    "collapsed": true
   },
   "outputs": [],
   "source": [
    "from nltk.stem.wordnet import WordNetLemmatizer\n",
    "lmtzr = WordNetLemmatizer()"
   ]
  },
  {
   "cell_type": "code",
   "execution_count": 169,
   "metadata": {
    "collapsed": false
   },
   "outputs": [],
   "source": [
    "def lemmatize(text):\n",
    "    text = text.lower()\n",
    "    words = tokenizer.tokenize(text)\n",
    "    return [lmtzr.lemmatize(w) for w in words]"
   ]
  },
  {
   "cell_type": "code",
   "execution_count": 254,
   "metadata": {
    "collapsed": true
   },
   "outputs": [],
   "source": [
    "bow_transformer = CountVectorizer(tokenizer=lemmatize).fit_transform(messages1['message'])\n",
    "msg_train3, msg_test3, label_train3, label_test3 = train_test_split(bow_transformer, messages1['label'],\n",
    "                                                               test_size=0.2)"
   ]
  },
  {
   "cell_type": "code",
   "execution_count": 183,
   "metadata": {
    "collapsed": false
   },
   "outputs": [
    {
     "name": "stdout",
     "output_type": "stream",
     "text": [
      "             precision    recall  f1-score   support\n",
      "\n",
      "        ham       0.97      0.99      0.98       149\n",
      "       spam       0.99      0.97      0.98       150\n",
      "\n",
      "avg / total       0.98      0.98      0.98       299\n",
      "\n",
      "Confusion matrix, without normalization\n",
      "[[148   1]\n",
      " [  5 145]]\n"
     ]
    },
    {
     "data": {
      "image/png": "[encoded data removed]",
      "text/plain": [
       "<matplotlib.figure.Figure at 0x10ebf048>"
      ]
     },
     "metadata": {},
     "output_type": "display_data"
    }
   ],
   "source": [
    "spam_detector3 = MultinomialNB().fit(msg_train3, label_train3)\n",
    "label_pred_3 = spam_detector3.predict(msg_test3)\n",
    "print(classification_report(label_test3, label_pred_3))\n",
    "plt.figure()\n",
    "plot_confusion_matrix(confusion_matrix(label_test3, label_pred_3), classes=spam_detector3.classes_,\n",
    "                      title='Confusion matrix, without normalization', cmap=plt.cm.RdPu)\n",
    "plt.show()"
   ]
  },
  {
   "cell_type": "code",
   "execution_count": 75,
   "metadata": {
    "collapsed": true
   },
   "outputs": [],
   "source": [
    "# Классификатор не стал работать ни хуже, ни лучше. Все метрики - accuracy, precision, F-measure - такие же. \n",
    "# И больше спамовских писем (8) отправляются к нормальным. Но! Всего одно нормальное письмо уходит \n",
    "# в корзину спама. Для меня, лично, это важнее, я уж лучше увижу 5 спамовских писем и не увижу\n",
    "# одно важное, чем увижу всего лишь 3 спамовских письма, но пропущу уже два важных. \n",
    "# Поэтому даже не знаю.\n",
    "# Я, наверное, дальше с лемматизацией пойду."
   ]
  },
  {
   "cell_type": "code",
   "execution_count": 77,
   "metadata": {
    "collapsed": true
   },
   "outputs": [],
   "source": [
    "# Без пунктуации, с лемматизацией, с удалением стоп слов."
   ]
  },
  {
   "cell_type": "code",
   "execution_count": 184,
   "metadata": {
    "collapsed": true
   },
   "outputs": [],
   "source": [
    "def lemmatize_wo_stop(text):\n",
    "    text = text.lower()\n",
    "    words = tokenizer.tokenize(text)\n",
    "    words = [word for word in words if word not in stopwords.words('english')]\n",
    "    return [lmtzr.lemmatize(w) for w in words]"
   ]
  },
  {
   "cell_type": "code",
   "execution_count": 253,
   "metadata": {
    "collapsed": true
   },
   "outputs": [],
   "source": [
    "bow_transformer2 = CountVectorizer(tokenizer=lemmatize_wo_stop).fit_transform(messages1['message'])\n",
    "msg_train4, msg_test4, label_train4, label_test4 = train_test_split(bow_transformer2, messages1['label'],\n",
    "                                                               test_size=0.2)"
   ]
  },
  {
   "cell_type": "code",
   "execution_count": 186,
   "metadata": {
    "collapsed": false
   },
   "outputs": [
    {
     "name": "stdout",
     "output_type": "stream",
     "text": [
      "             precision    recall  f1-score   support\n",
      "\n",
      "        ham       0.95      0.97      0.96       146\n",
      "       spam       0.97      0.95      0.96       153\n",
      "\n",
      "avg / total       0.96      0.96      0.96       299\n",
      "\n",
      "Confusion matrix, without normalization\n",
      "[[141   5]\n",
      " [  7 146]]\n"
     ]
    },
    {
     "data": {
      "image/png": "[encoded data removed]",
      "text/plain": [
       "<matplotlib.figure.Figure at 0x113c34a8>"
      ]
     },
     "metadata": {},
     "output_type": "display_data"
    }
   ],
   "source": [
    "spam_detector4 = MultinomialNB().fit(msg_train4, label_train4)\n",
    "label_pred_4 = spam_detector4.predict(msg_test4)\n",
    "print(classification_report(label_test4, label_pred_4))\n",
    "plt.figure()\n",
    "plot_confusion_matrix(confusion_matrix(label_test4, label_pred_4), classes=spam_detector4.classes_,\n",
    "                      title='Confusion matrix, without normalization', cmap=plt.cm.YlOrRd)\n",
    "plt.show()"
   ]
  },
  {
   "cell_type": "code",
   "execution_count": 87,
   "metadata": {
    "collapsed": true
   },
   "outputs": [],
   "source": [
    "# Классификатор стал работать хуже по все параметрам, ниже precision, recall, F-measure.\n",
    "# Больше нормальных писем попало в спам, больше спама попало к нормальным письмам.\n",
    "# Дальше пойдем без удаления стоп-слов."
   ]
  },
  {
   "cell_type": "code",
   "execution_count": 88,
   "metadata": {
    "collapsed": true
   },
   "outputs": [],
   "source": [
    "# Без пунктуации, с лемматизацией, без удаления стоп-слов, с tfidf-векторизацией."
   ]
  },
  {
   "cell_type": "code",
   "execution_count": 199,
   "metadata": {
    "collapsed": true
   },
   "outputs": [],
   "source": [
    "msg_train5, msg_test5, label_train5, label_test5 = train_test_split(messages1['message'], messages1['label'],\n",
    "                                                               test_size=0.2)"
   ]
  },
  {
   "cell_type": "code",
   "execution_count": 200,
   "metadata": {
    "collapsed": false
   },
   "outputs": [],
   "source": [
    "vectorizer = TfidfVectorizer(tokenizer=lemmatize)\n",
    "msg_train5 = vectorizer.fit_transform(msg_train5)\n",
    "msg_test5 = vectorizer.transform(msg_test5)"
   ]
  },
  {
   "cell_type": "code",
   "execution_count": 201,
   "metadata": {
    "collapsed": false
   },
   "outputs": [
    {
     "name": "stdout",
     "output_type": "stream",
     "text": [
      "             precision    recall  f1-score   support\n",
      "\n",
      "        ham       0.95      0.98      0.96       147\n",
      "       spam       0.98      0.95      0.96       152\n",
      "\n",
      "avg / total       0.96      0.96      0.96       299\n",
      "\n",
      "Confusion matrix, without normalization\n",
      "[[144   3]\n",
      " [  8 144]]\n"
     ]
    },
    {
     "data": {
      "image/png": "[encoded data removed]",
      "text/plain": [
       "<matplotlib.figure.Figure at 0x12e76550>"
      ]
     },
     "metadata": {},
     "output_type": "display_data"
    }
   ],
   "source": [
    "spam_detector5 = MultinomialNB().fit(msg_train5, label_train5)\n",
    "label_pred_5 = spam_detector5.predict(msg_test5)\n",
    "print(classification_report(label_test5, label_pred_5))\n",
    "plt.figure()\n",
    "plot_confusion_matrix(confusion_matrix(label_test5, label_pred_5), classes=spam_detector5.classes_,\n",
    "                      title='Confusion matrix, without normalization', cmap=plt.cm.Blues)\n",
    "plt.show()"
   ]
  },
  {
   "cell_type": "code",
   "execution_count": 202,
   "metadata": {
    "collapsed": true
   },
   "outputs": [],
   "source": [
    "# Работать лучше чем классификатор не предыдущий, а пред-предыдущий не стал, стал немного хуже.\n",
    "# Precision, recall, f-measure стали ниже.\n",
    "# Поэтому мы берем тот классификатор.\n",
    "# Это пре-предыдущий классификатор с countvectorizer, без пунктуации, с лемматизацией, со стоп-словами."
   ]
  },
  {
   "cell_type": "code",
   "execution_count": 158,
   "metadata": {
    "collapsed": true
   },
   "outputs": [],
   "source": [
    "# Сейчас выведем его опять на экран."
   ]
  },
  {
   "cell_type": "code",
   "execution_count": 203,
   "metadata": {
    "collapsed": false
   },
   "outputs": [
    {
     "name": "stdout",
     "output_type": "stream",
     "text": [
      "             precision    recall  f1-score   support\n",
      "\n",
      "        ham       0.97      0.99      0.98       149\n",
      "       spam       0.99      0.97      0.98       150\n",
      "\n",
      "avg / total       0.98      0.98      0.98       299\n",
      "\n",
      "Confusion matrix, without normalization\n",
      "[[148   1]\n",
      " [  5 145]]\n"
     ]
    },
    {
     "data": {
      "image/png": "[encoded data removed]",
      "text/plain": [
       "<matplotlib.figure.Figure at 0x12a7df28>"
      ]
     },
     "metadata": {},
     "output_type": "display_data"
    }
   ],
   "source": [
    "spam_detector3 = MultinomialNB().fit(msg_train3, label_train3)\n",
    "label_pred_3 = spam_detector3.predict(msg_test3)\n",
    "print(classification_report(label_test3, label_pred_3))\n",
    "plt.figure()\n",
    "plot_confusion_matrix(confusion_matrix(label_test3, label_pred_3), classes=spam_detector3.classes_,\n",
    "                      title='Confusion matrix, without normalization', cmap=plt.cm.RdPu)\n",
    "plt.show()"
   ]
  },
  {
   "cell_type": "code",
   "execution_count": 205,
   "metadata": {
    "collapsed": true
   },
   "outputs": [],
   "source": [
    "# Сравнение с деревом решений."
   ]
  },
  {
   "cell_type": "code",
   "execution_count": 206,
   "metadata": {
    "collapsed": true
   },
   "outputs": [],
   "source": [
    "from sklearn.tree import DecisionTreeClassifier\n",
    "from sklearn.ensemble import RandomForestClassifier"
   ]
  },
  {
   "cell_type": "code",
   "execution_count": 231,
   "metadata": {
    "collapsed": false
   },
   "outputs": [
    {
     "name": "stdout",
     "output_type": "stream",
     "text": [
      "3 and 1\n",
      "             precision    recall  f1-score   support\n",
      "\n",
      "        ham       0.93      0.91      0.92       149\n",
      "       spam       0.91      0.93      0.92       150\n",
      "\n",
      "avg / total       0.92      0.92      0.92       299\n",
      "\n",
      "3 and 2\n",
      "             precision    recall  f1-score   support\n",
      "\n",
      "        ham       0.88      0.91      0.90       149\n",
      "       spam       0.91      0.88      0.89       150\n",
      "\n",
      "avg / total       0.90      0.90      0.90       299\n",
      "\n",
      "3 and 3\n",
      "             precision    recall  f1-score   support\n",
      "\n",
      "        ham       0.91      0.91      0.91       149\n",
      "       spam       0.91      0.91      0.91       150\n",
      "\n",
      "avg / total       0.91      0.91      0.91       299\n",
      "\n",
      "3 and 4\n",
      "             precision    recall  f1-score   support\n",
      "\n",
      "        ham       0.87      0.91      0.89       149\n",
      "       spam       0.91      0.87      0.89       150\n",
      "\n",
      "avg / total       0.89      0.89      0.89       299\n",
      "\n",
      "3 and 5\n",
      "             precision    recall  f1-score   support\n",
      "\n",
      "        ham       0.92      0.94      0.93       149\n",
      "       spam       0.94      0.92      0.93       150\n",
      "\n",
      "avg / total       0.93      0.93      0.93       299\n",
      "\n",
      "3 and 6\n",
      "             precision    recall  f1-score   support\n",
      "\n",
      "        ham       0.91      0.94      0.92       149\n",
      "       spam       0.94      0.91      0.92       150\n",
      "\n",
      "avg / total       0.92      0.92      0.92       299\n",
      "\n",
      "3 and 7\n",
      "             precision    recall  f1-score   support\n",
      "\n",
      "        ham       0.91      0.90      0.91       149\n",
      "       spam       0.90      0.91      0.91       150\n",
      "\n",
      "avg / total       0.91      0.91      0.91       299\n",
      "\n",
      "3 and 8\n",
      "             precision    recall  f1-score   support\n",
      "\n",
      "        ham       0.92      0.89      0.91       149\n",
      "       spam       0.90      0.93      0.91       150\n",
      "\n",
      "avg / total       0.91      0.91      0.91       299\n",
      "\n",
      "3 and 9\n",
      "             precision    recall  f1-score   support\n",
      "\n",
      "        ham       0.93      0.87      0.90       149\n",
      "       spam       0.88      0.94      0.91       150\n",
      "\n",
      "avg / total       0.91      0.90      0.90       299\n",
      "\n",
      "3 and 10\n",
      "             precision    recall  f1-score   support\n",
      "\n",
      "        ham       0.92      0.87      0.89       149\n",
      "       spam       0.87      0.93      0.90       150\n",
      "\n",
      "avg / total       0.90      0.90      0.90       299\n",
      "\n",
      "4 and 1\n",
      "             precision    recall  f1-score   support\n",
      "\n",
      "        ham       0.91      0.91      0.91       149\n",
      "       spam       0.91      0.91      0.91       150\n",
      "\n",
      "avg / total       0.91      0.91      0.91       299\n",
      "\n",
      "4 and 2\n",
      "             precision    recall  f1-score   support\n",
      "\n",
      "        ham       0.88      0.91      0.89       149\n",
      "       spam       0.91      0.87      0.89       150\n",
      "\n",
      "avg / total       0.89      0.89      0.89       299\n",
      "\n",
      "4 and 3\n",
      "             precision    recall  f1-score   support\n",
      "\n",
      "        ham       0.90      0.92      0.91       149\n",
      "       spam       0.92      0.89      0.91       150\n",
      "\n",
      "avg / total       0.91      0.91      0.91       299\n",
      "\n",
      "4 and 4\n",
      "             precision    recall  f1-score   support\n",
      "\n",
      "        ham       0.87      0.92      0.90       149\n",
      "       spam       0.92      0.87      0.89       150\n",
      "\n",
      "avg / total       0.89      0.89      0.89       299\n",
      "\n",
      "4 and 5\n",
      "             precision    recall  f1-score   support\n",
      "\n",
      "        ham       0.92      0.93      0.93       149\n",
      "       spam       0.93      0.92      0.93       150\n",
      "\n",
      "avg / total       0.93      0.93      0.93       299\n",
      "\n",
      "4 and 6\n",
      "             precision    recall  f1-score   support\n",
      "\n",
      "        ham       0.91      0.94      0.92       149\n",
      "       spam       0.94      0.91      0.92       150\n",
      "\n",
      "avg / total       0.92      0.92      0.92       299\n",
      "\n",
      "4 and 7\n",
      "             precision    recall  f1-score   support\n",
      "\n",
      "        ham       0.91      0.89      0.90       149\n",
      "       spam       0.90      0.91      0.90       150\n",
      "\n",
      "avg / total       0.90      0.90      0.90       299\n",
      "\n",
      "4 and 8\n",
      "             precision    recall  f1-score   support\n",
      "\n",
      "        ham       0.92      0.89      0.91       149\n",
      "       spam       0.90      0.93      0.91       150\n",
      "\n",
      "avg / total       0.91      0.91      0.91       299\n",
      "\n",
      "4 and 9\n",
      "             precision    recall  f1-score   support\n",
      "\n",
      "        ham       0.93      0.87      0.90       149\n",
      "       spam       0.88      0.94      0.91       150\n",
      "\n",
      "avg / total       0.91      0.90      0.90       299\n",
      "\n",
      "4 and 10\n",
      "             precision    recall  f1-score   support\n",
      "\n",
      "        ham       0.92      0.87      0.89       149\n",
      "       spam       0.87      0.93      0.90       150\n",
      "\n",
      "avg / total       0.90      0.90      0.90       299\n",
      "\n",
      "5 and 1\n",
      "             precision    recall  f1-score   support\n",
      "\n",
      "        ham       0.91      0.93      0.92       149\n",
      "       spam       0.93      0.91      0.92       150\n",
      "\n",
      "avg / total       0.92      0.92      0.92       299\n",
      "\n",
      "5 and 2\n",
      "             precision    recall  f1-score   support\n",
      "\n",
      "        ham       0.87      0.91      0.89       149\n",
      "       spam       0.91      0.87      0.89       150\n",
      "\n",
      "avg / total       0.89      0.89      0.89       299\n",
      "\n",
      "5 and 3\n",
      "             precision    recall  f1-score   support\n",
      "\n",
      "        ham       0.91      0.91      0.91       149\n",
      "       spam       0.91      0.91      0.91       150\n",
      "\n",
      "avg / total       0.91      0.91      0.91       299\n",
      "\n",
      "5 and 4\n",
      "             precision    recall  f1-score   support\n",
      "\n",
      "        ham       0.87      0.91      0.89       149\n",
      "       spam       0.91      0.87      0.89       150\n",
      "\n",
      "avg / total       0.89      0.89      0.89       299\n",
      "\n",
      "5 and 5\n",
      "             precision    recall  f1-score   support\n",
      "\n",
      "        ham       0.92      0.93      0.93       149\n",
      "       spam       0.93      0.92      0.93       150\n",
      "\n",
      "avg / total       0.93      0.93      0.93       299\n",
      "\n",
      "5 and 6\n",
      "             precision    recall  f1-score   support\n",
      "\n",
      "        ham       0.91      0.95      0.93       149\n",
      "       spam       0.94      0.91      0.93       150\n",
      "\n",
      "avg / total       0.93      0.93      0.93       299\n",
      "\n",
      "5 and 7\n",
      "             precision    recall  f1-score   support\n",
      "\n",
      "        ham       0.91      0.89      0.90       149\n",
      "       spam       0.90      0.91      0.90       150\n",
      "\n",
      "avg / total       0.90      0.90      0.90       299\n",
      "\n",
      "5 and 8\n",
      "             precision    recall  f1-score   support\n",
      "\n",
      "        ham       0.92      0.89      0.91       149\n",
      "       spam       0.90      0.93      0.91       150\n",
      "\n",
      "avg / total       0.91      0.91      0.91       299\n",
      "\n",
      "5 and 9\n",
      "             precision    recall  f1-score   support\n",
      "\n",
      "        ham       0.94      0.87      0.90       149\n",
      "       spam       0.88      0.94      0.91       150\n",
      "\n",
      "avg / total       0.91      0.91      0.91       299\n",
      "\n",
      "5 and 10\n",
      "             precision    recall  f1-score   support\n",
      "\n",
      "        ham       0.92      0.87      0.89       149\n",
      "       spam       0.87      0.93      0.90       150\n",
      "\n",
      "avg / total       0.90      0.90      0.90       299\n",
      "\n",
      "6 and 1\n",
      "             precision    recall  f1-score   support\n",
      "\n",
      "        ham       0.91      0.90      0.90       149\n",
      "       spam       0.90      0.91      0.90       150\n",
      "\n",
      "avg / total       0.90      0.90      0.90       299\n",
      "\n",
      "6 and 2\n",
      "             precision    recall  f1-score   support\n",
      "\n",
      "        ham       0.91      0.92      0.91       149\n",
      "       spam       0.92      0.91      0.91       150\n",
      "\n",
      "avg / total       0.91      0.91      0.91       299\n",
      "\n",
      "6 and 3\n",
      "             precision    recall  f1-score   support\n",
      "\n",
      "        ham       0.90      0.91      0.91       149\n",
      "       spam       0.91      0.90      0.91       150\n",
      "\n",
      "avg / total       0.91      0.91      0.91       299\n",
      "\n",
      "6 and 4\n",
      "             precision    recall  f1-score   support\n",
      "\n",
      "        ham       0.87      0.92      0.90       149\n",
      "       spam       0.92      0.87      0.89       150\n",
      "\n",
      "avg / total       0.89      0.89      0.89       299\n",
      "\n",
      "6 and 5\n",
      "             precision    recall  f1-score   support\n",
      "\n",
      "        ham       0.92      0.93      0.93       149\n",
      "       spam       0.93      0.92      0.93       150\n",
      "\n",
      "avg / total       0.93      0.93      0.93       299\n",
      "\n",
      "6 and 6\n",
      "             precision    recall  f1-score   support\n",
      "\n",
      "        ham       0.91      0.95      0.93       149\n",
      "       spam       0.94      0.91      0.93       150\n",
      "\n",
      "avg / total       0.93      0.93      0.93       299\n",
      "\n",
      "6 and 7\n",
      "             precision    recall  f1-score   support\n",
      "\n",
      "        ham       0.91      0.89      0.90       149\n",
      "       spam       0.90      0.91      0.90       150\n",
      "\n",
      "avg / total       0.90      0.90      0.90       299\n",
      "\n",
      "6 and 8\n",
      "             precision    recall  f1-score   support\n",
      "\n",
      "        ham       0.92      0.89      0.91       149\n",
      "       spam       0.90      0.93      0.91       150\n",
      "\n",
      "avg / total       0.91      0.91      0.91       299\n",
      "\n",
      "6 and 9\n",
      "             precision    recall  f1-score   support\n",
      "\n",
      "        ham       0.94      0.87      0.90       149\n",
      "       spam       0.88      0.94      0.91       150\n",
      "\n",
      "avg / total       0.91      0.91      0.91       299\n",
      "\n",
      "6 and 10\n",
      "             precision    recall  f1-score   support\n",
      "\n",
      "        ham       0.92      0.87      0.89       149\n",
      "       spam       0.87      0.93      0.90       150\n",
      "\n",
      "avg / total       0.90      0.90      0.90       299\n",
      "\n",
      "7 and 1\n",
      "             precision    recall  f1-score   support\n",
      "\n",
      "        ham       0.92      0.91      0.92       149\n",
      "       spam       0.91      0.92      0.92       150\n",
      "\n",
      "avg / total       0.92      0.92      0.92       299\n",
      "\n",
      "7 and 2\n",
      "             precision    recall  f1-score   support\n",
      "\n",
      "        ham       0.91      0.91      0.91       149\n",
      "       spam       0.91      0.91      0.91       150\n",
      "\n",
      "avg / total       0.91      0.91      0.91       299\n",
      "\n",
      "7 and 3\n",
      "             precision    recall  f1-score   support\n",
      "\n",
      "        ham       0.90      0.92      0.91       149\n",
      "       spam       0.92      0.90      0.91       150\n",
      "\n",
      "avg / total       0.91      0.91      0.91       299\n",
      "\n",
      "7 and 4\n",
      "             precision    recall  f1-score   support\n",
      "\n",
      "        ham       0.87      0.91      0.89       149\n",
      "       spam       0.91      0.87      0.89       150\n",
      "\n",
      "avg / total       0.89      0.89      0.89       299\n",
      "\n",
      "7 and 5\n",
      "             precision    recall  f1-score   support\n",
      "\n",
      "        ham       0.93      0.94      0.93       149\n",
      "       spam       0.94      0.93      0.93       150\n",
      "\n",
      "avg / total       0.93      0.93      0.93       299\n",
      "\n",
      "7 and 6\n",
      "             precision    recall  f1-score   support\n",
      "\n",
      "        ham       0.91      0.94      0.92       149\n",
      "       spam       0.94      0.91      0.92       150\n",
      "\n",
      "avg / total       0.92      0.92      0.92       299\n",
      "\n",
      "7 and 7\n",
      "             precision    recall  f1-score   support\n",
      "\n",
      "        ham       0.91      0.90      0.91       149\n",
      "       spam       0.90      0.91      0.91       150\n",
      "\n",
      "avg / total       0.91      0.91      0.91       299\n",
      "\n",
      "7 and 8\n",
      "             precision    recall  f1-score   support\n",
      "\n",
      "        ham       0.92      0.90      0.91       149\n",
      "       spam       0.90      0.93      0.91       150\n",
      "\n",
      "avg / total       0.91      0.91      0.91       299\n",
      "\n",
      "7 and 9\n",
      "             precision    recall  f1-score   support\n",
      "\n",
      "        ham       0.94      0.87      0.90       149\n",
      "       spam       0.88      0.94      0.91       150\n",
      "\n",
      "avg / total       0.91      0.91      0.91       299\n",
      "\n",
      "7 and 10\n",
      "             precision    recall  f1-score   support\n",
      "\n",
      "        ham       0.92      0.87      0.89       149\n",
      "       spam       0.87      0.93      0.90       150\n",
      "\n",
      "avg / total       0.90      0.90      0.90       299\n",
      "\n",
      "8 and 1\n",
      "             precision    recall  f1-score   support\n",
      "\n",
      "        ham       0.91      0.91      0.91       149\n",
      "       spam       0.91      0.91      0.91       150\n",
      "\n",
      "avg / total       0.91      0.91      0.91       299\n",
      "\n",
      "8 and 2\n",
      "             precision    recall  f1-score   support\n",
      "\n",
      "        ham       0.90      0.92      0.91       149\n",
      "       spam       0.92      0.89      0.91       150\n",
      "\n",
      "avg / total       0.91      0.91      0.91       299\n",
      "\n",
      "8 and 3\n",
      "             precision    recall  f1-score   support\n",
      "\n",
      "        ham       0.90      0.92      0.91       149\n",
      "       spam       0.92      0.89      0.91       150\n",
      "\n",
      "avg / total       0.91      0.91      0.91       299\n",
      "\n",
      "8 and 4\n",
      "             precision    recall  f1-score   support\n",
      "\n",
      "        ham       0.87      0.91      0.89       149\n",
      "       spam       0.91      0.87      0.89       150\n",
      "\n",
      "avg / total       0.89      0.89      0.89       299\n",
      "\n",
      "8 and 5\n",
      "             precision    recall  f1-score   support\n",
      "\n",
      "        ham       0.93      0.94      0.93       149\n",
      "       spam       0.94      0.93      0.93       150\n",
      "\n",
      "avg / total       0.93      0.93      0.93       299\n",
      "\n",
      "8 and 6\n",
      "             precision    recall  f1-score   support\n",
      "\n",
      "        ham       0.91      0.94      0.92       149\n",
      "       spam       0.94      0.91      0.92       150\n",
      "\n",
      "avg / total       0.92      0.92      0.92       299\n",
      "\n",
      "8 and 7\n",
      "             precision    recall  f1-score   support\n",
      "\n",
      "        ham       0.91      0.89      0.90       149\n",
      "       spam       0.90      0.91      0.90       150\n",
      "\n",
      "avg / total       0.90      0.90      0.90       299\n",
      "\n",
      "8 and 8\n",
      "             precision    recall  f1-score   support\n",
      "\n",
      "        ham       0.92      0.89      0.91       149\n",
      "       spam       0.90      0.93      0.91       150\n",
      "\n",
      "avg / total       0.91      0.91      0.91       299\n",
      "\n",
      "8 and 9\n",
      "             precision    recall  f1-score   support\n",
      "\n",
      "        ham       0.94      0.87      0.90       149\n",
      "       spam       0.88      0.94      0.91       150\n",
      "\n",
      "avg / total       0.91      0.91      0.91       299\n",
      "\n",
      "8 and 10\n",
      "             precision    recall  f1-score   support\n",
      "\n",
      "        ham       0.92      0.87      0.89       149\n",
      "       spam       0.87      0.93      0.90       150\n",
      "\n",
      "avg / total       0.90      0.90      0.90       299\n",
      "\n",
      "9 and 1\n",
      "             precision    recall  f1-score   support\n",
      "\n",
      "        ham       0.91      0.91      0.91       149\n",
      "       spam       0.91      0.91      0.91       150\n",
      "\n",
      "avg / total       0.91      0.91      0.91       299\n",
      "\n",
      "9 and 2\n",
      "             precision    recall  f1-score   support\n",
      "\n",
      "        ham       0.91      0.92      0.91       149\n",
      "       spam       0.92      0.91      0.91       150\n",
      "\n",
      "avg / total       0.91      0.91      0.91       299\n",
      "\n",
      "9 and 3\n",
      "             precision    recall  f1-score   support\n",
      "\n",
      "        ham       0.92      0.92      0.92       149\n",
      "       spam       0.92      0.92      0.92       150\n",
      "\n",
      "avg / total       0.92      0.92      0.92       299\n",
      "\n",
      "9 and 4\n",
      "             precision    recall  f1-score   support\n",
      "\n",
      "        ham       0.87      0.92      0.90       149\n",
      "       spam       0.92      0.87      0.89       150\n",
      "\n",
      "avg / total       0.89      0.89      0.89       299\n",
      "\n",
      "9 and 5\n",
      "             precision    recall  f1-score   support\n",
      "\n",
      "        ham       0.93      0.93      0.93       149\n",
      "       spam       0.93      0.93      0.93       150\n",
      "\n",
      "avg / total       0.93      0.93      0.93       299\n",
      "\n",
      "9 and 6\n",
      "             precision    recall  f1-score   support\n",
      "\n",
      "        ham       0.91      0.95      0.93       149\n",
      "       spam       0.94      0.91      0.93       150\n",
      "\n",
      "avg / total       0.93      0.93      0.93       299\n",
      "\n",
      "9 and 7\n",
      "             precision    recall  f1-score   support\n",
      "\n",
      "        ham       0.91      0.90      0.91       149\n",
      "       spam       0.90      0.91      0.91       150\n",
      "\n",
      "avg / total       0.91      0.91      0.91       299\n",
      "\n",
      "9 and 8\n",
      "             precision    recall  f1-score   support\n",
      "\n",
      "        ham       0.92      0.90      0.91       149\n",
      "       spam       0.90      0.93      0.91       150\n",
      "\n",
      "avg / total       0.91      0.91      0.91       299\n",
      "\n",
      "9 and 9\n",
      "             precision    recall  f1-score   support\n",
      "\n",
      "        ham       0.93      0.87      0.90       149\n",
      "       spam       0.88      0.94      0.91       150\n",
      "\n",
      "avg / total       0.91      0.90      0.90       299\n",
      "\n",
      "9 and 10\n",
      "             precision    recall  f1-score   support\n",
      "\n",
      "        ham       0.92      0.87      0.89       149\n",
      "       spam       0.87      0.93      0.90       150\n",
      "\n",
      "avg / total       0.90      0.90      0.90       299\n",
      "\n",
      "10 and 1\n",
      "             precision    recall  f1-score   support\n",
      "\n",
      "        ham       0.91      0.92      0.92       149\n",
      "       spam       0.92      0.91      0.92       150\n",
      "\n",
      "avg / total       0.92      0.92      0.92       299\n",
      "\n",
      "10 and 2\n",
      "             precision    recall  f1-score   support\n",
      "\n",
      "        ham       0.91      0.93      0.92       149\n",
      "       spam       0.93      0.91      0.92       150\n",
      "\n",
      "avg / total       0.92      0.92      0.92       299\n",
      "\n",
      "10 and 3\n",
      "             precision    recall  f1-score   support\n",
      "\n",
      "        ham       0.93      0.91      0.92       149\n",
      "       spam       0.91      0.93      0.92       150\n",
      "\n",
      "avg / total       0.92      0.92      0.92       299\n",
      "\n",
      "10 and 4\n",
      "             precision    recall  f1-score   support\n",
      "\n",
      "        ham       0.88      0.93      0.90       149\n",
      "       spam       0.92      0.87      0.90       150\n",
      "\n",
      "avg / total       0.90      0.90      0.90       299\n",
      "\n",
      "10 and 5\n",
      "             precision    recall  f1-score   support\n",
      "\n",
      "        ham       0.92      0.93      0.93       149\n",
      "       spam       0.93      0.92      0.93       150\n",
      "\n",
      "avg / total       0.93      0.93      0.93       299\n",
      "\n",
      "10 and 6\n",
      "             precision    recall  f1-score   support\n",
      "\n",
      "        ham       0.91      0.94      0.92       149\n",
      "       spam       0.94      0.91      0.92       150\n",
      "\n",
      "avg / total       0.92      0.92      0.92       299\n",
      "\n",
      "10 and 7\n",
      "             precision    recall  f1-score   support\n",
      "\n",
      "        ham       0.91      0.90      0.91       149\n",
      "       spam       0.90      0.91      0.91       150\n",
      "\n",
      "avg / total       0.91      0.91      0.91       299\n",
      "\n",
      "10 and 8\n",
      "             precision    recall  f1-score   support\n",
      "\n",
      "        ham       0.92      0.89      0.91       149\n",
      "       spam       0.90      0.93      0.91       150\n",
      "\n",
      "avg / total       0.91      0.91      0.91       299\n",
      "\n",
      "10 and 9\n",
      "             precision    recall  f1-score   support\n",
      "\n",
      "        ham       0.94      0.87      0.90       149\n",
      "       spam       0.88      0.94      0.91       150\n",
      "\n",
      "avg / total       0.91      0.91      0.91       299\n",
      "\n",
      "10 and 10\n",
      "             precision    recall  f1-score   support\n",
      "\n",
      "        ham       0.92      0.87      0.89       149\n",
      "       spam       0.87      0.93      0.90       150\n",
      "\n",
      "avg / total       0.90      0.90      0.90       299\n",
      "\n"
     ]
    }
   ],
   "source": [
    "splits = [3, 4, 5, 6, 7, 8, 9, 10]\n",
    "leaves = [1, 2, 3, 4, 5, 6, 7, 8, 9, 10]\n",
    "results = {}\n",
    "for s in splits:\n",
    "    for l in leaves:\n",
    "        result = []\n",
    "        clf1 = DecisionTreeClassifier(min_samples_split=s, min_samples_leaf=l)\n",
    "        clf1.fit(msg_train3, label_train3)\n",
    "        label_pred_clf1 = clf1.predict(msg_test3)\n",
    "        print(str(s) + ' and ' + str(l))\n",
    "        print(classification_report(label_test3, label_pred_clf1))"
   ]
  },
  {
   "cell_type": "code",
   "execution_count": null,
   "metadata": {
    "collapsed": true
   },
   "outputs": [],
   "source": [
    "# Дерево лучше всего работает, когда min_samples_leaf = 5, и неважно чему равен min_samples_split.\n",
    "# Возьмем занчения 2 и 5."
   ]
  },
  {
   "cell_type": "code",
   "execution_count": 234,
   "metadata": {
    "collapsed": false
   },
   "outputs": [
    {
     "name": "stdout",
     "output_type": "stream",
     "text": [
      "             precision    recall  f1-score   support\n",
      "\n",
      "        ham       0.93      0.94      0.93       149\n",
      "       spam       0.94      0.93      0.93       150\n",
      "\n",
      "avg / total       0.93      0.93      0.93       299\n",
      "\n",
      "Confusion matrix, without normalization\n",
      "[[140   9]\n",
      " [ 11 139]]\n"
     ]
    },
    {
     "data": {
      "image/png": "[encoded data removed]",
      "text/plain": [
       "<matplotlib.figure.Figure at 0x11191208>"
      ]
     },
     "metadata": {},
     "output_type": "display_data"
    }
   ],
   "source": [
    "clf = DecisionTreeClassifier(min_samples_split=2, min_samples_leaf=5)\n",
    "clf.fit(msg_train3, label_train3)\n",
    "label_pred_clf = clf.predict(msg_test3)\n",
    "print(classification_report(label_test3, label_pred_clf))\n",
    "plt.figure()\n",
    "plot_confusion_matrix(confusion_matrix(label_test3, label_pred_clf), classes=clf.classes_,\n",
    "                      title='Confusion matrix, without normalization', cmap=plt.cm.BuGn)\n",
    "plt.show()"
   ]
  },
  {
   "cell_type": "code",
   "execution_count": 235,
   "metadata": {
    "collapsed": true
   },
   "outputs": [],
   "source": [
    "# Дерево работает хуже чем наивный байес по все метрикам."
   ]
  },
  {
   "cell_type": "code",
   "execution_count": 236,
   "metadata": {
    "collapsed": true
   },
   "outputs": [],
   "source": [
    "# Сравнение с лесом решений."
   ]
  },
  {
   "cell_type": "code",
   "execution_count": 237,
   "metadata": {
    "collapsed": false
   },
   "outputs": [
    {
     "name": "stdout",
     "output_type": "stream",
     "text": [
      "Estimators = 10\n",
      "             precision    recall  f1-score   support\n",
      "\n",
      "        ham       0.88      1.00      0.94       149\n",
      "       spam       1.00      0.87      0.93       150\n",
      "\n",
      "avg / total       0.94      0.93      0.93       299\n",
      "\n",
      "\n",
      "Estimators = 15\n",
      "             precision    recall  f1-score   support\n",
      "\n",
      "        ham       0.94      0.98      0.96       149\n",
      "       spam       0.98      0.93      0.96       150\n",
      "\n",
      "avg / total       0.96      0.96      0.96       299\n",
      "\n",
      "\n",
      "Estimators = 20\n",
      "             precision    recall  f1-score   support\n",
      "\n",
      "        ham       0.92      0.99      0.95       149\n",
      "       spam       0.99      0.92      0.95       150\n",
      "\n",
      "avg / total       0.96      0.95      0.95       299\n",
      "\n",
      "\n",
      "Estimators = 25\n",
      "             precision    recall  f1-score   support\n",
      "\n",
      "        ham       0.94      0.99      0.96       149\n",
      "       spam       0.99      0.93      0.96       150\n",
      "\n",
      "avg / total       0.96      0.96      0.96       299\n",
      "\n",
      "\n",
      "Estimators = 30\n",
      "             precision    recall  f1-score   support\n",
      "\n",
      "        ham       0.91      0.99      0.95       149\n",
      "       spam       0.99      0.90      0.94       150\n",
      "\n",
      "avg / total       0.95      0.95      0.95       299\n",
      "\n",
      "\n",
      "Estimators = 35\n",
      "             precision    recall  f1-score   support\n",
      "\n",
      "        ham       0.93      1.00      0.96       149\n",
      "       spam       1.00      0.92      0.96       150\n",
      "\n",
      "avg / total       0.96      0.96      0.96       299\n",
      "\n",
      "\n",
      "Estimators = 40\n",
      "             precision    recall  f1-score   support\n",
      "\n",
      "        ham       0.93      0.99      0.96       149\n",
      "       spam       0.99      0.93      0.96       150\n",
      "\n",
      "avg / total       0.96      0.96      0.96       299\n",
      "\n",
      "\n",
      "Estimators = 45\n",
      "             precision    recall  f1-score   support\n",
      "\n",
      "        ham       0.93      0.99      0.96       149\n",
      "       spam       0.99      0.93      0.96       150\n",
      "\n",
      "avg / total       0.96      0.96      0.96       299\n",
      "\n",
      "\n",
      "Estimators = 50\n",
      "             precision    recall  f1-score   support\n",
      "\n",
      "        ham       0.94      0.99      0.97       149\n",
      "       spam       0.99      0.94      0.97       150\n",
      "\n",
      "avg / total       0.97      0.97      0.97       299\n",
      "\n",
      "\n",
      "Estimators = 55\n",
      "             precision    recall  f1-score   support\n",
      "\n",
      "        ham       0.94      0.99      0.96       149\n",
      "       spam       0.99      0.94      0.96       150\n",
      "\n",
      "avg / total       0.96      0.96      0.96       299\n",
      "\n",
      "\n",
      "Estimators = 60\n",
      "             precision    recall  f1-score   support\n",
      "\n",
      "        ham       0.94      1.00      0.97       149\n",
      "       spam       1.00      0.93      0.97       150\n",
      "\n",
      "avg / total       0.97      0.97      0.97       299\n",
      "\n",
      "\n",
      "Estimators = 65\n",
      "             precision    recall  f1-score   support\n",
      "\n",
      "        ham       0.95      0.99      0.97       149\n",
      "       spam       0.99      0.95      0.97       150\n",
      "\n",
      "avg / total       0.97      0.97      0.97       299\n",
      "\n",
      "\n",
      "Estimators = 70\n",
      "             precision    recall  f1-score   support\n",
      "\n",
      "        ham       0.94      1.00      0.97       149\n",
      "       spam       1.00      0.94      0.97       150\n",
      "\n",
      "avg / total       0.97      0.97      0.97       299\n",
      "\n",
      "\n",
      "Estimators = 75\n",
      "             precision    recall  f1-score   support\n",
      "\n",
      "        ham       0.93      1.00      0.96       149\n",
      "       spam       1.00      0.92      0.96       150\n",
      "\n",
      "avg / total       0.96      0.96      0.96       299\n",
      "\n",
      "\n",
      "Estimators = 80\n",
      "             precision    recall  f1-score   support\n",
      "\n",
      "        ham       0.94      1.00      0.97       149\n",
      "       spam       1.00      0.93      0.97       150\n",
      "\n",
      "avg / total       0.97      0.97      0.97       299\n",
      "\n",
      "\n",
      "Estimators = 85\n",
      "             precision    recall  f1-score   support\n",
      "\n",
      "        ham       0.94      1.00      0.97       149\n",
      "       spam       1.00      0.93      0.97       150\n",
      "\n",
      "avg / total       0.97      0.97      0.97       299\n",
      "\n",
      "\n",
      "Estimators = 90\n",
      "             precision    recall  f1-score   support\n",
      "\n",
      "        ham       0.94      1.00      0.97       149\n",
      "       spam       1.00      0.93      0.97       150\n",
      "\n",
      "avg / total       0.97      0.97      0.97       299\n",
      "\n",
      "\n",
      "Estimators = 95\n",
      "             precision    recall  f1-score   support\n",
      "\n",
      "        ham       0.94      0.99      0.96       149\n",
      "       spam       0.99      0.93      0.96       150\n",
      "\n",
      "avg / total       0.96      0.96      0.96       299\n",
      "\n",
      "\n",
      "Estimators = 100\n",
      "             precision    recall  f1-score   support\n",
      "\n",
      "        ham       0.95      1.00      0.97       149\n",
      "       spam       1.00      0.95      0.97       150\n",
      "\n",
      "avg / total       0.97      0.97      0.97       299\n",
      "\n",
      "\n"
     ]
    }
   ],
   "source": [
    "estimators = [10, 15, 20, 25, 30, 35, 40, 45, 50, 55, 60, 65, 70, 75, 80, 85, 90, 95, 100]\n",
    "for e in estimators:\n",
    "    rf1 = RandomForestClassifier(n_estimators=e)\n",
    "    rf1.fit(msg_train3, label_train3)\n",
    "    label_pred_rf1 = rf1.predict(msg_test3)\n",
    "    print('Estimators = ' + str(e))\n",
    "    print(classification_report(label_test3, label_pred_rf1))\n",
    "    print('')"
   ]
  },
  {
   "cell_type": "code",
   "execution_count": 238,
   "metadata": {
    "collapsed": true
   },
   "outputs": [],
   "source": [
    "# Лес при нескольких n_estimators работает лучше всех. Возьмем 50."
   ]
  },
  {
   "cell_type": "code",
   "execution_count": 239,
   "metadata": {
    "collapsed": false
   },
   "outputs": [
    {
     "name": "stdout",
     "output_type": "stream",
     "text": [
      "             precision    recall  f1-score   support\n",
      "\n",
      "        ham       0.94      1.00      0.97       149\n",
      "       spam       1.00      0.94      0.97       150\n",
      "\n",
      "avg / total       0.97      0.97      0.97       299\n",
      "\n",
      "Confusion matrix, without normalization\n",
      "[[149   0]\n",
      " [  9 141]]\n"
     ]
    },
    {
     "data": {
      "image/png": "[encoded data removed]",
      "text/plain": [
       "<matplotlib.figure.Figure at 0x1117e160>"
      ]
     },
     "metadata": {},
     "output_type": "display_data"
    }
   ],
   "source": [
    "rf = RandomForestClassifier(n_estimators=50)\n",
    "rf.fit(msg_train3, label_train3)\n",
    "label_pred_rf = rf.predict(msg_test3)\n",
    "print(classification_report(label_test3, label_pred_rf))\n",
    "plt.figure()\n",
    "plot_confusion_matrix(confusion_matrix(label_test3, label_pred_rf), classes=rf.classes_,\n",
    "                      title='Confusion matrix, without normalization', cmap=plt.cm.PuBu)\n",
    "plt.show()"
   ]
  },
  {
   "cell_type": "code",
   "execution_count": 240,
   "metadata": {
    "collapsed": true
   },
   "outputs": [],
   "source": [
    "# По метрикам лес работает немного хуже, чем наивный байес. Но! Он определяет все нормальные письма правильно,\n",
    "# ни одно нормальное письмо не ушло в спам. Мне это немного важнее. Я уже об этом говорила. Поэтому я бы эту модель использовала."
   ]
  },
  {
   "cell_type": "code",
   "execution_count": 273,
   "metadata": {
    "collapsed": true
   },
   "outputs": [],
   "source": [
    "def plot_learning_curve(estimator, title, X, y, ylim=None, cv=None,\n",
    "                        n_jobs=1, train_sizes=np.linspace(.1, 1.0, 5)):\n",
    "    plt.figure()\n",
    "    plt.title(title)\n",
    "    if ylim is not None:\n",
    "        plt.ylim(*ylim)\n",
    "    plt.xlabel(\"Training examples\")\n",
    "    plt.ylabel(\"Score\")\n",
    "    train_sizes, train_scores, test_scores = learning_curve(\n",
    "        estimator, X, y, cv=cv, n_jobs=n_jobs, train_sizes=train_sizes)\n",
    "    train_scores_mean = np.mean(train_scores, axis=1)\n",
    "    train_scores_std = np.std(train_scores, axis=1)\n",
    "    test_scores_mean = np.mean(test_scores, axis=1)\n",
    "    test_scores_std = np.std(test_scores, axis=1)\n",
    "    plt.grid()\n",
    "\n",
    "    plt.fill_between(train_sizes, train_scores_mean - train_scores_std,\n",
    "                     train_scores_mean + train_scores_std, alpha=0.1,\n",
    "                     color=\"r\")\n",
    "    plt.fill_between(train_sizes, test_scores_mean - test_scores_std,\n",
    "                     test_scores_mean + test_scores_std, alpha=0.1, color=\"g\")\n",
    "    plt.plot(train_sizes, train_scores_mean, 'o-', color=\"r\",\n",
    "             label=\"Training score\")\n",
    "    plt.plot(train_sizes, test_scores_mean, 'o-', color=\"g\",\n",
    "             label=\"Cross-validation score\")\n",
    "\n",
    "    plt.legend(loc=\"best\")\n",
    "    return plt"
   ]
  },
  {
   "cell_type": "code",
   "execution_count": 265,
   "metadata": {
    "collapsed": false
   },
   "outputs": [],
   "source": [
    "msg, label = bow_transformer, messages1['label']"
   ]
  },
  {
   "cell_type": "code",
   "execution_count": 276,
   "metadata": {
    "collapsed": true
   },
   "outputs": [],
   "source": [
    "from sklearn.model_selection import ShuffleSplit\n",
    "from sklearn.model_selection import learning_curve"
   ]
  },
  {
   "cell_type": "code",
   "execution_count": 278,
   "metadata": {
    "collapsed": false
   },
   "outputs": [
    {
     "data": {
      "image/png": "[encoded data removed]",
      "text/plain": [
       "<matplotlib.figure.Figure at 0x12d28ef0>"
      ]
     },
     "metadata": {},
     "output_type": "display_data"
    },
    {
     "data": {
      "image/png": "[encoded data removed]",
      "text/plain": [
       "<matplotlib.figure.Figure at 0x12c03048>"
      ]
     },
     "metadata": {},
     "output_type": "display_data"
    },
    {
     "data": {
      "image/png": "[encoded data removed]",
      "text/plain": [
       "<matplotlib.figure.Figure at 0x12ded588>"
      ]
     },
     "metadata": {},
     "output_type": "display_data"
    }
   ],
   "source": [
    "title = \"Learning Curves for Best Naive Bayes\"\n",
    "cv = ShuffleSplit(n_splits=100, test_size=0.2, random_state=0)\n",
    "estimator = MultinomialNB()\n",
    "plot_learning_curve(estimator, title, msg, label, ylim=(0.7, 1.01), cv=cv, n_jobs=4)\n",
    "\n",
    "title = \"Learning Curves for Best Decision Tree\"\n",
    "cv = ShuffleSplit(n_splits=100, test_size=0.2, random_state=0)\n",
    "estimator = DecisionTreeClassifier(min_samples_split=2, min_samples_leaf=5)\n",
    "plot_learning_curve(estimator, title, msg, label, ylim=(0.7, 1.01), cv=cv, n_jobs=4)\n",
    "\n",
    "title = \"Learning Curves for Best Random Forest\"\n",
    "cv = ShuffleSplit(n_splits=100, test_size=0.2, random_state=0)\n",
    "estimator = RandomForestClassifier(n_estimators = 50)\n",
    "plot_learning_curve(estimator, title, msg, label, ylim=(0.7, 1.01), cv=cv, n_jobs=4)\n",
    "\n",
    "plt.show()"
   ]
  },
  {
   "cell_type": "code",
   "execution_count": 279,
   "metadata": {
    "collapsed": true
   },
   "outputs": [],
   "source": [
    "# Видно, что у дерева решений и training score, и cross-validating score самые низкие из трех. \n",
    "# У дерева решений лучший training score, а у наивного байеса самый лучший cross-validating score. \n",
    "# У наивного байеса все с большим количеством данных слегка ухудшался training score."
   ]
  },
  {
   "cell_type": "code",
   "execution_count": 303,
   "metadata": {
    "collapsed": false
   },
   "outputs": [
    {
     "data": {
      "text/html": [
       "<div>\n",
       "<table border=\"1\" class=\"dataframe\">\n",
       "  <thead>\n",
       "    <tr style=\"text-align: right;\">\n",
       "      <th></th>\n",
       "      <th>exclamation</th>\n",
       "    </tr>\n",
       "    <tr>\n",
       "      <th>label</th>\n",
       "      <th></th>\n",
       "    </tr>\n",
       "  </thead>\n",
       "  <tbody>\n",
       "    <tr>\n",
       "      <th>ham</th>\n",
       "      <td>0.159304</td>\n",
       "    </tr>\n",
       "    <tr>\n",
       "      <th>spam</th>\n",
       "      <td>0.729585</td>\n",
       "    </tr>\n",
       "  </tbody>\n",
       "</table>\n",
       "</div>"
      ],
      "text/plain": [
       "       exclamation\n",
       "label             \n",
       "ham       0.159304\n",
       "spam      0.729585"
      ]
     },
     "execution_count": 303,
     "metadata": {},
     "output_type": "execute_result"
    }
   ],
   "source": [
    "messages1['exclamation'] = messages1['message'].str.count('!')\n",
    "messages1.groupby(['label']).agg({'exclamation': 'mean'})"
   ]
  },
  {
   "cell_type": "code",
   "execution_count": 304,
   "metadata": {
    "collapsed": false
   },
   "outputs": [
    {
     "data": {
      "text/html": [
       "<div>\n",
       "<table border=\"1\" class=\"dataframe\">\n",
       "  <thead>\n",
       "    <tr style=\"text-align: right;\">\n",
       "      <th></th>\n",
       "      <th>percent</th>\n",
       "    </tr>\n",
       "    <tr>\n",
       "      <th>label</th>\n",
       "      <th></th>\n",
       "    </tr>\n",
       "  </thead>\n",
       "  <tbody>\n",
       "    <tr>\n",
       "      <th>ham</th>\n",
       "      <td>0.000000</td>\n",
       "    </tr>\n",
       "    <tr>\n",
       "      <th>spam</th>\n",
       "      <td>0.004016</td>\n",
       "    </tr>\n",
       "  </tbody>\n",
       "</table>\n",
       "</div>"
      ],
      "text/plain": [
       "        percent\n",
       "label          \n",
       "ham    0.000000\n",
       "spam   0.004016"
      ]
     },
     "execution_count": 304,
     "metadata": {},
     "output_type": "execute_result"
    }
   ],
   "source": [
    "messages1['percent'] = messages1['message'].str.count('%')\n",
    "messages1.groupby(['label']).agg({'percent': 'mean'})"
   ]
  },
  {
   "cell_type": "code",
   "execution_count": 305,
   "metadata": {
    "collapsed": false
   },
   "outputs": [
    {
     "data": {
      "text/html": [
       "<div>\n",
       "<table border=\"1\" class=\"dataframe\">\n",
       "  <thead>\n",
       "    <tr style=\"text-align: right;\">\n",
       "      <th></th>\n",
       "      <th>dash</th>\n",
       "    </tr>\n",
       "    <tr>\n",
       "      <th>label</th>\n",
       "      <th></th>\n",
       "    </tr>\n",
       "  </thead>\n",
       "  <tbody>\n",
       "    <tr>\n",
       "      <th>ham</th>\n",
       "      <td>0.049531</td>\n",
       "    </tr>\n",
       "    <tr>\n",
       "      <th>spam</th>\n",
       "      <td>0.330656</td>\n",
       "    </tr>\n",
       "  </tbody>\n",
       "</table>\n",
       "</div>"
      ],
      "text/plain": [
       "           dash\n",
       "label          \n",
       "ham    0.049531\n",
       "spam   0.330656"
      ]
     },
     "execution_count": 305,
     "metadata": {},
     "output_type": "execute_result"
    }
   ],
   "source": [
    "messages1['dash'] = messages1['message'].str.count('-')\n",
    "messages1.groupby(['label']).agg({'dash': 'mean'})"
   ]
  },
  {
   "cell_type": "code",
   "execution_count": 307,
   "metadata": {
    "collapsed": false
   },
   "outputs": [
    {
     "data": {
      "text/html": [
       "<div>\n",
       "<table border=\"1\" class=\"dataframe\">\n",
       "  <thead>\n",
       "    <tr style=\"text-align: right;\">\n",
       "      <th></th>\n",
       "      <th>at</th>\n",
       "    </tr>\n",
       "    <tr>\n",
       "      <th>label</th>\n",
       "      <th></th>\n",
       "    </tr>\n",
       "  </thead>\n",
       "  <tbody>\n",
       "    <tr>\n",
       "      <th>ham</th>\n",
       "      <td>0.002677</td>\n",
       "    </tr>\n",
       "    <tr>\n",
       "      <th>spam</th>\n",
       "      <td>0.033467</td>\n",
       "    </tr>\n",
       "  </tbody>\n",
       "</table>\n",
       "</div>"
      ],
      "text/plain": [
       "             at\n",
       "label          \n",
       "ham    0.002677\n",
       "spam   0.033467"
      ]
     },
     "execution_count": 307,
     "metadata": {},
     "output_type": "execute_result"
    }
   ],
   "source": [
    "messages1['at'] = messages1['message'].str.count('@')\n",
    "messages1.groupby(['label']).agg({'at': 'mean'})"
   ]
  },
  {
   "cell_type": "code",
   "execution_count": 341,
   "metadata": {
    "collapsed": false
   },
   "outputs": [
    {
     "data": {
      "text/html": [
       "<div>\n",
       "<table border=\"1\" class=\"dataframe\">\n",
       "  <thead>\n",
       "    <tr style=\"text-align: right;\">\n",
       "      <th></th>\n",
       "      <th>info</th>\n",
       "    </tr>\n",
       "    <tr>\n",
       "      <th>label</th>\n",
       "      <th></th>\n",
       "    </tr>\n",
       "  </thead>\n",
       "  <tbody>\n",
       "    <tr>\n",
       "      <th>ham</th>\n",
       "      <td>0.001339</td>\n",
       "    </tr>\n",
       "    <tr>\n",
       "      <th>spam</th>\n",
       "      <td>0.033467</td>\n",
       "    </tr>\n",
       "  </tbody>\n",
       "</table>\n",
       "</div>"
      ],
      "text/plain": [
       "           info\n",
       "label          \n",
       "ham    0.001339\n",
       "spam   0.033467"
      ]
     },
     "execution_count": 341,
     "metadata": {},
     "output_type": "execute_result"
    }
   ],
   "source": [
    "messages1['info'] = messages1['message'].str.count('info')\n",
    "messages1.groupby(['label']).agg({'info': 'mean'})"
   ]
  },
  {
   "cell_type": "code",
   "execution_count": 342,
   "metadata": {
    "collapsed": true
   },
   "outputs": [],
   "source": [
    "messages1['length'] = messages1['message'].map(lambda text: len(text))"
   ]
  },
  {
   "cell_type": "code",
   "execution_count": 346,
   "metadata": {
    "collapsed": false
   },
   "outputs": [
    {
     "data": {
      "text/html": [
       "<div>\n",
       "<table border=\"1\" class=\"dataframe\">\n",
       "  <thead>\n",
       "    <tr style=\"text-align: right;\">\n",
       "      <th></th>\n",
       "      <th>numbers</th>\n",
       "    </tr>\n",
       "    <tr>\n",
       "      <th>label</th>\n",
       "      <th></th>\n",
       "    </tr>\n",
       "  </thead>\n",
       "  <tbody>\n",
       "    <tr>\n",
       "      <th>ham</th>\n",
       "      <td>0.266399</td>\n",
       "    </tr>\n",
       "    <tr>\n",
       "      <th>spam</th>\n",
       "      <td>15.812584</td>\n",
       "    </tr>\n",
       "  </tbody>\n",
       "</table>\n",
       "</div>"
      ],
      "text/plain": [
       "         numbers\n",
       "label           \n",
       "ham     0.266399\n",
       "spam   15.812584"
      ]
     },
     "execution_count": 346,
     "metadata": {},
     "output_type": "execute_result"
    }
   ],
   "source": [
    "messages1['numbers'] = messages1['message'].str.count('[0-9]')\n",
    "messages1.groupby(['label']).agg({'numbers': 'mean'})"
   ]
  },
  {
   "cell_type": "code",
   "execution_count": 347,
   "metadata": {
    "collapsed": false
   },
   "outputs": [],
   "source": [
    "features = ['exclamation', 'at', 'percent', 'info', 'dash', 'length', 'numbers']"
   ]
  },
  {
   "cell_type": "code",
   "execution_count": 350,
   "metadata": {
    "collapsed": true
   },
   "outputs": [],
   "source": [
    "# Наивный Байес"
   ]
  },
  {
   "cell_type": "code",
   "execution_count": 348,
   "metadata": {
    "collapsed": false
   },
   "outputs": [
    {
     "name": "stdout",
     "output_type": "stream",
     "text": [
      "             precision    recall  f1-score   support\n",
      "\n",
      "        ham       0.91      0.97      0.94       146\n",
      "       spam       0.97      0.91      0.94       153\n",
      "\n",
      "avg / total       0.94      0.94      0.94       299\n",
      "\n",
      "Confusion matrix, without normalization\n",
      "[[142   4]\n",
      " [ 14 139]]\n"
     ]
    },
    {
     "data": {
      "image/png": "[encoded data removed]",
      "text/plain": [
       "<matplotlib.figure.Figure at 0x12aeaeb8>"
      ]
     },
     "metadata": {},
     "output_type": "display_data"
    }
   ],
   "source": [
    "msg_train7, msg_test7, label_train7, label_test7 = train_test_split(messages1[features], messages1['label'],\n",
    "                                                               test_size=0.2)\n",
    "spam_detector7 = MultinomialNB().fit(msg_train7, label_train7)\n",
    "label_pred_7 = spam_detector7.predict(msg_test7)\n",
    "print(classification_report(label_test7, label_pred_7))\n",
    "plt.figure()\n",
    "plot_confusion_matrix(confusion_matrix(label_test7, label_pred_7), classes=spam_detector7.classes_,\n",
    "                      title='Confusion matrix, without normalization', cmap=plt.cm.YlGn)\n",
    "plt.show()"
   ]
  },
  {
   "cell_type": "code",
   "execution_count": 349,
   "metadata": {
    "collapsed": true
   },
   "outputs": [],
   "source": [
    "# Результаты хуже для этих фичей чем для кол-ва вхождения слов, но не намного "
   ]
  },
  {
   "cell_type": "code",
   "execution_count": null,
   "metadata": {
    "collapsed": true
   },
   "outputs": [],
   "source": [
    "# Дерево решений"
   ]
  },
  {
   "cell_type": "code",
   "execution_count": 354,
   "metadata": {
    "collapsed": false
   },
   "outputs": [
    {
     "name": "stdout",
     "output_type": "stream",
     "text": [
      "             precision    recall  f1-score   support\n",
      "\n",
      "        ham       0.94      0.95      0.94       146\n",
      "       spam       0.95      0.94      0.94       153\n",
      "\n",
      "avg / total       0.94      0.94      0.94       299\n",
      "\n",
      "Confusion matrix, without normalization\n",
      "[[138   8]\n",
      " [  9 144]]\n"
     ]
    },
    {
     "data": {
      "image/png": "[encoded data removed]",
      "text/plain": [
       "<matplotlib.figure.Figure at 0x12fb0320>"
      ]
     },
     "metadata": {},
     "output_type": "display_data"
    }
   ],
   "source": [
    "clf2 = DecisionTreeClassifier(min_samples_split=2, min_samples_leaf=5)\n",
    "clf2.fit(msg_train7, label_train7)\n",
    "label_pred_clf2 = clf2.predict(msg_test7)\n",
    "print(classification_report(label_test7, label_pred_clf2))\n",
    "plt.figure()\n",
    "plot_confusion_matrix(confusion_matrix(label_test7, label_pred_clf2), classes=clf2.classes_,\n",
    "                      title='Confusion matrix, without normalization', cmap=plt.cm.YlGn)\n",
    "plt.show()"
   ]
  },
  {
   "cell_type": "code",
   "execution_count": 355,
   "metadata": {
    "collapsed": true
   },
   "outputs": [],
   "source": [
    "# А вот результаты этого дерева лучше (немного) чем результаты того дерева. И это я даже не искала лучшее дерево."
   ]
  },
  {
   "cell_type": "code",
   "execution_count": 358,
   "metadata": {
    "collapsed": false
   },
   "outputs": [
    {
     "name": "stdout",
     "output_type": "stream",
     "text": [
      "             precision    recall  f1-score   support\n",
      "\n",
      "        ham       0.92      0.95      0.94       146\n",
      "       spam       0.95      0.92      0.94       153\n",
      "\n",
      "avg / total       0.94      0.94      0.94       299\n",
      "\n",
      "Confusion matrix, without normalization\n",
      "[[139   7]\n",
      " [ 12 141]]\n"
     ]
    },
    {
     "data": {
      "image/png": "[encoded data removed]",
      "text/plain": [
       "<matplotlib.figure.Figure at 0x12fb0cf8>"
      ]
     },
     "metadata": {},
     "output_type": "display_data"
    }
   ],
   "source": [
    "rf2 = RandomForestClassifier(n_estimators=50)\n",
    "rf2.fit(msg_train7, label_train7)\n",
    "label_pred_rf2 = rf2.predict(msg_test7)\n",
    "print(classification_report(label_test7, label_pred_rf2))\n",
    "plt.figure()\n",
    "plot_confusion_matrix(confusion_matrix(label_test7, label_pred_rf2), classes=rf2.classes_,\n",
    "                      title='Confusion matrix, without normalization', cmap=plt.cm.YlGn)\n",
    "plt.show()"
   ]
  },
  {
   "cell_type": "code",
   "execution_count": null,
   "metadata": {
    "collapsed": true
   },
   "outputs": [],
   "source": [
    "# Результаты лесв хуже чем того леса. Но я не искала лучший лес в этот раз."
   ]
  }
 ],
 "metadata": {
  "kernelspec": {
   "display_name": "Python 3",
   "language": "python",
   "name": "python3"
  },
  "language_info": {
   "codemirror_mode": {
    "name": "ipython",
    "version": 3
   },
   "file_extension": ".py",
   "mimetype": "text/x-python",
   "name": "python",
   "nbconvert_exporter": "python",
   "pygments_lexer": "ipython3",
   "version": "3.6.0"
  }
 },
 "nbformat": 4,
 "nbformat_minor": 2
}
